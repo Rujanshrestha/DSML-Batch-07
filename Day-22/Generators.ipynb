{
 "cells": [
  {
   "cell_type": "markdown",
   "id": "5d857c18-45ea-4e23-935a-d12873bc71c8",
   "metadata": {},
   "source": [
    "# Python Generators\n",
    "\n",
    "A generator in Python is a type of iterator that generates values on-the-fly as they are requested. This means that generators are a more memory-efficient way of generating large sequences of values, as they only generate the values as they are needed, rather than generating them all at once and storing them in memory.\n",
    "\n",
    "Here's a step-by-step tutorial on how to create and use generators in Python:"
   ]
  },
  {
   "cell_type": "markdown",
   "id": "79642f22-746e-40a2-8c3e-0620e4904be3",
   "metadata": {},
   "source": [
    "### Step 1: Define a generator function using the `yield` keyword\n",
    "\n",
    "A generator function is a special type of function that uses the `yield` keyword to generate values. The `yield` keyword suspends the function's execution and returns a value to the caller, but it also remembers the function's state so that it can resume execution where it left off the next time it is called.\n",
    "\n",
    "For example, here's a simple generator function that generates a sequence of numbers:"
   ]
  },
  {
   "cell_type": "code",
   "execution_count": 19,
   "id": "97bc2533-259d-40e0-9b9d-110d9ab250e2",
   "metadata": {},
   "outputs": [],
   "source": [
    "def number_generator(start, end):\n",
    "    for num in range(start, end +1):\n",
    "        yield num"
   ]
  },
  {
   "cell_type": "markdown",
   "id": "eb72128e-d2dd-4cdf-879a-09f0763201c9",
   "metadata": {},
   "source": [
    "In this example, the `number_generator()` function takes two arguments, `start` and `end`, and generates a sequence of numbers from start to end. The `yield` keyword is used to return each number in the sequence, and to remember the function's state so that it can resume execution where it left off the next time it is called.\n",
    "\n",
    "### Step 2: Create a generator object using the generator function\n",
    "\n",
    "To create a generator object, we simply call the generator function. This returns a generator object, which we can use to generate the values on-the-fly."
   ]
  },
  {
   "cell_type": "code",
   "execution_count": 20,
   "id": "1adfd08d-bf2b-4621-a3af-cc9f651ca446",
   "metadata": {},
   "outputs": [],
   "source": [
    "gen = number_generator(10,23)"
   ]
  },
  {
   "cell_type": "code",
   "execution_count": 21,
   "id": "1f2419d5-2006-4c8d-8db8-d5d443c530dd",
   "metadata": {},
   "outputs": [
    {
     "data": {
      "text/plain": [
       "<generator object number_generator at 0x72eac6787140>"
      ]
     },
     "execution_count": 21,
     "metadata": {},
     "output_type": "execute_result"
    }
   ],
   "source": [
    "gen"
   ]
  },
  {
   "cell_type": "markdown",
   "id": "ae4d0876-448d-493b-af6b-14691beaa471",
   "metadata": {},
   "source": [
    "In this example, we create a generator object called `gen` by calling the `number_generator()` function with `start=10` and `end=23`.\n",
    "\n",
    "### Step 3: Use the generator object to generate the values on-the-fly\n",
    "\n",
    "We can use the `next()` function to generate the next value in the sequence on-the-fly. Each time we call `next()` on the generator object, the generator function resumes execution where it left off and generates the next value in the sequence."
   ]
  },
  {
   "cell_type": "code",
   "execution_count": 17,
   "id": "25dcae8e-2e7d-4571-9890-e3297f64f486",
   "metadata": {},
   "outputs": [
    {
     "data": {
      "text/plain": [
       "23"
      ]
     },
     "execution_count": 17,
     "metadata": {},
     "output_type": "execute_result"
    }
   ],
   "source": [
    "next(gen)"
   ]
  },
  {
   "cell_type": "code",
   "execution_count": 18,
   "id": "783270ef-bfac-41e1-88c5-10174de36972",
   "metadata": {},
   "outputs": [
    {
     "ename": "StopIteration",
     "evalue": "",
     "output_type": "error",
     "traceback": [
      "\u001b[0;31m---------------------------------------------------------------------------\u001b[0m",
      "\u001b[0;31mStopIteration\u001b[0m                             Traceback (most recent call last)",
      "Cell \u001b[0;32mIn[18], line 1\u001b[0m\n\u001b[0;32m----> 1\u001b[0m \u001b[38;5;28;43mnext\u001b[39;49m\u001b[43m(\u001b[49m\u001b[43mgen\u001b[49m\u001b[43m)\u001b[49m\n",
      "\u001b[0;31mStopIteration\u001b[0m: "
     ]
    }
   ],
   "source": [
    "next(gen)"
   ]
  },
  {
   "cell_type": "markdown",
   "id": "d868f6cb-5d6f-41f3-b817-02c9ecb24570",
   "metadata": {},
   "source": [
    "In this example, we use the `next()` function to generate each value in the sequence on-the-fly, and print it to the console.\n",
    "\n",
    "### Step 4: Use a for loop to generate all the values in the sequence\n",
    "\n",
    "We can use a `for` loop to generate all the values in the sequence without having to use the `next()` function explicitly."
   ]
  },
  {
   "cell_type": "code",
   "execution_count": 22,
   "id": "555f4e66-f019-45a1-8dc6-bd25e7494e54",
   "metadata": {},
   "outputs": [
    {
     "name": "stdout",
     "output_type": "stream",
     "text": [
      "1\n",
      "2\n",
      "3\n",
      "4\n",
      "5\n",
      "6\n"
     ]
    }
   ],
   "source": [
    "my_gen = number_generator(1,6)\n",
    "\n",
    "for num in my_gen:\n",
    "    print(num)"
   ]
  },
  {
   "cell_type": "code",
   "execution_count": null,
   "id": "7b15d7fa-da38-48b0-bb65-933cbba9ff82",
   "metadata": {},
   "outputs": [],
   "source": []
  },
  {
   "cell_type": "markdown",
   "id": "ee110429-b59f-4b0a-8d54-53c0766d1e33",
   "metadata": {},
   "source": [
    "## Generator, Alternative"
   ]
  },
  {
   "cell_type": "code",
   "execution_count": 23,
   "id": "2c96afd9-1de4-49ac-a0f1-0b0c2f61f72c",
   "metadata": {},
   "outputs": [],
   "source": [
    "gen = (i for i in range(1,5))"
   ]
  },
  {
   "cell_type": "code",
   "execution_count": 24,
   "id": "e82e234a-9a86-4bd1-8a7f-d8fb86dd0df4",
   "metadata": {},
   "outputs": [
    {
     "data": {
      "text/plain": [
       "<generator object <genexpr> at 0x72eac6787d10>"
      ]
     },
     "execution_count": 24,
     "metadata": {},
     "output_type": "execute_result"
    }
   ],
   "source": [
    "gen"
   ]
  },
  {
   "cell_type": "code",
   "execution_count": null,
   "id": "95d6a7db-ee3b-4ace-ae32-3c7a5540676c",
   "metadata": {},
   "outputs": [],
   "source": []
  },
  {
   "cell_type": "code",
   "execution_count": null,
   "id": "061a22a5-28e8-4558-953b-2b085ef3e667",
   "metadata": {},
   "outputs": [],
   "source": []
  },
  {
   "cell_type": "code",
   "execution_count": 36,
   "id": "97de2a23-93c4-4dfa-9a9f-bee264ea996e",
   "metadata": {},
   "outputs": [],
   "source": [
    "## Given number is prime or not\n",
    "# https://www.geeksforgeeks.org/dsa/why-do-we-check-up-to-the-square-root-of-a-number-to-determine-if-that-number-is-prime/\n",
    "def is_prime(num):\n",
    "    if num <= 1:\n",
    "        return False\n",
    "    for i in range(2, int(num**0.5) +1):\n",
    "        if num % i == 0:\n",
    "            return False\n",
    "    return True\n",
    "\n",
    "def prime_generator():\n",
    "    n = 1\n",
    "    while True:\n",
    "        if is_prime(n):\n",
    "            yield n\n",
    "        n += 1"
   ]
  },
  {
   "cell_type": "code",
   "execution_count": 34,
   "id": "5c22f69d-7e7f-4aa6-b947-07dfa3ac6f32",
   "metadata": {},
   "outputs": [],
   "source": [
    "prime_gen = prime_generator()"
   ]
  },
  {
   "cell_type": "code",
   "execution_count": 35,
   "id": "15ecc819-436d-4911-9dee-70baea64dc02",
   "metadata": {},
   "outputs": [
    {
     "name": "stdout",
     "output_type": "stream",
     "text": [
      "2\n",
      "3\n",
      "5\n",
      "7\n",
      "11\n",
      "13\n",
      "17\n",
      "19\n",
      "23\n",
      "29\n",
      "31\n",
      "37\n",
      "41\n",
      "43\n",
      "47\n",
      "53\n",
      "59\n",
      "61\n",
      "67\n",
      "71\n",
      "73\n",
      "79\n",
      "83\n",
      "89\n",
      "97\n",
      "101\n"
     ]
    }
   ],
   "source": [
    "for prime in prime_gen:\n",
    "    print(prime)\n",
    "    if prime > 100:\n",
    "        break"
   ]
  },
  {
   "cell_type": "code",
   "execution_count": null,
   "id": "5c6846c8-1730-4d16-8698-d2c0f3620303",
   "metadata": {},
   "outputs": [],
   "source": []
  }
 ],
 "metadata": {
  "kernelspec": {
   "display_name": "Python 3 (ipykernel)",
   "language": "python",
   "name": "python3"
  },
  "language_info": {
   "codemirror_mode": {
    "name": "ipython",
    "version": 3
   },
   "file_extension": ".py",
   "mimetype": "text/x-python",
   "name": "python",
   "nbconvert_exporter": "python",
   "pygments_lexer": "ipython3",
   "version": "3.10.12"
  }
 },
 "nbformat": 4,
 "nbformat_minor": 5
}
