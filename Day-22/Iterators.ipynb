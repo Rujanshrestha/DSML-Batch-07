{
 "cells": [
  {
   "cell_type": "markdown",
   "id": "d9edb8a0-fe0f-4cf3-a48a-25914209e11d",
   "metadata": {},
   "source": [
    "# Python Iterators\n",
    "\n",
    "An iterator is an object that can be iterated (looped) upon, meaning we can traverse through all the values in the iterator one by one. An iterator is an object that implements the `__iter__()` and `__next__()` methods.\n",
    "\n",
    "The `__iter__()` method returns the iterator object itself. It is used to initialize the iteration, and it is called when the `iter()` function is called on an iterator object.\n",
    "\n",
    "The `__next__()` method returns the next value in the iteration. It is called when the `next()` function is called on an iterator object."
   ]
  },
  {
   "cell_type": "code",
   "execution_count": 1,
   "id": "86ab73ae-1151-438f-8fce-c905898242ae",
   "metadata": {},
   "outputs": [],
   "source": [
    "class Fibonacci:\n",
    "    def __init__(self, limit):\n",
    "        self.limit = limit\n",
    "\n",
    "        self.current = 0\n",
    "        self.next = 1\n",
    "        self.step = 0\n",
    "\n",
    "    def __iter__(self):\n",
    "        return self\n",
    "\n",
    "    def __next__(self):\n",
    "        if self.step >= self.limit:\n",
    "            raise StopIteration\n",
    "\n",
    "        result = self.current\n",
    "        self.current, self.next = self.next, self.current + self.next\n",
    "        self.step += 1\n",
    "\n",
    "        return result\n",
    "        "
   ]
  },
  {
   "cell_type": "code",
   "execution_count": 2,
   "id": "4928b46b-e6f6-473a-a730-ba07964efd24",
   "metadata": {},
   "outputs": [],
   "source": [
    "fib = Fibonacci(10)"
   ]
  },
  {
   "cell_type": "code",
   "execution_count": 5,
   "id": "3f1c2a38-b95f-4b53-bc94-06c00d629554",
   "metadata": {},
   "outputs": [
    {
     "name": "stdout",
     "output_type": "stream",
     "text": [
      "0\n",
      "1\n",
      "1\n",
      "2\n",
      "3\n",
      "5\n",
      "8\n",
      "13\n",
      "21\n",
      "34\n"
     ]
    }
   ],
   "source": [
    "for num in fib:\n",
    "    print(num)"
   ]
  },
  {
   "cell_type": "markdown",
   "id": "fcb419b6-e86f-4943-8c7d-d6b71995f467",
   "metadata": {},
   "source": [
    "In this example, we define an iterator called `Fibonacci` that generates the Fibonacci sequence up to a given limit. The `__init__()` method initializes the iterator with the limit, the current value, and the next value. The `__iter__()` method returns the iterator object itself, and the `__next__()` method returns the next value in the sequence. The `StopIteration` exception is raised when the iteration is complete.\n",
    "\n",
    "We create an instance of the `Fibonacci` iterator with a limit of `10`, and then loop over it using a `for` loop. The `for` loop automatically calls the `iter()` function to get the iterator object and the `next()` function to get the next value in the iteration.\n",
    "\n",
    "Python also provides built-in iterators, such as the `range()` function, that can be used to generate a sequence of numbers. The `range()` function returns an iterator that generates a sequence of numbers from a starting value to an ending value."
   ]
  },
  {
   "cell_type": "code",
   "execution_count": null,
   "id": "691ff89c-efe0-43dd-9a3f-82d420c2b45a",
   "metadata": {},
   "outputs": [],
   "source": []
  }
 ],
 "metadata": {
  "kernelspec": {
   "display_name": "Python 3 (ipykernel)",
   "language": "python",
   "name": "python3"
  },
  "language_info": {
   "codemirror_mode": {
    "name": "ipython",
    "version": 3
   },
   "file_extension": ".py",
   "mimetype": "text/x-python",
   "name": "python",
   "nbconvert_exporter": "python",
   "pygments_lexer": "ipython3",
   "version": "3.10.12"
  }
 },
 "nbformat": 4,
 "nbformat_minor": 5
}
