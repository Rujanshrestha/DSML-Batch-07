{
 "cells": [
  {
   "cell_type": "markdown",
   "id": "a9038fe3-9c3d-4473-acb7-0bd42c0c40cb",
   "metadata": {},
   "source": [
    "# Python Property Decorator\n",
    "\n",
    "In Python, the `@property` decorator is used to define a getters, setters, and deleters method for a class attribute. They are used to ensure that the attributes of a class are accessed and modified in a controlled manner."
   ]
  },
  {
   "cell_type": "markdown",
   "id": "e5424294-4992-4fd1-9793-c6ae9191a30f",
   "metadata": {},
   "source": [
    "## Getter\n",
    "\n",
    "A getter method is used to get the value of an attribute. It is called automatically when the attribute is accessed. In Python, we can define a getter method using the `@property` decorator."
   ]
  },
  {
   "cell_type": "code",
   "execution_count": 12,
   "id": "0855296b-ce6f-40a0-9012-d1309e29a03f",
   "metadata": {},
   "outputs": [],
   "source": [
    "class Person:\n",
    "    def __init__(self, name):\n",
    "        self.__fullname = name\n",
    "        self.number = 0\n",
    "\n",
    "    @property\n",
    "    def name(self):\n",
    "        print(\"Getting Name\")\n",
    "        return self.__fullname"
   ]
  },
  {
   "cell_type": "code",
   "execution_count": 13,
   "id": "6edea492-8dc5-4e06-bb96-59bc71350403",
   "metadata": {},
   "outputs": [],
   "source": [
    "person = Person(\"Han Solo\")"
   ]
  },
  {
   "cell_type": "code",
   "execution_count": 14,
   "id": "1ef50345-ffd3-403f-a1f2-b6eb171f7db4",
   "metadata": {},
   "outputs": [
    {
     "name": "stdout",
     "output_type": "stream",
     "text": [
      "Getting Name\n"
     ]
    },
    {
     "data": {
      "text/plain": [
       "'Han Solo'"
      ]
     },
     "execution_count": 14,
     "metadata": {},
     "output_type": "execute_result"
    }
   ],
   "source": [
    "person.name"
   ]
  },
  {
   "cell_type": "markdown",
   "id": "cd29b3a7-1d51-49da-8802-6118936bb124",
   "metadata": {},
   "source": [
    "In this example, `Person` is a class thaattribute. When we create an instance of `Person` and access the `name` attribute with `person.name`, the `@property` decorator automatically calls the `name` method and returns its result.\n",
    "\n",
    "Notice that the `name` method was called automatically when we accessed the `name` attribute.t has an attribute `_name` and a method `name` decorated with `@property`. The `name` method simply returns the value of the `_name` "
   ]
  },
  {
   "cell_type": "code",
   "execution_count": 16,
   "id": "b3c34daa-c587-46cc-b48b-16c62d8f8991",
   "metadata": {},
   "outputs": [
    {
     "ename": "AttributeError",
     "evalue": "can't set attribute 'name'",
     "output_type": "error",
     "traceback": [
      "\u001b[0;31m---------------------------------------------------------------------------\u001b[0m",
      "\u001b[0;31mAttributeError\u001b[0m                            Traceback (most recent call last)",
      "Cell \u001b[0;32mIn[16], line 1\u001b[0m\n\u001b[0;32m----> 1\u001b[0m \u001b[43mperson\u001b[49m\u001b[38;5;241;43m.\u001b[39;49m\u001b[43mname\u001b[49m \u001b[38;5;241m=\u001b[39m \u001b[38;5;241m9\u001b[39m\n",
      "\u001b[0;31mAttributeError\u001b[0m: can't set attribute 'name'"
     ]
    }
   ],
   "source": [
    "person.name = 9"
   ]
  },
  {
   "cell_type": "markdown",
   "id": "ad175ffe-4334-416d-8cc3-fdf431fb6811",
   "metadata": {},
   "source": [
    "## Setter\n",
    "\n",
    "A setter method is used to set the value of an attribute. It is called automatically when the attribute is assigned a new value. In Python, we can define a setter method using the `@property` decorator with the `@setter` decorator."
   ]
  },
  {
   "cell_type": "code",
   "execution_count": 24,
   "id": "c3241f19-9fdc-421f-92ee-7e81ef92842b",
   "metadata": {},
   "outputs": [],
   "source": [
    "class Person:\n",
    "    def __init__(self, name):\n",
    "        self.__fullname = name\n",
    "\n",
    "    @property\n",
    "    def name(self):\n",
    "        print(\"Getting Name\")\n",
    "        return self.__fullname\n",
    "\n",
    "    @name.setter\n",
    "    def name(self, value):\n",
    "        print(\"Setting Name\")\n",
    "        self.__fullname = value\n"
   ]
  },
  {
   "cell_type": "code",
   "execution_count": 25,
   "id": "ec3583fa-606c-4f4c-a55a-252432218e80",
   "metadata": {},
   "outputs": [],
   "source": [
    "person = Person(\"Jack Sparrow\")"
   ]
  },
  {
   "cell_type": "code",
   "execution_count": 26,
   "id": "fd18c6fe-f1f4-40d9-bbaf-8020800c1eee",
   "metadata": {},
   "outputs": [
    {
     "name": "stdout",
     "output_type": "stream",
     "text": [
      "Getting Name\n"
     ]
    },
    {
     "data": {
      "text/plain": [
       "'Jack Sparrow'"
      ]
     },
     "execution_count": 26,
     "metadata": {},
     "output_type": "execute_result"
    }
   ],
   "source": [
    "person.name"
   ]
  },
  {
   "cell_type": "code",
   "execution_count": 27,
   "id": "46ccbab6-437e-4bf9-b80c-83f53b1ca35b",
   "metadata": {},
   "outputs": [
    {
     "name": "stdout",
     "output_type": "stream",
     "text": [
      "Setting Name\n"
     ]
    }
   ],
   "source": [
    "person.name = \"Hari Bhadur\""
   ]
  },
  {
   "cell_type": "code",
   "execution_count": 28,
   "id": "89749e1d-f7a6-4389-9296-2c88173ec39d",
   "metadata": {},
   "outputs": [
    {
     "name": "stdout",
     "output_type": "stream",
     "text": [
      "Getting Name\n"
     ]
    },
    {
     "data": {
      "text/plain": [
       "'Hari Bhadur'"
      ]
     },
     "execution_count": 28,
     "metadata": {},
     "output_type": "execute_result"
    }
   ],
   "source": [
    "person.name"
   ]
  },
  {
   "cell_type": "markdown",
   "id": "d1d47d95-97e5-4a69-a4db-8b6b8c99edbf",
   "metadata": {},
   "source": [
    "In this example, `Person` is a class that has an attribute `_name`, a method `name` decorated with `@property`, and a method `name` decorated with `@name.setter`. The `name` method gets and sets the `_name` attribute. When we create an instance of `Person` and access the `name` attribute with `person.name`, the `@property` decorator automatically calls the `name` method and returns its result. When we set the `name` attribute with `person.name = \"Bob\"`, the `@name.setter` decorator automatically calls the `name` method with the value of \"Bob\".\n",
    "\n",
    "Notice that the name method was called automatically when we accessed or set the name attribute."
   ]
  },
  {
   "cell_type": "markdown",
   "id": "a0a27338-e49d-4b94-b6d2-0b453f26ed6e",
   "metadata": {},
   "source": [
    "## Deleter\n",
    "\n",
    "A deleter method is used to delete an attribute. It is called automatically when the `del` statement is used to delete the attribute. In Python, we can define a deleter method using the `@property` decorator with the `@deleter` decorator."
   ]
  },
  {
   "cell_type": "code",
   "execution_count": 29,
   "id": "6352e8a9-870f-411b-88c3-e07deea70ee7",
   "metadata": {},
   "outputs": [],
   "source": [
    "class Person:\n",
    "    def __init__(self, name):\n",
    "        self.__fullname = name\n",
    "\n",
    "    @property\n",
    "    def name(self):\n",
    "        print(\"Getting Name\")\n",
    "        return self.__fullname\n",
    "\n",
    "    @name.setter\n",
    "    def name(self, value):\n",
    "        print(\"Setting Name\")\n",
    "        self.__fullname = value\n",
    "    \n",
    "    @name.deleter\n",
    "    def name(self):\n",
    "        print(\"Deleting Name\")\n",
    "        del self.__fullname\n",
    "        "
   ]
  },
  {
   "cell_type": "code",
   "execution_count": 30,
   "id": "649978f4-a3b7-4229-880c-a808e37e13fe",
   "metadata": {},
   "outputs": [],
   "source": [
    "person = Person(\"Jhon Cena\")"
   ]
  },
  {
   "cell_type": "code",
   "execution_count": 31,
   "id": "4255e806-8350-4392-8bb0-fe732431765c",
   "metadata": {},
   "outputs": [
    {
     "name": "stdout",
     "output_type": "stream",
     "text": [
      "Getting Name\n"
     ]
    },
    {
     "data": {
      "text/plain": [
       "'Jhon Cena'"
      ]
     },
     "execution_count": 31,
     "metadata": {},
     "output_type": "execute_result"
    }
   ],
   "source": [
    "person.name"
   ]
  },
  {
   "cell_type": "code",
   "execution_count": 32,
   "id": "850c08f2-4f28-4d07-9df8-9511c9028738",
   "metadata": {},
   "outputs": [
    {
     "name": "stdout",
     "output_type": "stream",
     "text": [
      "Deleting Name\n"
     ]
    }
   ],
   "source": [
    "del person.name"
   ]
  },
  {
   "cell_type": "code",
   "execution_count": 33,
   "id": "9534b86f-0962-41da-b652-9a3165366869",
   "metadata": {},
   "outputs": [
    {
     "name": "stdout",
     "output_type": "stream",
     "text": [
      "Getting Name\n"
     ]
    },
    {
     "ename": "AttributeError",
     "evalue": "'Person' object has no attribute '_Person__fullname'",
     "output_type": "error",
     "traceback": [
      "\u001b[0;31m---------------------------------------------------------------------------\u001b[0m",
      "\u001b[0;31mAttributeError\u001b[0m                            Traceback (most recent call last)",
      "Cell \u001b[0;32mIn[33], line 1\u001b[0m\n\u001b[0;32m----> 1\u001b[0m \u001b[43mperson\u001b[49m\u001b[38;5;241;43m.\u001b[39;49m\u001b[43mname\u001b[49m\n",
      "Cell \u001b[0;32mIn[29], line 8\u001b[0m, in \u001b[0;36mPerson.name\u001b[0;34m(self)\u001b[0m\n\u001b[1;32m      5\u001b[0m \u001b[38;5;129m@property\u001b[39m\n\u001b[1;32m      6\u001b[0m \u001b[38;5;28;01mdef\u001b[39;00m \u001b[38;5;21mname\u001b[39m(\u001b[38;5;28mself\u001b[39m):\n\u001b[1;32m      7\u001b[0m     \u001b[38;5;28mprint\u001b[39m(\u001b[38;5;124m\"\u001b[39m\u001b[38;5;124mGetting Name\u001b[39m\u001b[38;5;124m\"\u001b[39m)\n\u001b[0;32m----> 8\u001b[0m     \u001b[38;5;28;01mreturn\u001b[39;00m \u001b[38;5;28;43mself\u001b[39;49m\u001b[38;5;241;43m.\u001b[39;49m\u001b[43m__fullname\u001b[49m\n",
      "\u001b[0;31mAttributeError\u001b[0m: 'Person' object has no attribute '_Person__fullname'"
     ]
    }
   ],
   "source": [
    "person.name"
   ]
  },
  {
   "cell_type": "code",
   "execution_count": null,
   "id": "68df654e-2d27-4489-a62a-ef9e5716ce5f",
   "metadata": {},
   "outputs": [],
   "source": []
  }
 ],
 "metadata": {
  "kernelspec": {
   "display_name": "Python 3 (ipykernel)",
   "language": "python",
   "name": "python3"
  },
  "language_info": {
   "codemirror_mode": {
    "name": "ipython",
    "version": 3
   },
   "file_extension": ".py",
   "mimetype": "text/x-python",
   "name": "python",
   "nbconvert_exporter": "python",
   "pygments_lexer": "ipython3",
   "version": "3.10.12"
  }
 },
 "nbformat": 4,
 "nbformat_minor": 5
}
