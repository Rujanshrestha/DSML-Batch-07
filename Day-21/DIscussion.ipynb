{
 "cells": [
  {
   "cell_type": "code",
   "execution_count": 2,
   "id": "886ec049-cdf3-4aa8-a75e-b9dce78b5e22",
   "metadata": {},
   "outputs": [],
   "source": [
    "d = {**{'a': 1}, **{'a': 2}} "
   ]
  },
  {
   "cell_type": "code",
   "execution_count": 9,
   "id": "ae8a836a-9a2e-4608-87f7-1110bee59756",
   "metadata": {},
   "outputs": [],
   "source": [
    "d = {'a': 1} | {'a': 2}"
   ]
  },
  {
   "cell_type": "code",
   "execution_count": 10,
   "id": "75404d4d-052b-4302-a258-af78625024df",
   "metadata": {},
   "outputs": [
    {
     "name": "stdout",
     "output_type": "stream",
     "text": [
      "{'a': 2}\n"
     ]
    }
   ],
   "source": [
    "print(d)"
   ]
  },
  {
   "cell_type": "code",
   "execution_count": 1,
   "id": "87eba294-a578-4cc7-8889-9b870e0729e0",
   "metadata": {},
   "outputs": [],
   "source": [
    "class Demo:\n",
    "    x = 10 \n",
    "    \n",
    "    def __init__(self):\n",
    "        pass\n",
    "\n",
    "obj = Demo()"
   ]
  },
  {
   "cell_type": "code",
   "execution_count": 3,
   "id": "bb200429-807d-4a8d-ba97-be62064b7440",
   "metadata": {},
   "outputs": [
    {
     "data": {
      "text/plain": [
       "10"
      ]
     },
     "execution_count": 3,
     "metadata": {},
     "output_type": "execute_result"
    }
   ],
   "source": [
    "Demo.x"
   ]
  },
  {
   "cell_type": "code",
   "execution_count": 5,
   "id": "b37c853f-801b-43af-a9d8-b49aaf5f70ec",
   "metadata": {},
   "outputs": [],
   "source": [
    "obj.x = 20"
   ]
  },
  {
   "cell_type": "code",
   "execution_count": 6,
   "id": "cb4b5b91-31b9-4aeb-84bd-3f72a5b6279d",
   "metadata": {},
   "outputs": [
    {
     "name": "stdout",
     "output_type": "stream",
     "text": [
      "10\n",
      "20\n"
     ]
    }
   ],
   "source": [
    "print(Demo.x)\n",
    "print(obj.x)"
   ]
  },
  {
   "cell_type": "code",
   "execution_count": 14,
   "id": "3fe2ef68-ae30-4c2f-81dc-1bb1434e02a0",
   "metadata": {},
   "outputs": [],
   "source": [
    "class Sample:\n",
    "    def __init__(self, x):\n",
    "        self.x = x\n",
    "\n",
    "    def __eq__(self, other):\n",
    "        return self.x * other.x\n",
    "\n",
    "    def __mul__(self,other):\n",
    "        return self.x == other.x\n",
    "\n",
    "a = Sample(2)\n",
    "b = Sample(3)"
   ]
  },
  {
   "cell_type": "code",
   "execution_count": 15,
   "id": "9ed2f0b6-73bf-47b4-81a8-9c3907986388",
   "metadata": {},
   "outputs": [
    {
     "name": "stdout",
     "output_type": "stream",
     "text": [
      "6\n"
     ]
    }
   ],
   "source": [
    "print(a == b)"
   ]
  },
  {
   "cell_type": "code",
   "execution_count": 16,
   "id": "2b01e7d8-b146-40bc-98c0-2e225d3dfdfd",
   "metadata": {},
   "outputs": [
    {
     "data": {
      "text/plain": [
       "False"
      ]
     },
     "execution_count": 16,
     "metadata": {},
     "output_type": "execute_result"
    }
   ],
   "source": [
    "a * b"
   ]
  },
  {
   "cell_type": "markdown",
   "id": "4216ee20-c8c8-4c07-ac91-127d5ef2a79b",
   "metadata": {},
   "source": [
    "## Exam Proctoring Timer Using Time and Exception Handling\n",
    "\n",
    "*Scenario:*\n",
    "You are simulating an exam timer.\n",
    "\n",
    "* Ask the user how many seconds the test should run.\n",
    "* Use `time.sleep()` to create a countdown.\n",
    "* Handle input errors like non-numeric or negative time using custom exceptions.\n",
    "\n",
    "> Concepts: Time, Exception Handling, Custom Classes"
   ]
  },
  {
   "cell_type": "code",
   "execution_count": 20,
   "id": "47e9cbe4-d0c7-4bfe-a531-6806a54af04b",
   "metadata": {},
   "outputs": [],
   "source": [
    "class InvalidTimeError(Exception):\n",
    "    pass"
   ]
  },
  {
   "cell_type": "code",
   "execution_count": 18,
   "id": "9537fc3a-0cd1-4936-9168-ced489e272bc",
   "metadata": {},
   "outputs": [],
   "source": [
    "class ExamTimer:\n",
    "    def __init__(self, duration):\n",
    "        if not isinstance(duration,(int,float)):\n",
    "            raise InvalidTimeError(\"Duration must be a number\")\n",
    "        if duration <= 0 :\n",
    "            raise InvalidTimeError(\"Duration must be grater than 0\")\n",
    "\n",
    "        self.duration = int(duration)\n",
    "\n",
    "    def timer(self):\n",
    "        print(f\"Exam Started ! Time {self.duration} seconds\")\n",
    "        for r in range(self.duration,0, -1):\n",
    "            print(f\"Time Left : {r} seconds     \", end = \"\\r\")\n",
    "            time.sleep(1)\n",
    "\n",
    "        print(\"\\n Time's Up !\")"
   ]
  },
  {
   "cell_type": "code",
   "execution_count": 19,
   "id": "079137ac-174f-4cb3-9103-77202a889623",
   "metadata": {},
   "outputs": [
    {
     "name": "stdin",
     "output_type": "stream",
     "text": [
      "Exam exam duration in seconds:  11\n"
     ]
    },
    {
     "name": "stdout",
     "output_type": "stream",
     "text": [
      "Exam Started ! Time 11 seconds\n",
      "Time Left : 1 seconds      \n",
      " Time's Up !\n",
      "Thank you for using Exam Timer\n"
     ]
    }
   ],
   "source": [
    "try:\n",
    "    user_input = float(input(\"Exam exam duration in seconds: \"))\n",
    "    timer_obj = ExamTimer(user_input)\n",
    "    timer_obj.timer()\n",
    "\n",
    "except InvalidTimeError as e:\n",
    "    print(f\"Input error : {e}\")\n",
    "except ValueError as e:\n",
    "    print(\"Enter a valid number.\")\n",
    "finally:\n",
    "    print(\"Thank you for using Exam Timer\")\n",
    "    "
   ]
  },
  {
   "cell_type": "code",
   "execution_count": null,
   "id": "c2dbc6e5-d57e-41ee-a705-df41944e54fb",
   "metadata": {},
   "outputs": [],
   "source": []
  },
  {
   "cell_type": "code",
   "execution_count": null,
   "id": "c1de9b0a-6d5b-4099-b6ad-e4cd7f1acc86",
   "metadata": {},
   "outputs": [],
   "source": []
  },
  {
   "cell_type": "code",
   "execution_count": 17,
   "id": "c9b6fe08-9d60-47ee-b85a-24c531e29381",
   "metadata": {},
   "outputs": [],
   "source": [
    "class Test:\n",
    "    def __init__(self,x):\n",
    "        self.__x__ = x\n",
    "        "
   ]
  },
  {
   "cell_type": "code",
   "execution_count": 18,
   "id": "6a614457-b121-4f8e-9cca-49549f49b783",
   "metadata": {},
   "outputs": [],
   "source": [
    "obj = Test(44)"
   ]
  },
  {
   "cell_type": "code",
   "execution_count": 19,
   "id": "553f9e31-5765-4597-94dc-41079fc9aa73",
   "metadata": {},
   "outputs": [
    {
     "data": {
      "text/plain": [
       "44"
      ]
     },
     "execution_count": 19,
     "metadata": {},
     "output_type": "execute_result"
    }
   ],
   "source": [
    "obj.__x__"
   ]
  },
  {
   "cell_type": "code",
   "execution_count": 25,
   "id": "707516fe-c908-4561-add2-ae28a8292052",
   "metadata": {},
   "outputs": [
    {
     "name": "stdout",
     "output_type": "stream",
     "text": [
      "Hario world\n"
     ]
    }
   ],
   "source": [
    "print(\"Hello world\", end=\"\\r\")\n",
    "print(\"Hari\")"
   ]
  },
  {
   "cell_type": "code",
   "execution_count": 10,
   "id": "e5359059-7ff2-4d50-b9d0-15298a6d10ef",
   "metadata": {},
   "outputs": [],
   "source": [
    "import time \n",
    "\n",
    "class Time_bomb():\n",
    "    def __init__(self,inp):\n",
    "        self.inp = inp\n",
    "        \n",
    "    def counter(self):    \n",
    "        count = self.inp\n",
    "        print(f\"You have total time {count}, time bomb starts now\")\n",
    "        for i in range(count):\n",
    "            time.sleep(1)\n",
    "            count-=1\n",
    "            print(f\"You have {count} sec remaning\") \n",
    "        \n",
    "class Invalid_():\n",
    "    def foo(slef):\n",
    "        try:\n",
    "            user_input= int(input(\"Enter the total duration of time \"))\n",
    "            if not isinstance(user_input,(int,float)):\n",
    "                raise Error\n",
    "        except:\n",
    "            print(\"Please enter positive integer\")\n",
    "\n",
    "        return Time_bomb(user_input).counter()\n",
    "\n",
    "        \n"
   ]
  },
  {
   "cell_type": "code",
   "execution_count": 11,
   "id": "bc332090-eb44-4042-85ac-da4dd11f9f91",
   "metadata": {},
   "outputs": [
    {
     "name": "stdin",
     "output_type": "stream",
     "text": [
      "Enter the total duration of time  5\n"
     ]
    },
    {
     "name": "stdout",
     "output_type": "stream",
     "text": [
      "You have total time 5, time bomb starts now\n",
      "You have 4 sec remaning\n",
      "You have 3 sec remaning\n",
      "You have 2 sec remaning\n",
      "You have 1 sec remaning\n",
      "You have 0 sec remaning\n"
     ]
    }
   ],
   "source": [
    "Invalid_().foo()"
   ]
  },
  {
   "cell_type": "code",
   "execution_count": 9,
   "id": "f071eba7-6a65-4a8a-aa9d-ea14673e8f25",
   "metadata": {},
   "outputs": [
    {
     "name": "stdout",
     "output_type": "stream",
     "text": [
      "You have total time 5, time bomb starts now\n",
      "You have 4 sec remaning\n",
      "You have 3 sec remaning\n",
      "You have 2 sec remaning\n",
      "You have 1 sec remaning\n",
      "You have 0 sec remaning\n"
     ]
    }
   ],
   "source": [
    "res.counter()"
   ]
  },
  {
   "cell_type": "code",
   "execution_count": null,
   "id": "27b12cff-09c6-4abb-8954-2538a719ddf2",
   "metadata": {},
   "outputs": [],
   "source": []
  },
  {
   "cell_type": "code",
   "execution_count": 1,
   "id": "e5acfea9-ba90-452c-8738-e855db0c68d7",
   "metadata": {},
   "outputs": [
    {
     "name": "stdin",
     "output_type": "stream",
     "text": [
      "Enter Your Name : l\n",
      "Enter Your Phone number: 9\n"
     ]
    },
    {
     "name": "stdout",
     "output_type": "stream",
     "text": [
      "========================================================================================\n",
      "=SN=||=================Apparel_Accessories=====================||====Remaining Items===\n",
      "=========================================================================================\n",
      "1--->Men's Classic Denim Jeans                    --------------------->10\n",
      "2--->Women's Floral Maxi Dress                    --------------------->10\n",
      "3--->Unisex Basic White T-Shirt                    --------------------->10\n",
      "4--->Leather Wallet with RFID Protection                    --------------------->10\n",
      "5--->Sterling Silver Pendant Necklace                    --------------------->10\n",
      "6--->Sporty Running Shoes                    --------------------->10\n",
      "7--->Cashmere Scarf                    --------------------->10\n",
      "8--->Wool Blend Winter Coat                    --------------------->10\n",
      "9--->Kids' Graphic Hoodie                    --------------------->10\n",
      "10--->Polarized Sunglasses                    --------------------->10\n",
      "========================================================================================\n",
      "=SN=||=================Home Goods & Decor=====================||====Remaining Items===\n",
      "=========================================================================================\n",
      "1--->Ceramic Dinnerware Set (4 Place Settings)                    --------------------->10\n",
      "2--->Memory Foam Pillow                    --------------------->10\n",
      "3--->Weighted Blanket                    --------------------->10\n",
      "4--->Scented Soy Candle (Lavender)                    --------------------->10\n",
      "5--->Decorative Throw Pillow                    --------------------->10\n",
      "6--->Stainless Steel Cookware Set                    --------------------->10\n",
      "7--->Art Print (Abstract Landscape)                    --------------------->10\n",
      "8--->Plush Bath Towel Set                    --------------------->10\n",
      "9--->Smart LED Light Bulbs                    --------------------->10\n",
      "10--->Area Rug (Geometric Pattern)                    --------------------->10\n",
      "========================================================================================\n",
      "=SN=||=================Electronics=====================||====Remaining Items===\n",
      "=========================================================================================\n",
      "1--->Wireless Noise-Canceling Headphones                    --------------------->10\n",
      "2--->Portable Bluetooth Speaker                    --------------------->10\n",
      "3--->Smartwatch with Heart Rate Monitor                    --------------------->10\n",
      "4--->4K Ultra HD Smart TV                    --------------------->10\n",
      "5--->Laptop Computer (13-inch Ultrabook)                    --------------------->10\n",
      "6--->External Solid State Drive (1TB)                    --------------------->10\n",
      "7--->Wireless Charging Pad                    --------------------->10\n",
      "8--->Digital Instant Camera                    --------------------->10\n",
      "9--->Home Security Camera System                    --------------------->10\n",
      "10--->Gaming Mouse and Keyboard Combo                    --------------------->10\n",
      "========================================================================================\n",
      "=SN=||=================Groceries & Food=====================||====Remaining Items===\n",
      "=========================================================================================\n",
      "1--->Organic Whole Milk                    --------------------->10\n",
      "2--->Artisan Sourdough Bread                    --------------------->10\n",
      "3--->Fresh Berries (Mixed Pack)                    --------------------->10\n",
      "4--->Ground Coffee (Medium Roast)                    --------------------->10\n",
      "5--->Extra Virgin Olive Oil                    --------------------->10\n",
      "6--->Pasta Sauce (Marinara)                    --------------------->10\n",
      "7--->Assorted Cheese Platter                    --------------------->10\n",
      "8--->Granola Bars (Variety Pack)                    --------------------->10\n",
      "9--->Sparkling Water (Lemon-Lime)                    --------------------->10\n",
      "10--->Dark Chocolate Bar (70% Cacao)                    --------------------->10\n",
      "========================================================================================\n",
      "=SN=||=================Toys & Games=====================||====Remaining Items===\n",
      "=========================================================================================\n",
      "1--->Building Block Set (Advanced)                    --------------------->10\n",
      "2--->Action Figure (Superhero)                    --------------------->10\n",
      "3--->Board Game (Strategy)                    --------------------->10\n",
      "4--->Plush Animal (Large Teddy Bear)                    --------------------->10\n",
      "5--->Remote Control Car                    --------------------->10\n",
      "6--->Jigsaw Puzzle (1000 Pieces)                    --------------------->10\n",
      "7--->Art Supplies Kit (Deluxe)                    --------------------->10\n",
      "8--->Dolls House with Furniture                    --------------------->10\n",
      "9--->Educational Robot Kit                    --------------------->10\n",
      "10--->Outdoor Play Tent                    --------------------->10\n",
      "========================================================================================\n",
      "=SN=||=================Books & Media=====================||====Remaining Items===\n",
      "=========================================================================================\n",
      "1--->Bestselling Fiction Novel                    --------------------->10\n",
      "2--->Non-Fiction Biography                    --------------------->10\n",
      "3--->Children's Picture Book                    --------------------->10\n",
      "4--->Cookbook (International Cuisine)                    --------------------->10\n",
      "5--->Self-Help Guide                    --------------------->10\n",
      "6--->Vinyl Record (Classic Rock Album)                    --------------------->10\n",
      "7--->Blu-ray Movie (Action)                    --------------------->10\n",
      "8--->Audiobook Subscription Card                    --------------------->10\n",
      "9--->E-Reader Device                    --------------------->10\n",
      "10--->Magazine Subscription (Fashion)                    --------------------->10\n"
     ]
    }
   ],
   "source": [
    "class Product_list:\n",
    "    # i created a class attributes which has department as a key and value consist of another dictionary of item name and no of items left \n",
    "    items_list= {\n",
    "        \"Apparel_Accessories\": {\n",
    "            \"Men's Classic Denim Jeans\": 10,\n",
    "            \"Women's Floral Maxi Dress\": 10,\n",
    "            \"Unisex Basic White T-Shirt\" : 10,\n",
    "            \"Leather Wallet with RFID Protection\" : 10,\n",
    "            \"Sterling Silver Pendant Necklace\":10,\n",
    "            \"Sporty Running Shoes\":10,\n",
    "            \"Cashmere Scarf\" : 10,\n",
    "            \"Wool Blend Winter Coat\" : 10,\n",
    "            \"Kids' Graphic Hoodie\": 10,\n",
    "            \"Polarized Sunglasses\":10\n",
    "        },\n",
    "        \"Home Goods & Decor\":{\n",
    "            \"Ceramic Dinnerware Set (4 Place Settings)\" : 10,\n",
    "            \"Memory Foam Pillow\" : 10,\n",
    "            \"Weighted Blanket\" : 10,\n",
    "            \"Scented Soy Candle (Lavender)\":10,\n",
    "            \"Decorative Throw Pillow\":10,\n",
    "            \"Stainless Steel Cookware Set\":10,\n",
    "            \"Art Print (Abstract Landscape)\":10,\n",
    "            \"Plush Bath Towel Set\":10,\n",
    "            \"Smart LED Light Bulbs\":10,\n",
    "            \"Area Rug (Geometric Pattern)\":10\n",
    "        },\n",
    "        \"Electronics\":{\n",
    "            \"Wireless Noise-Canceling Headphones\":10,\n",
    "            \"Portable Bluetooth Speaker\": 10,\n",
    "            \"Smartwatch with Heart Rate Monitor\":10,\n",
    "            \"4K Ultra HD Smart TV\" : 10,\n",
    "            \"Laptop Computer (13-inch Ultrabook)\":10,\n",
    "            \"External Solid State Drive (1TB)\":10,\n",
    "            \"Wireless Charging Pad\":10,\n",
    "            \"Digital Instant Camera\":10,\n",
    "            \"Home Security Camera System\":10,\n",
    "            \"Gaming Mouse and Keyboard Combo\":10\n",
    "        },\n",
    "        \"Groceries & Food\":{\n",
    "            \"Organic Whole Milk\":10,\n",
    "            \"Artisan Sourdough Bread\":10,\n",
    "            \"Fresh Berries (Mixed Pack)\":10,\n",
    "            \"Ground Coffee (Medium Roast)\":10,\n",
    "            \"Extra Virgin Olive Oil\":10,\n",
    "            \"Pasta Sauce (Marinara)\":10,\n",
    "            \"Assorted Cheese Platter\":10,\n",
    "            \"Granola Bars (Variety Pack)\":10,\n",
    "            \"Sparkling Water (Lemon-Lime)\":10,\n",
    "            \"Dark Chocolate Bar (70% Cacao)\":10\n",
    "            },\n",
    "        \"Toys & Games\":{\n",
    "            \"Building Block Set (Advanced)\" :10,\n",
    "            \"Action Figure (Superhero)\":10,\n",
    "            \"Board Game (Strategy)\":10,\n",
    "            \"Plush Animal (Large Teddy Bear)\":10,\n",
    "            \"Remote Control Car\":10,\n",
    "            \"Jigsaw Puzzle (1000 Pieces)\":10,\n",
    "            \"Art Supplies Kit (Deluxe)\":10,\n",
    "            \"Dolls House with Furniture\":10,\n",
    "            \"Educational Robot Kit\":10,\n",
    "            \"Outdoor Play Tent\":10\n",
    "        },\n",
    "        \"Books & Media\":{\n",
    "            \"Bestselling Fiction Novel\":10,\n",
    "            \"Non-Fiction Biography\":10,\n",
    "            \"Children's Picture Book\":10,\n",
    "            \"Cookbook (International Cuisine)\":10,\n",
    "            \"Self-Help Guide\":10,\n",
    "            \"Vinyl Record (Classic Rock Album)\":10,\n",
    "            \"Blu-ray Movie (Action)\":10,\n",
    "            \"Audiobook Subscription Card\":10,\n",
    "            \"E-Reader Device\":10,\n",
    "            \"Magazine Subscription (Fashion)\":10\n",
    "        }\n",
    "    }\n",
    "    def __init__(self):\n",
    "        pass \n",
    "    def update(self,item):\n",
    "        #yesma can i use lamda function ? \n",
    "        pass\n",
    "\n",
    "\n",
    "\n",
    "\n",
    "#lets see \n",
    "if __name__ == \"__main__\": # idk k ho \n",
    "    #1st thing vaneko chai shopping garne ho login garam \n",
    "    #user bata name ra member or phone number halna lagam .\n",
    "    # use decorator to decorate the output of this portion\n",
    "    name=input(\"Enter Your Name :\")\n",
    "    number=input(\"Enter Your Phone number:\")\n",
    "    \n",
    "    #tespaxi display garne items \n",
    "#    user1= member(name,number)\n",
    " #   user1_cart= ShoppingCart() # just created an instance for a shopping cart \n",
    "    product=Product_list() # INSTANCE NI BANYO\n",
    "    for key,value in product.items_list.items():\n",
    "        count = 1 \n",
    "        #i can use clear screen to display ..\n",
    "        print(\"========================================================================================\")\n",
    "        print(f\"=SN=||================={key}=====================||====Remaining Items===\")\n",
    "        print(\"=========================================================================================\")\n",
    "        for key1,value1 in value.items():\n",
    "            print(f\"{count}--->{key1}                    --------------------->\", end=f\"{value1}\\n\")  \n",
    "            count +=1\n",
    "    # above is just for displaying items \n",
    " # user need to buy items .\n",
    "# inpt linu paro/"
   ]
  },
  {
   "cell_type": "code",
   "execution_count": null,
   "id": "7b8b4a05-e8a4-41f6-8756-42a2baffc2a0",
   "metadata": {},
   "outputs": [],
   "source": []
  },
  {
   "cell_type": "code",
   "execution_count": 7,
   "id": "20304d48-5aee-4552-9108-0620dde40a25",
   "metadata": {},
   "outputs": [
    {
     "data": {
      "text/plain": [
       "5.0"
      ]
     },
     "execution_count": 7,
     "metadata": {},
     "output_type": "execute_result"
    }
   ],
   "source": [
    "from math import sqrt\n",
    "eval(\"sqrt(25)\")"
   ]
  },
  {
   "cell_type": "code",
   "execution_count": 19,
   "id": "6c9b3e34-34ec-4ae5-92b8-508840fa1f0e",
   "metadata": {},
   "outputs": [
    {
     "data": {
      "text/plain": [
       "True"
      ]
     },
     "execution_count": 19,
     "metadata": {},
     "output_type": "execute_result"
    }
   ],
   "source": [
    "isinstance(True, bool)"
   ]
  },
  {
   "cell_type": "code",
   "execution_count": 14,
   "id": "93b8e7ce-b4ff-4ba2-bf74-5adbc408426b",
   "metadata": {},
   "outputs": [
    {
     "data": {
      "text/plain": [
       "True"
      ]
     },
     "execution_count": 14,
     "metadata": {},
     "output_type": "execute_result"
    }
   ],
   "source": [
    "eval(\"true\".capitalize())"
   ]
  },
  {
   "cell_type": "code",
   "execution_count": 16,
   "id": "c32c2618-3500-4fda-9e40-13463a3a9e9c",
   "metadata": {},
   "outputs": [
    {
     "data": {
      "text/plain": [
       "False"
      ]
     },
     "execution_count": 16,
     "metadata": {},
     "output_type": "execute_result"
    }
   ],
   "source": []
  },
  {
   "cell_type": "code",
   "execution_count": null,
   "id": "3424d206-821d-4883-b29a-30f36012318e",
   "metadata": {},
   "outputs": [],
   "source": [
    "class ShoppingCart:\n",
    "    def __init__(self, user):\n",
    "        self.user = user               # User object\n",
    "        self.products = []            # List of Product objects\n",
    "\n",
    "    def add_product(self, product):\n",
    "        self.products.append(product)\n",
    "\n",
    "    def remove_product(self, pname):\n",
    "        self.products = [p for p in self.products if p.pname != pname]\n",
    "\n",
    "    def calculate_total_cost(self):\n",
    "        dicount = 0\n",
    "        total = sum(p.price for p in self.products)\n",
    "        if self.user.premium:\n",
    "            dicount = total * 0.1 \n",
    "            total *= 0.9  # Apply 10% discount for premium users\n",
    "        return total, dicount\n"
   ]
  },
  {
   "cell_type": "code",
   "execution_count": null,
   "id": "9f287c61-582c-477c-b9c2-750dcae2f813",
   "metadata": {},
   "outputs": [],
   "source": []
  },
  {
   "cell_type": "markdown",
   "id": "fa49ecc1-f879-46ef-9bec-b48c456a753c",
   "metadata": {},
   "source": [
    "In this case each user share the same cart, which is useless. Also each user can register himself/herself as a premium user, which is not practical again. So, you have to add following two additional features to the above program, to make it more real:\n",
    "\n",
    "1. Cart for a user should be independent from other users\n",
    "2. Add a new admin feature `is_admin` that takes in boolean values `[True, False]`, and only admin should be allowed to create other admins and set `is_premium=True` for other users"
   ]
  },
  {
   "cell_type": "code",
   "execution_count": null,
   "id": "c9be16ee-4df9-49e2-8c5b-baf192307724",
   "metadata": {},
   "outputs": [],
   "source": []
  },
  {
   "cell_type": "code",
   "execution_count": null,
   "id": "aa3a2613-023a-4f2e-b102-7a82552ef40f",
   "metadata": {},
   "outputs": [],
   "source": []
  },
  {
   "cell_type": "code",
   "execution_count": 32,
   "id": "3be22db6-4b9e-4a80-8a10-33c312ef1f08",
   "metadata": {},
   "outputs": [
    {
     "name": "stdout",
     "output_type": "stream",
     "text": [
      "Hari\n",
      "Total time taken 4.0038323402404785 sec\n"
     ]
    }
   ],
   "source": [
    "# Write a decorator @timeit , that gives total time taken by function to run\n",
    "\n",
    "import time\n",
    "\n",
    "\n",
    "def timeit(func):\n",
    "    \n",
    "    def wrapper(*args, **kwargs):\n",
    "        start = time.time()       \n",
    "        func(*args, **kwargs)\n",
    "        print(f\"Total time taken {time.time() - start} sec\")\n",
    "        \n",
    "    return wrapper\n",
    "\n",
    "\n",
    "@timeit\n",
    "def takes_time(name = \"Ram\"):\n",
    "    print(name)\n",
    "    time.sleep(4)\n",
    "\n",
    "takes_time(name = \"Hari\")"
   ]
  },
  {
   "cell_type": "code",
   "execution_count": null,
   "id": "83e1f16d-73b3-4274-8759-58130a7e3893",
   "metadata": {},
   "outputs": [],
   "source": []
  }
 ],
 "metadata": {
  "kernelspec": {
   "display_name": "Python 3 (ipykernel)",
   "language": "python",
   "name": "python3"
  },
  "language_info": {
   "codemirror_mode": {
    "name": "ipython",
    "version": 3
   },
   "file_extension": ".py",
   "mimetype": "text/x-python",
   "name": "python",
   "nbconvert_exporter": "python",
   "pygments_lexer": "ipython3",
   "version": "3.10.12"
  }
 },
 "nbformat": 4,
 "nbformat_minor": 5
}
