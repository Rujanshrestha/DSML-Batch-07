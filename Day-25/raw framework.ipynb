{
 "cells": [
  {
   "cell_type": "code",
   "execution_count": null,
   "id": "c35fa735-cd9f-4f5f-8f51-50842aacf960",
   "metadata": {},
   "outputs": [],
   "source": [
    "random module import garnu paro \n",
    "1 numbers haru random gen \n",
    "2 operators haru ni random gen garnu paro = list banauna milyo operators haru rakhera \n",
    "auta class banaune jasle * arg linxa ani arko vaneko list of operators .\n",
    "calculate garne\n",
    "display garne \n",
    "\n",
    "ani user sanga final result magne \n",
    "check garne arko function of class \n"
   ]
  },
  {
   "cell_type": "code",
   "execution_count": null,
   "id": "6fae2461-210c-4a94-9535-4425bcf390f7",
   "metadata": {},
   "outputs": [],
   "source": [
    "import random as r \n",
    "import math "
   ]
  },
  {
   "cell_type": "code",
   "execution_count": null,
   "id": "5de6c64e-c3b2-41df-94f3-2c6c331f9d12",
   "metadata": {},
   "outputs": [],
   "source": [
    "a= r.choice(dir(math))"
   ]
  },
  {
   "cell_type": "code",
   "execution_count": null,
   "id": "8dbb5c23-f7f7-4cd2-a6b4-27bcfb18ae33",
   "metadata": {},
   "outputs": [],
   "source": [
    "a = [\"+\",\"-\",\"*\",\"/\",\"//\",\"%\",\"**\"]\n",
    "c= r.choice(a)"
   ]
  },
  {
   "cell_type": "code",
   "execution_count": null,
   "id": "6daedf60-0bd1-4132-b495-3934dfeeca72",
   "metadata": {},
   "outputs": [],
   "source": [
    "for b in a:\n",
    "    if c == \"+\":\n",
    "        print(\"4+5\")\n",
    "        print(4+5)\n",
    "        break\n",
    "    elif c == \"-\":\n",
    "        print(\"4-5\")\n",
    "        print(4-5)\n",
    "        break\n",
    "    elif c == \"*\":\n",
    "        print(\"4*5\")\n",
    "        print(4*5)\n",
    "        break\n",
    "    elif c == \"/\":\n",
    "        print(\"4/5\")\n",
    "        print(4/5)\n",
    "        break\n",
    "    elif c == \"//\":\n",
    "        print(\"4//5\")\n",
    "        print(4//5)\n",
    "        break\n",
    "    elif c == \"%\":\n",
    "        print(\"4%5\")\n",
    "        print(4%5)\n",
    "        break\n",
    "    elif c== \"**\":\n",
    "        print(\"4**5\")\n",
    "        print(4**5)\n",
    "        break\n"
   ]
  },
  {
   "cell_type": "code",
   "execution_count": null,
   "id": "0d49f3b2-c368-4f5b-9b95-5fb243baa052",
   "metadata": {},
   "outputs": [],
   "source": [
    "a = [\"+\",\"-\",\"*\"]\n",
    "b=[\"/\",\"//\",\"%\",\"**\"]\n",
    "d= a+b\n",
    "c= r.choices(d)\n",
    "print(c)"
   ]
  },
  {
   "cell_type": "code",
   "execution_count": null,
   "id": "dd2b3b52-f509-45e5-969f-bedb728045e5",
   "metadata": {},
   "outputs": [],
   "source": [
    "# from gemini as an aother reference way to learn \n",
    "import random\n",
    "\n",
    "# Define the list of operators\n",
    "operators = [\"+\", \"-\", \"*\", \"/\", \"//\", \"%\", \"**\"]\n",
    "\n",
    "# Choose a random operator\n",
    "chosen_operator = random.choice(operators)\n",
    "\n",
    "# Define the numbers for the operation\n",
    "num1 = random.randint(1,100)\n",
    "num2 = random.randint(1,100)\n",
    "\n",
    "# Use a dictionary to map operators to their respective operations (as strings)\n",
    "# This allows for dynamic execution of the operation string.\n",
    "# For direct calculation, you could map to lambda functions or use the 'operator' module.\n",
    "# However, for printing the expression as a string and then its result,\n",
    "# f-strings with eval() are concise here, assuming the operators are safe.\n",
    "operations = {\n",
    "    \"+\": f\"{num1}+{num2}\",\n",
    "    \"-\": f\"{num1}-{num2}\",\n",
    "    \"*\": f\"{num1}*{num2}\",\n",
    "    \"/\": f\"{num1}/{num2}\",\n",
    "    \"//\": f\"{num1}//{num2}\",\n",
    "    \"%\": f\"{num1}%{num2}\",\n",
    "    \"**\": f\"{num1}**{num2}\"\n",
    "}\n",
    "\n",
    "# Get the expression string based on the chosen operator\n",
    "expression_string = operations.get(chosen_operator)\n",
    "\n",
    "if expression_string:\n",
    "    print(expression_string)\n",
    "    # Use eval() to execute the string expression and get the result\n",
    "    print(eval(expression_string))\n",
    "else:\n",
    "    print(f\"Error: Unknown operator '{chosen_operator}'\")\n",
    "\n"
   ]
  },
  {
   "cell_type": "code",
   "execution_count": null,
   "id": "6de84771-5932-47b5-a58f-8bdc8a1e84ac",
   "metadata": {},
   "outputs": [],
   "source": [
    "#  tooo much complex huncha jasto xaa so for now no math module for using \n"
   ]
  },
  {
   "cell_type": "code",
   "execution_count": null,
   "id": "7e193909-7d9d-41f9-b311-c54c4d621074",
   "metadata": {},
   "outputs": [],
   "source": [
    "# i can make a time bomb or a timmer to illustrate it \n"
   ]
  },
  {
   "cell_type": "code",
   "execution_count": null,
   "id": "c56e9415-7f1e-489a-ada1-4ac69bbd23ad",
   "metadata": {},
   "outputs": [],
   "source": [
    "== : Equal to\n",
    "!= : Not equal to\n",
    "> : Greater than\n",
    "< : Less than\n",
    ">= : Greater than or equal to\n",
    "<= : Less than or equal to\n",
    "3. Assignment Operators\n",
    "Used to assign values to variables:\n",
    "\n",
    "= : Assign (x = 5)\n",
    "+= : Add and assign (x += 3 is equivalent to x = x + 3)\n",
    "-= : Subtract and assign\n",
    "*= : Multiply and assign\n",
    "/= : Divide and assign\n",
    "//= : Floor divide and assign\n",
    "%= : Modulus and assign\n",
    "**= : Exponent and assign\n",
    "4. Logical Operators\n",
    "Used to combine conditional statements:\n",
    "\n",
    "and : Returns True if both conditions are true\n",
    "or : Returns True if at least one condition is true\n",
    "not : Reverses the result (not True = False)\n",
    "5. Bitwise Operators\n",
    "Operate on binary representations:\n",
    "\n",
    "& : AND\n",
    "| : OR\n",
    "^ : XOR\n",
    "~ : NOT\n",
    "<< : Left shift\n",
    ">> : Right shift\n",
    "These operators are fundamental in Python and can be combined to perform complex calculations or logic. Let me know if you'd like examples or further clarification!\n",
    "\n"
   ]
  },
  {
   "cell_type": "code",
   "execution_count": null,
   "id": "37ab9e6a-79d4-47a9-b6ae-9adc89a8ae2f",
   "metadata": {},
   "outputs": [],
   "source": [
    "\n",
    "def take_input_check(a):\n",
    "    if isinstance(a,int):  \n",
    "        print(\"valid input\")\n",
    "        a=int(a)\n",
    "    elif isinstance(float(a),float):        \n",
    "        print(\"valid input\")\n",
    "        a=float(a)\n",
    "    else:\n",
    "        raise ValueError\n",
    "    return a\n",
    "def take_input():\n",
    "    a = input(\"Type your ans (if comparion is done give type either 1 for true and 0 for  false ) = \")\n",
    "    try:\n",
    "        a=take_input_check(a)\n",
    "    except ValueError:\n",
    "        print(\"plz enter valid input\")\n",
    "    return a\n",
    "def result_compare(expression, inp):\n",
    "    d = eval(expression)\n",
    "    print(type(d))\n",
    "    print(type(inp))\n",
    "    if  d == inp:        \n",
    "        print(\"correct\")\n",
    "    else:\n",
    "        print(\"Incorrect ans\")\n",
    "b=take_input()\n",
    "result_compare(\"6/2\",b)\n"
   ]
  },
  {
   "cell_type": "markdown",
   "id": "98d0ba13-0a07-4b9e-9d88-628a85aa7777",
   "metadata": {},
   "source": [
    "### ONLINE SHOPPING CART SYSTEM\n"
   ]
  },
  {
   "cell_type": "code",
   "execution_count": null,
   "id": "29b6ea71-073c-4913-ad1d-c1f7cfb63db1",
   "metadata": {},
   "outputs": [],
   "source": [
    "# we can creat a product dictionary,\n",
    "# where key will be product genre or types .\n",
    "# value will have another dictionary \n",
    "# that is nested over it hai ani .\n",
    "# value ma chai no of left items hunxa .\n",
    "# \n",
    "# then product details display portion garne .\n",
    "#tespaxi user sanga input line kun iteam and no of items .\n",
    "#then add to cart \n",
    "#again ask .\n",
    "# if kei gari items ko name milena or match garena vane error na.\n",
    "# auta count banaune and a list where unmatched items haru \n",
    "# do u want to add more vanera options ayeci .# side ma chai totalcost dhekhai rakhne hai update hos \n",
    "# no ayo vane chai we will procede to discount tira ."
   ]
  },
  {
   "cell_type": "code",
   "execution_count": 1,
   "id": "0a2e8fb1-01c6-434d-ac38-e13bb64802a8",
   "metadata": {},
   "outputs": [
    {
     "ename": "NameError",
     "evalue": "name 'premiumMember' is not defined",
     "output_type": "error",
     "traceback": [
      "\u001b[0;31m---------------------------------------------------------------------------\u001b[0m",
      "\u001b[0;31mNameError\u001b[0m                                 Traceback (most recent call last)",
      "Cell \u001b[0;32mIn[1], line 1\u001b[0m\n\u001b[0;32m----> 1\u001b[0m \u001b[38;5;28;01mclass\u001b[39;00m \u001b[38;5;21;01mmember\u001b[39;00m(\u001b[43mpremiumMember\u001b[49m):\n\u001b[1;32m      2\u001b[0m     \u001b[38;5;28;01mdef\u001b[39;00m \u001b[38;5;21m__init__\u001b[39m(\u001b[38;5;28mself\u001b[39m,name,member,discount\u001b[38;5;241m=\u001b[39m\u001b[38;5;241m0\u001b[39m):\n\u001b[1;32m      3\u001b[0m         \u001b[38;5;28msuper\u001b[39m()\u001b[38;5;241m.\u001b[39m\u001b[38;5;21m__init__\u001b[39m(name,member)\n",
      "\u001b[0;31mNameError\u001b[0m: name 'premiumMember' is not defined"
     ]
    }
   ],
   "source": [
    "class member(premiumMember):\n",
    "    def __init__(self,name,member,discount=0):\n",
    "        super().__init__(name,member)\n",
    "        self.discount = discount\n",
    "\n",
    "# for now i will be reading from a dictionary for premium membership \n",
    "    def check_premium(self):\n",
    "        \n",
    "        a= premiumMember.checking(self)\n",
    "        print(a)\n",
    "        if a == 1:\n",
    "            self.discount = 10\n",
    "            return \"Verified Premium membership\"\n",
    "            \n",
    "        else :\n",
    "            return \"Not a premium Memebership\"\n",
    "\n",
    "      \n",
    "        "
   ]
  },
  {
   "cell_type": "code",
   "execution_count": 2,
   "id": "5521d9d8-9ff5-4fd0-ab9e-7446351967ae",
   "metadata": {},
   "outputs": [],
   "source": [
    "class premiumMember:\n",
    "    memberlist={\n",
    "        \"Aashish Parajuli\": 1099,\n",
    "        \"Sujal Karki\": 1098,\n",
    "        \"Sailesh Adhikari\": 1097,\n",
    "        \"Sameer Bhattarai\": 1096,\n",
    "        \"Bikash Shrestha\": 1095,\n",
    "        \"Aayam Singh \": 1094,\n",
    "        \"Mahendra Rana\": 1093,\n",
    "        \"Nitesh Timsina\": 1092,\n",
    "        \"Rohit Kshetri\": 1091,\n",
    "        \"Prakash Khadka\": 1090,\n",
    "        \"Aarya Thapa\": 1089,\n",
    "        \"Rujan Shrestha\": 1088,\n",
    "        \"Preeti M\": 1087,\n",
    "        \"Manchan rana M\": 1086,\n",
    "        \"Dinesh S\": 1085\n",
    "    }\n",
    "    def __init__(self,name,member):\n",
    "        self.name = name\n",
    "        self.member = member\n",
    "\n",
    "    def checking(self):\n",
    "        if self.name in self.memberlist:\n",
    "            a = 1\n",
    "            print(\"Key exist\")\n",
    "            \n",
    "        else:\n",
    "            a=0\n",
    "            print(\"key doesnt exist\")\n",
    "        return a\n",
    "    def adding(self):\n",
    "        print(\"adding function is called\")\n",
    "        self.memberlist.update((self.name,self.member))\n",
    "    "
   ]
  },
  {
   "cell_type": "code",
   "execution_count": 4,
   "id": "7c21b71b-b2b7-44a2-b758-6ef5b26960f2",
   "metadata": {},
   "outputs": [],
   "source": [
    "m = member(\"Aashish Parajuli\",1099)\n"
   ]
  },
  {
   "cell_type": "markdown",
   "id": "2fd4fa80-1d8b-4cf2-b819-59b88ba3238b",
   "metadata": {},
   "source": [
    "b = m.check_premium()"
   ]
  },
  {
   "cell_type": "code",
   "execution_count": 6,
   "id": "a50ace7b-5039-430e-80d6-fb8b901fc5f0",
   "metadata": {},
   "outputs": [
    {
     "name": "stdout",
     "output_type": "stream",
     "text": [
      "key doesnt exist\n",
      "0\n"
     ]
    }
   ],
   "source": [
    "m1 = member(\"Aayush Niraula\", 1100)\n",
    "b1 = m1.check_premium()"
   ]
  },
  {
   "cell_type": "code",
   "execution_count": 10,
   "id": "59636a9e-f284-456a-8ce2-5cfe05f82f97",
   "metadata": {},
   "outputs": [
    {
     "name": "stdin",
     "output_type": "stream",
     "text": [
      "Do you want to take premium Memebership to get 10% discount yes\n"
     ]
    },
    {
     "name": "stdout",
     "output_type": "stream",
     "text": [
      "adding function is called\n"
     ]
    },
    {
     "ename": "ValueError",
     "evalue": "dictionary update sequence element #0 has length 14; 2 is required",
     "output_type": "error",
     "traceback": [
      "\u001b[31m---------------------------------------------------------------------------\u001b[39m",
      "\u001b[31mValueError\u001b[39m                                Traceback (most recent call last)",
      "\u001b[36mCell\u001b[39m\u001b[36m \u001b[39m\u001b[32mIn[10]\u001b[39m\u001b[32m, line 3\u001b[39m\n\u001b[32m      1\u001b[39m taking=\u001b[38;5;28minput\u001b[39m(\u001b[33m\"\u001b[39m\u001b[33mDo you want to take premium Memebership to get 10\u001b[39m\u001b[38;5;132;01m% d\u001b[39;00m\u001b[33miscount\u001b[39m\u001b[33m\"\u001b[39m)\n\u001b[32m      2\u001b[39m \u001b[38;5;28;01mif\u001b[39;00m taking.lower() == \u001b[33m\"\u001b[39m\u001b[33myes\u001b[39m\u001b[33m\"\u001b[39m:\n\u001b[32m----> \u001b[39m\u001b[32m3\u001b[39m     \u001b[43mm1\u001b[49m\u001b[43m.\u001b[49m\u001b[43madding\u001b[49m\u001b[43m(\u001b[49m\u001b[43m)\u001b[49m\n",
      "\u001b[36mCell\u001b[39m\u001b[36m \u001b[39m\u001b[32mIn[9]\u001b[39m\u001b[32m, line 34\u001b[39m, in \u001b[36mpremiumMember.adding\u001b[39m\u001b[34m(self)\u001b[39m\n\u001b[32m     32\u001b[39m \u001b[38;5;28;01mdef\u001b[39;00m\u001b[38;5;250m \u001b[39m\u001b[34madding\u001b[39m(\u001b[38;5;28mself\u001b[39m):\n\u001b[32m     33\u001b[39m     \u001b[38;5;28mprint\u001b[39m(\u001b[33m\"\u001b[39m\u001b[33madding function is called\u001b[39m\u001b[33m\"\u001b[39m)\n\u001b[32m---> \u001b[39m\u001b[32m34\u001b[39m     \u001b[38;5;28;43mself\u001b[39;49m\u001b[43m.\u001b[49m\u001b[43mmemberlist\u001b[49m\u001b[43m.\u001b[49m\u001b[43mupdate\u001b[49m\u001b[43m(\u001b[49m\u001b[43m(\u001b[49m\u001b[38;5;28;43mself\u001b[39;49m\u001b[43m.\u001b[49m\u001b[43mname\u001b[49m\u001b[43m,\u001b[49m\u001b[38;5;28;43mself\u001b[39;49m\u001b[43m.\u001b[49m\u001b[43mmember\u001b[49m\u001b[43m)\u001b[49m\u001b[43m)\u001b[49m\n",
      "\u001b[31mValueError\u001b[39m: dictionary update sequence element #0 has length 14; 2 is required"
     ]
    }
   ],
   "source": [
    "taking=input(\"Do you want to take premium Memebership to get 10% discount\")\n",
    "if taking.lower() == \"yes\":\n",
    "    m1.adding()"
   ]
  },
  {
   "cell_type": "code",
   "execution_count": null,
   "id": "f1aa753a-6895-4a43-999b-a64001f4ac23",
   "metadata": {},
   "outputs": [],
   "source": []
  },
  {
   "cell_type": "markdown",
   "id": "d642227e-d9b3-4f6a-99dd-0fe821d3dafc",
   "metadata": {},
   "source": [
    "### Product Class"
   ]
  },
  {
   "cell_type": "code",
   "execution_count": 30,
   "id": "212266cd-f4f1-4f59-bfc7-8b34b0fea5a0",
   "metadata": {},
   "outputs": [],
   "source": [
    "class Product_list:\n",
    "    # i created a class attributes which has department as a key and value consist of another dictionary of item name and no of items left \n",
    "    \n",
    "    def __init__(self):\n",
    "        self.department=[]\n",
    "        self.cart_items=[]\n",
    "        self.total=0\n",
    "        self.discount_amount=0\n",
    "        self.items_list= {\n",
    "        \"Apparel_Accessories\": {\n",
    "            1:[\"Men's Classic Denim Jeans\",1000,10],\n",
    "            2:[\"Women's Floral Maxi Dress\",1050,10],\n",
    "            3:[\"Unisex Basic White T-Shirt\",550,10],\n",
    "            4:[\"Leather Wallet with RFID Protection\",1500,10],\n",
    "            5:[\"Sterling Silver Pendant Necklace\",3000,10],\n",
    "            6:[\"Sporty Running Shoes\",1800,10],\n",
    "            7:[\"Cashmere Scarf\",750,10],\n",
    "            8:[\"Wool Blend Winter Coat\",3500,10],\n",
    "            9:[\"Kids' Graphic Hoodie\",1250,10],\n",
    "            10:[\"Polarized Sunglasses\",5000,10]\n",
    "        },\n",
    "        \"Home Goods & Decor\":{\n",
    "            1:[\"Ceramic Dinnerware Set (4 Place Settings)\",25000,10],\n",
    "            2:[\"Memory Foam Pillow\",600,10],\n",
    "            3:[\"Weighted Blanket\",500,10],\n",
    "            4:[\"Scented Soy Candle (Lavender)\",200,10],\n",
    "            5:[\"Decorative Throw Pillow\",350,10],\n",
    "            6:[\"Stainless Steel Cookware Set\",50,10],\n",
    "            7:[\"Art Print (Abstract Landscape)\",300,10],\n",
    "            8:[\"Plush Bath Towel Set\",200,10],\n",
    "            9:[\"Smart LED Light Bulbs\",100,10],\n",
    "            10:[\"Area Rug (Geometric Pattern)\",300,10]\n",
    "        },\n",
    "        \"Electronics\":{\n",
    "            1:[\"Wireless Noise-Canceling Headphones\",3500,10],\n",
    "            2:[\"Portable Bluetooth Speaker\",650,10],\n",
    "            3:[\"Smartwatch with Heart Rate Monitor\",1200,10],\n",
    "            4:[\"4K Ultra HD Smart TV\",550000, 10],\n",
    "            5:[\"Laptop Computer (13-inch Ultrabook)\",250000,10],\n",
    "            6:[\"External Solid State Drive (1TB)\",8000,10],\n",
    "            7:[\"Wireless Charging Pad\",750,10],\n",
    "            8:[\"Digital Instant Camera\",35000,10],\n",
    "            9:[\"Home Security Camera System\",3500,10],\n",
    "            10:[\"Gaming Mouse and Keyboard Combo\",1000,10]\n",
    "        },\n",
    "        \"Groceries & Food\":{\n",
    "            1:[\"Organic Whole Milk\",120,10],\n",
    "            2:[\"Artisan Sourdough Bread\",200,10],\n",
    "            3:[\"Fresh Berries (Mixed Pack)\",350,10],\n",
    "            4:[\"Ground Coffee (Medium Roast)\",1999,10],\n",
    "            5:[\"Extra Virgin Olive Oil\",1500,10],\n",
    "            6:[\"Pasta Sauce (Marinara)\",850,10],\n",
    "            7:[\"Assorted Cheese Platter\",550,10],\n",
    "            8:[\"Granola Bars (Variety Pack)\",650,10],\n",
    "            9:[\"Sparkling Water (Lemon-Lime)\",350,10],\n",
    "            10:[\"Dark Chocolate Bar (70% Cacao)\",650,10]\n",
    "            },\n",
    "        \"Toys & Games\":{\n",
    "            1:[\"Building Block Set (Advanced)\",6500,10],\n",
    "            2:[\"Action Figure (Superhero)\",3000,10],\n",
    "            3:[\"Board Game (Strategy)\",1200,10],\n",
    "            4:[\"Plush Animal (Large Teddy Bear)\",12300,10],\n",
    "            5:[\"Remote Control Car\",6500,10],\n",
    "            6:[\"Jigsaw Puzzle (1000 Pieces)\",1000,10],\n",
    "            7:[\"Art Supplies Kit (Deluxe)\",6541,10],\n",
    "            8:[\"Dolls House with Furniture\",9000,10],\n",
    "            9:[\"Educational Robot Kit\",6890,10],\n",
    "            10:[\"Outdoor Play Tent\",15000,10]\n",
    "        },\n",
    "        \"Books & Media\":{\n",
    "            1:[\"Bestselling Fiction Novel\",350,10],\n",
    "            2:[\"Non-Fiction Biography\",350,10],\n",
    "            3:[\"Children's Picture Book\",650,10],\n",
    "            4:[\"Cookbook (International Cuisine)\",550,10],\n",
    "            5:[\"Self-Help Guide\",550,10],\n",
    "            6:[\"Vinyl Record (Classic Rock Album)\",650,10],\n",
    "            7:[\"Blu-ray Movie (Action)\",900,10],\n",
    "            8:[\"Audiobook Subscription Card\",1000,10],\n",
    "            9:[\"E-Reader Device\",660,10],\n",
    "            10:[\"Magazine Subscription (Fashion)\",36,10]\n",
    "        }\n",
    "    }\n",
    "    def Display(self):\n",
    "        a = 1\n",
    "        \n",
    "        for key,value in self.items_list.items():\n",
    "            self.department.append(key)\n",
    "        print(\" ========= SELECT DEPARTMENT =============\")\n",
    "        \n",
    "        for i in self.department:\n",
    "            print(f\"{self.a}------------>>{i}\")\n",
    "            a += 1\n",
    "        choice = int(input(\"Select department ( 1-6 ):\"))\n",
    "\n",
    "        ITEMS=self.items_list.copy()\n",
    "        Items_list=ITEMS.get(self.department[choice-1])\n",
    "        \n",
    "        for key1,value1 in Items_list.items():\n",
    "            print(f\"{key1}---{value1}\")\n",
    "        choose_item=int(input(\"Select item (1-10):\"))\n",
    "        choose_quantity=int(input(\"Select Quantity :\"))\n",
    "\n",
    "        items_list.get(self.department[choice-1])[choose_item][2] -= choose_quantity\n",
    "        Items_list[choose_item][2]= choose_quantity\n",
    "        self.cart_items.append(Items_list[choose_item])\n",
    "   \n",
    "    def update(self):\n",
    "        #yesma can i use lamda function ? \n",
    "        print(self.cart_items)\n",
    "        #print(self.items_list) ---- yesma main list mai changes aairako xa \n",
    "\n",
    "    def Total_price(self,amount):\n",
    "        for i in self.cart_items:\n",
    "            print(i)\n",
    "            self.total= self.total+ (i[1]*i[2])\n",
    "        self.discount_amount=self.total*(amount/100)\n",
    "        \n",
    "        \n",
    "       # print(self.total=i[1]*i[2])\n",
    "\n",
    "    def show_total(self):\n",
    "        print(f\"before discount = {self.total}\")\n",
    "        print(f\"Discounted amount = {self.discount_amount}\")\n",
    "        self.total = self.total-self.discount_amount\n",
    "        print(f\"after discount total amount = {self.total}\")\n",
    "    \n",
    "    \n",
    "        \n",
    "        "
   ]
  },
  {
   "cell_type": "code",
   "execution_count": 31,
   "id": "4af88a75-4f6c-4860-9ed9-f5da5b73204c",
   "metadata": {},
   "outputs": [],
   "source": [
    "p = Product_list()"
   ]
  },
  {
   "cell_type": "code",
   "execution_count": 34,
   "id": "0d9c4a2a-f91f-455e-8b8c-8cbb3ba96b9a",
   "metadata": {},
   "outputs": [
    {
     "data": {
      "text/plain": [
       "{'Apparel_Accessories': {1: [\"Men's Classic Denim Jeans\", 1000, 10],\n",
       "  2: [\"Women's Floral Maxi Dress\", 1050, 10],\n",
       "  3: ['Unisex Basic White T-Shirt', 550, 10],\n",
       "  4: ['Leather Wallet with RFID Protection', 1500, 10],\n",
       "  5: ['Sterling Silver Pendant Necklace', 3000, 10],\n",
       "  6: ['Sporty Running Shoes', 1800, 10],\n",
       "  7: ['Cashmere Scarf', 750, 10],\n",
       "  8: ['Wool Blend Winter Coat', 3500, 10],\n",
       "  9: [\"Kids' Graphic Hoodie\", 1250, 10],\n",
       "  10: ['Polarized Sunglasses', 5000, 10]},\n",
       " 'Home Goods & Decor': {1: ['Ceramic Dinnerware Set (4 Place Settings)',\n",
       "   25000,\n",
       "   10],\n",
       "  2: ['Memory Foam Pillow', 600, 10],\n",
       "  3: ['Weighted Blanket', 500, 10],\n",
       "  4: ['Scented Soy Candle (Lavender)', 200, 10],\n",
       "  5: ['Decorative Throw Pillow', 350, 10],\n",
       "  6: ['Stainless Steel Cookware Set', 50, 10],\n",
       "  7: ['Art Print (Abstract Landscape)', 300, 10],\n",
       "  8: ['Plush Bath Towel Set', 200, 10],\n",
       "  9: ['Smart LED Light Bulbs', 100, 10],\n",
       "  10: ['Area Rug (Geometric Pattern)', 300, 10]},\n",
       " 'Electronics': {1: ['Wireless Noise-Canceling Headphones', 3500, 10],\n",
       "  2: ['Portable Bluetooth Speaker', 650, 10],\n",
       "  3: ['Smartwatch with Heart Rate Monitor', 1200, 10],\n",
       "  4: ['4K Ultra HD Smart TV', 550000, 10],\n",
       "  5: ['Laptop Computer (13-inch Ultrabook)', 250000, 10],\n",
       "  6: ['External Solid State Drive (1TB)', 8000, 10],\n",
       "  7: ['Wireless Charging Pad', 750, 10],\n",
       "  8: ['Digital Instant Camera', 35000, 10],\n",
       "  9: ['Home Security Camera System', 3500, 10],\n",
       "  10: ['Gaming Mouse and Keyboard Combo', 1000, 10]},\n",
       " 'Groceries & Food': {1: ['Organic Whole Milk', 120, 10],\n",
       "  2: ['Artisan Sourdough Bread', 200, 10],\n",
       "  3: ['Fresh Berries (Mixed Pack)', 350, 10],\n",
       "  4: ['Ground Coffee (Medium Roast)', 1999, 10],\n",
       "  5: ['Extra Virgin Olive Oil', 1500, 10],\n",
       "  6: ['Pasta Sauce (Marinara)', 850, 10],\n",
       "  7: ['Assorted Cheese Platter', 550, 10],\n",
       "  8: ['Granola Bars (Variety Pack)', 650, 10],\n",
       "  9: ['Sparkling Water (Lemon-Lime)', 350, 10],\n",
       "  10: ['Dark Chocolate Bar (70% Cacao)', 650, 10]},\n",
       " 'Toys & Games': {1: ['Building Block Set (Advanced)', 6500, 10],\n",
       "  2: ['Action Figure (Superhero)', 3000, 10],\n",
       "  3: ['Board Game (Strategy)', 1200, 10],\n",
       "  4: ['Plush Animal (Large Teddy Bear)', 12300, 10],\n",
       "  5: ['Remote Control Car', 6500, 10],\n",
       "  6: ['Jigsaw Puzzle (1000 Pieces)', 1000, 10],\n",
       "  7: ['Art Supplies Kit (Deluxe)', 6541, 10],\n",
       "  8: ['Dolls House with Furniture', 9000, 10],\n",
       "  9: ['Educational Robot Kit', 6890, 2],\n",
       "  10: ['Outdoor Play Tent', 15000, 10]},\n",
       " 'Books & Media': {1: ['Bestselling Fiction Novel', 350, 10],\n",
       "  2: ['Non-Fiction Biography', 350, 10],\n",
       "  3: [\"Children's Picture Book\", 650, 10],\n",
       "  4: ['Cookbook (International Cuisine)', 550, 10],\n",
       "  5: ['Self-Help Guide', 550, 10],\n",
       "  6: ['Vinyl Record (Classic Rock Album)', 650, 10],\n",
       "  7: ['Blu-ray Movie (Action)', 900, 10],\n",
       "  8: ['Audiobook Subscription Card', 1000, 10],\n",
       "  9: ['E-Reader Device', 660, 10],\n",
       "  10: ['Magazine Subscription (Fashion)', 36, 10]}}"
      ]
     },
     "execution_count": 34,
     "metadata": {},
     "output_type": "execute_result"
    }
   ],
   "source": [
    "p.items_list"
   ]
  },
  {
   "cell_type": "code",
   "execution_count": 36,
   "id": "1ec703f3-2575-4c92-9b0a-9f738f2493d8",
   "metadata": {},
   "outputs": [
    {
     "data": {
      "text/plain": [
       "{'Apparel_Accessories': {1: [\"Men's Classic Denim Jeans\", 1000, 10],\n",
       "  2: [\"Women's Floral Maxi Dress\", 1050, 10],\n",
       "  3: ['Unisex Basic White T-Shirt', 550, 10],\n",
       "  4: ['Leather Wallet with RFID Protection', 1500, 10],\n",
       "  5: ['Sterling Silver Pendant Necklace', 3000, 10],\n",
       "  6: ['Sporty Running Shoes', 1800, 10],\n",
       "  7: ['Cashmere Scarf', 750, 10],\n",
       "  8: ['Wool Blend Winter Coat', 3500, 10],\n",
       "  9: [\"Kids' Graphic Hoodie\", 1250, 10],\n",
       "  10: ['Polarized Sunglasses', 5000, 10]},\n",
       " 'Home Goods & Decor': {1: ['Ceramic Dinnerware Set (4 Place Settings)',\n",
       "   25000,\n",
       "   10],\n",
       "  2: ['Memory Foam Pillow', 600, 10],\n",
       "  3: ['Weighted Blanket', 500, 10],\n",
       "  4: ['Scented Soy Candle (Lavender)', 200, 10],\n",
       "  5: ['Decorative Throw Pillow', 350, 10],\n",
       "  6: ['Stainless Steel Cookware Set', 50, 10],\n",
       "  7: ['Art Print (Abstract Landscape)', 300, 10],\n",
       "  8: ['Plush Bath Towel Set', 200, 10],\n",
       "  9: ['Smart LED Light Bulbs', 100, 10],\n",
       "  10: ['Area Rug (Geometric Pattern)', 300, 10]},\n",
       " 'Electronics': {1: ['Wireless Noise-Canceling Headphones', 3500, 10],\n",
       "  2: ['Portable Bluetooth Speaker', 650, 10],\n",
       "  3: ['Smartwatch with Heart Rate Monitor', 1200, 10],\n",
       "  4: ['4K Ultra HD Smart TV', 550000, 10],\n",
       "  5: ['Laptop Computer (13-inch Ultrabook)', 250000, 10],\n",
       "  6: ['External Solid State Drive (1TB)', 8000, 10],\n",
       "  7: ['Wireless Charging Pad', 750, 10],\n",
       "  8: ['Digital Instant Camera', 35000, 10],\n",
       "  9: ['Home Security Camera System', 3500, 10],\n",
       "  10: ['Gaming Mouse and Keyboard Combo', 1000, 10]},\n",
       " 'Groceries & Food': {1: ['Organic Whole Milk', 120, 10],\n",
       "  2: ['Artisan Sourdough Bread', 200, 10],\n",
       "  3: ['Fresh Berries (Mixed Pack)', 350, 10],\n",
       "  4: ['Ground Coffee (Medium Roast)', 1999, 10],\n",
       "  5: ['Extra Virgin Olive Oil', 1500, 10],\n",
       "  6: ['Pasta Sauce (Marinara)', 850, 10],\n",
       "  7: ['Assorted Cheese Platter', 550, 10],\n",
       "  8: ['Granola Bars (Variety Pack)', 650, 10],\n",
       "  9: ['Sparkling Water (Lemon-Lime)', 350, 10],\n",
       "  10: ['Dark Chocolate Bar (70% Cacao)', 650, 10]},\n",
       " 'Toys & Games': {1: ['Building Block Set (Advanced)', 6500, 10],\n",
       "  2: ['Action Figure (Superhero)', 3000, 10],\n",
       "  3: ['Board Game (Strategy)', 1200, 10],\n",
       "  4: ['Plush Animal (Large Teddy Bear)', 12300, 10],\n",
       "  5: ['Remote Control Car', 6500, 10],\n",
       "  6: ['Jigsaw Puzzle (1000 Pieces)', 1000, 10],\n",
       "  7: ['Art Supplies Kit (Deluxe)', 6541, 10],\n",
       "  8: ['Dolls House with Furniture', 9000, 10],\n",
       "  9: ['Educational Robot Kit', 6890, 2],\n",
       "  10: ['Outdoor Play Tent', 15000, 10]},\n",
       " 'Books & Media': {1: ['Bestselling Fiction Novel', 350, 10],\n",
       "  2: ['Non-Fiction Biography', 350, 10],\n",
       "  3: [\"Children's Picture Book\", 650, 10],\n",
       "  4: ['Cookbook (International Cuisine)', 550, 10],\n",
       "  5: ['Self-Help Guide', 550, 10],\n",
       "  6: ['Vinyl Record (Classic Rock Album)', 650, 10],\n",
       "  7: ['Blu-ray Movie (Action)', 900, 10],\n",
       "  8: ['Audiobook Subscription Card', 1000, 10],\n",
       "  9: ['E-Reader Device', 660, 10],\n",
       "  10: ['Magazine Subscription (Fashion)', 36, 10]}}"
      ]
     },
     "execution_count": 36,
     "metadata": {},
     "output_type": "execute_result"
    }
   ],
   "source": [
    "p.ITEMS"
   ]
  },
  {
   "cell_type": "code",
   "execution_count": 37,
   "id": "b5c7b1fe-44dd-4eb9-80ab-fb7d292a10f0",
   "metadata": {},
   "outputs": [
    {
     "data": {
      "text/plain": [
       "{1: ['Building Block Set (Advanced)', 6500, 10],\n",
       " 2: ['Action Figure (Superhero)', 3000, 10],\n",
       " 3: ['Board Game (Strategy)', 1200, 10],\n",
       " 4: ['Plush Animal (Large Teddy Bear)', 12300, 10],\n",
       " 5: ['Remote Control Car', 6500, 10],\n",
       " 6: ['Jigsaw Puzzle (1000 Pieces)', 1000, 10],\n",
       " 7: ['Art Supplies Kit (Deluxe)', 6541, 10],\n",
       " 8: ['Dolls House with Furniture', 9000, 10],\n",
       " 9: ['Educational Robot Kit', 6890, 2],\n",
       " 10: ['Outdoor Play Tent', 15000, 10]}"
      ]
     },
     "execution_count": 37,
     "metadata": {},
     "output_type": "execute_result"
    }
   ],
   "source": [
    "p.Items_list"
   ]
  },
  {
   "cell_type": "code",
   "execution_count": 33,
   "id": "dcb45491-43f6-4b80-b80a-123da0969133",
   "metadata": {},
   "outputs": [
    {
     "name": "stdout",
     "output_type": "stream",
     "text": [
      " ========= SELECT DEPARTMENT =============\n",
      "0------------>>Apparel_Accessories\n",
      "1------------>>Home Goods & Decor\n",
      "2------------>>Electronics\n",
      "3------------>>Groceries & Food\n",
      "4------------>>Toys & Games\n",
      "5------------>>Books & Media\n"
     ]
    },
    {
     "name": "stdin",
     "output_type": "stream",
     "text": [
      "Select department ( 1-6 ): 5\n"
     ]
    },
    {
     "name": "stdout",
     "output_type": "stream",
     "text": [
      "1---['Building Block Set (Advanced)', 6500, 10]\n",
      "2---['Action Figure (Superhero)', 3000, 10]\n",
      "3---['Board Game (Strategy)', 1200, 10]\n",
      "4---['Plush Animal (Large Teddy Bear)', 12300, 10]\n",
      "5---['Remote Control Car', 6500, 10]\n",
      "6---['Jigsaw Puzzle (1000 Pieces)', 1000, 10]\n",
      "7---['Art Supplies Kit (Deluxe)', 6541, 10]\n",
      "8---['Dolls House with Furniture', 9000, 10]\n",
      "9---['Educational Robot Kit', 6890, 10]\n",
      "10---['Outdoor Play Tent', 15000, 10]\n"
     ]
    },
    {
     "name": "stdin",
     "output_type": "stream",
     "text": [
      "Select item (1-10): 9\n",
      "Select Quantity : 2\n"
     ]
    }
   ],
   "source": [
    "p.Display()\n"
   ]
  },
  {
   "cell_type": "code",
   "execution_count": 16,
   "id": "ef2c69ee-1b33-4c11-8f59-82ab3b74274b",
   "metadata": {},
   "outputs": [
    {
     "name": "stdout",
     "output_type": "stream",
     "text": [
      "[[\"Men's Classic Denim Jeans\", 1000, 1], ['Dark Chocolate Bar (70% Cacao)', 650, 5]]\n"
     ]
    }
   ],
   "source": [
    "p.update()"
   ]
  },
  {
   "cell_type": "code",
   "execution_count": 17,
   "id": "c1d41d67-4653-4436-ac10-c81f995fd4fb",
   "metadata": {},
   "outputs": [
    {
     "name": "stdout",
     "output_type": "stream",
     "text": [
      "[\"Men's Classic Denim Jeans\", 1000, 1]\n",
      "['Dark Chocolate Bar (70% Cacao)', 650, 5]\n"
     ]
    }
   ],
   "source": [
    "p.Total_price(10)\n"
   ]
  },
  {
   "cell_type": "code",
   "execution_count": 18,
   "id": "da493fba-1155-4de9-b9a4-eb198af48ca2",
   "metadata": {},
   "outputs": [
    {
     "name": "stdout",
     "output_type": "stream",
     "text": [
      "before discount = 4250\n",
      "Discounted amount = 425.0\n",
      "after discount total amount = 3825.0\n"
     ]
    }
   ],
   "source": [
    "p.show_total()"
   ]
  },
  {
   "cell_type": "code",
   "execution_count": null,
   "id": "65a21071-128b-4b61-bf6f-1de99ee48098",
   "metadata": {},
   "outputs": [
    {
     "name": "stdout",
     "output_type": "stream",
     "text": [
      " ========= SELECT DEPARTMENT =============\n",
      "1------------>>Apparel_Accessories\n",
      "2------------>>Home Goods & Decor\n",
      "3------------>>Electronics\n",
      "4------------>>Groceries & Food\n",
      "5------------>>Toys & Games\n",
      "6------------>>Books & Media\n",
      "7------------>>Apparel_Accessories\n",
      "8------------>>Home Goods & Decor\n",
      "9------------>>Electronics\n",
      "10------------>>Groceries & Food\n",
      "11------------>>Toys & Games\n",
      "12------------>>Books & Media\n",
      "13------------>>Apparel_Accessories\n",
      "14------------>>Home Goods & Decor\n",
      "15------------>>Electronics\n",
      "16------------>>Groceries & Food\n",
      "17------------>>Toys & Games\n",
      "18------------>>Books & Media\n"
     ]
    },
    {
     "name": "stdin",
     "output_type": "stream",
     "text": [
      "Select department ( 1-6 ): 1\n"
     ]
    },
    {
     "name": "stdout",
     "output_type": "stream",
     "text": [
      "1---[\"Men's Classic Denim Jeans\", 1000, 1]\n",
      "2---[\"Women's Floral Maxi Dress\", 1050, 10]\n",
      "3---['Unisex Basic White T-Shirt', 550, 10]\n",
      "4---['Leather Wallet with RFID Protection', 1500, 10]\n",
      "5---['Sterling Silver Pendant Necklace', 3000, 10]\n",
      "6---['Sporty Running Shoes', 1800, 10]\n",
      "7---['Cashmere Scarf', 750, 10]\n",
      "8---['Wool Blend Winter Coat', 3500, 10]\n",
      "9---[\"Kids' Graphic Hoodie\", 1250, 10]\n",
      "10---['Polarized Sunglasses', 5000, 10]\n"
     ]
    }
   ],
   "source": [
    "p.Display()"
   ]
  },
  {
   "cell_type": "markdown",
   "id": "548fd3e9-4642-4e84-878e-fa055c6b8ecd",
   "metadata": {},
   "source": [
    "### shopping cart "
   ]
  },
  {
   "cell_type": "code",
   "execution_count": null,
   "id": "19f152d8-f891-4eb6-94ce-cf8742944b9e",
   "metadata": {},
   "outputs": [],
   "source": [
    "class ShoppingCart:\n",
    "    cart={}\n",
    "    def __init__(self):\n",
    "        pass\n",
    "    def calculate_total_cost(self,discount_amount,cart_dict):\n",
    "        pass\n",
    "    \n",
    "        "
   ]
  },
  {
   "cell_type": "markdown",
   "id": "4e4d8047-79b9-4d26-8f1a-55ecf63ab776",
   "metadata": {},
   "source": [
    "### program flow how ? \n"
   ]
  },
  {
   "cell_type": "code",
   "execution_count": 3,
   "id": "b6069bbf-3ed2-4c39-89d4-ca65b217f444",
   "metadata": {},
   "outputs": [
    {
     "name": "stdin",
     "output_type": "stream",
     "text": [
      "Enter Your Name : AASHISH \n",
      "Enter Your Phone number: 9841585917\n"
     ]
    },
    {
     "ename": "NameError",
     "evalue": "name 'Product_list' is not defined",
     "output_type": "error",
     "traceback": [
      "\u001b[31m---------------------------------------------------------------------------\u001b[39m",
      "\u001b[31mNameError\u001b[39m                                 Traceback (most recent call last)",
      "\u001b[36mCell\u001b[39m\u001b[36m \u001b[39m\u001b[32mIn[3]\u001b[39m\u001b[32m, line 12\u001b[39m\n\u001b[32m      7\u001b[39m     number=\u001b[38;5;28minput\u001b[39m(\u001b[33m\"\u001b[39m\u001b[33mEnter Your Phone number:\u001b[39m\u001b[33m\"\u001b[39m)\n\u001b[32m      9\u001b[39m     \u001b[38;5;66;03m#tespaxi display garne items \u001b[39;00m\n\u001b[32m     10\u001b[39m \u001b[38;5;66;03m#    user1= member(name,number)\u001b[39;00m\n\u001b[32m     11\u001b[39m  \u001b[38;5;66;03m#   user1_cart= ShoppingCart() # just created an instance for a shopping cart \u001b[39;00m\n\u001b[32m---> \u001b[39m\u001b[32m12\u001b[39m     product=\u001b[43mProduct_list\u001b[49m() \u001b[38;5;66;03m# INSTANCE NI BANYO\u001b[39;00m\n\u001b[32m     13\u001b[39m     \u001b[38;5;28;01mfor\u001b[39;00m key,value \u001b[38;5;129;01min\u001b[39;00m product.items_list.items():\n\u001b[32m     14\u001b[39m         \u001b[38;5;66;03m#i can use clear screen to display ..\u001b[39;00m\n\u001b[32m     15\u001b[39m         \u001b[38;5;28mprint\u001b[39m(\u001b[33m\"\u001b[39m\u001b[33m========================================================================================\u001b[39m\u001b[33m\"\u001b[39m)\n",
      "\u001b[31mNameError\u001b[39m: name 'Product_list' is not defined"
     ]
    }
   ],
   "source": [
    "#lets see \n",
    "if __name__ == \"__main__\": # idk k ho \n",
    "    #1st thing vaneko chai shopping garne ho login garam \n",
    "    #user bata name ra member or phone number halna lagam .\n",
    "    # use decorator to decorate the output of this portion\n",
    "    name=input(\"Enter Your Name :\")\n",
    "    number=input(\"Enter Your Phone number:\")\n",
    "    \n",
    "    #tespaxi display garne items \n",
    "#    user1= member(name,number)\n",
    " #   user1_cart= ShoppingCart() # just created an instance for a shopping cart \n",
    "    product=Product_list() # INSTANCE NI BANYO\n",
    "    for key,value in product.items_list.items():\n",
    "        #i can use clear screen to display ..\n",
    "        print(\"========================================================================================\")\n",
    "        print(f\"======================{key}====================================================\")\n",
    "        print(\"=========================================================================================\")\n",
    "        print(f\"=====  SN  ===========  [ ITEM NAME , PRICE , REMAINING ITEM]  ==========================\")\n",
    "        for key1,value1 in value.items():\n",
    "            print(f\"{key1}----------->> {value1}\")  \n",
    "            \n",
    "    # above is just for displaying items \n",
    " # user need to buy items .\n",
    "# inpt linu paro ?\n",
    "    "
   ]
  },
  {
   "cell_type": "code",
   "execution_count": 10,
   "id": "88e88fdd-2749-4253-bb05-35245e28e15e",
   "metadata": {},
   "outputs": [],
   "source": [
    "class input_item:\n",
    "    \n",
    "    product=Product_list() # INSTANCE NI BANYO\n",
    "    \n",
    "    # do yo sabbai auta class ma haldina paaye we can re use it again and again .2\n",
    "    def __init__(self):\n",
    "        self.department=[]\n",
    "        self.cart_items=[]\n",
    "        self.a=1\n",
    "        self.total=0\n",
    "        self.discount_amount=0\n",
    "        \n",
    "    def Display(self):\n",
    "        self.a=0\n",
    "        \n",
    "        for key,value in product.items_list.items():\n",
    "            self.department.append(key)\n",
    "        print(\" ========= SELECT DEPARTMENT =============\")\n",
    "        \n",
    "        for i in self.department:\n",
    "            print(f\"{self.a}------------>>{i}\")\n",
    "            self.a=self.a+1\n",
    "        choice = int(input(\"Select department ( 1-6 ):\"))\n",
    "        self.department[choice-1]\n",
    "        items_list=self.product.items_list.get(self.department[choice-1])\n",
    "        for key1,value1 in items_list.items():\n",
    "            print(f\"{key1}---{value1}\")\n",
    "        choose_item=int(input(\"Select item (1-10):\"))\n",
    "        choose_quantity=int(input(\"Select Quantity :\"))\n",
    "      #  product.update(items_list[choose_item])\n",
    "        items_list[choose_item][2] = items_list[choose_item][2]-choose_quantity # update garne kam garyo hai \n",
    "        \n",
    "        cart_items.append(items_list[choose_item])\n",
    "        items_list\n",
    "    #def cart(self,discount):\n",
    "        \n",
    "        \n"
   ]
  },
  {
   "cell_type": "code",
   "execution_count": 15,
   "id": "58d970eb-24cf-4e9d-8cb2-cfa8defc4010",
   "metadata": {},
   "outputs": [],
   "source": [
    "i = input_item()"
   ]
  },
  {
   "cell_type": "code",
   "execution_count": 16,
   "id": "fd6f72e8-fb2e-4f8e-9ffe-6c79dac1b2e1",
   "metadata": {},
   "outputs": [
    {
     "ename": "NameError",
     "evalue": "name 'product' is not defined",
     "output_type": "error",
     "traceback": [
      "\u001b[31m---------------------------------------------------------------------------\u001b[39m",
      "\u001b[31mNameError\u001b[39m                                 Traceback (most recent call last)",
      "\u001b[36mCell\u001b[39m\u001b[36m \u001b[39m\u001b[32mIn[16]\u001b[39m\u001b[32m, line 1\u001b[39m\n\u001b[32m----> \u001b[39m\u001b[32m1\u001b[39m \u001b[43mi\u001b[49m\u001b[43m.\u001b[49m\u001b[43mDisplay\u001b[49m\u001b[43m(\u001b[49m\u001b[43m)\u001b[49m\n",
      "\u001b[36mCell\u001b[39m\u001b[36m \u001b[39m\u001b[32mIn[10]\u001b[39m\u001b[32m, line 16\u001b[39m, in \u001b[36minput_item.Display\u001b[39m\u001b[34m(self)\u001b[39m\n\u001b[32m     13\u001b[39m \u001b[38;5;28;01mdef\u001b[39;00m\u001b[38;5;250m \u001b[39m\u001b[34mDisplay\u001b[39m(\u001b[38;5;28mself\u001b[39m):\n\u001b[32m     14\u001b[39m     \u001b[38;5;28mself\u001b[39m.a=\u001b[32m0\u001b[39m\n\u001b[32m---> \u001b[39m\u001b[32m16\u001b[39m     \u001b[38;5;28;01mfor\u001b[39;00m key,value \u001b[38;5;129;01min\u001b[39;00m \u001b[43mproduct\u001b[49m.items_list.items():\n\u001b[32m     17\u001b[39m         \u001b[38;5;28mself\u001b[39m.department.append(key)\n\u001b[32m     18\u001b[39m     \u001b[38;5;28mprint\u001b[39m(\u001b[33m\"\u001b[39m\u001b[33m ========= SELECT DEPARTMENT =============\u001b[39m\u001b[33m\"\u001b[39m)\n",
      "\u001b[31mNameError\u001b[39m: name 'product' is not defined"
     ]
    }
   ],
   "source": [
    "i.Display()"
   ]
  },
  {
   "cell_type": "code",
   "execution_count": null,
   "id": "6d1975d2-59ca-4904-a2e3-07b2ffbea216",
   "metadata": {},
   "outputs": [],
   "source": []
  },
  {
   "cell_type": "code",
   "execution_count": null,
   "id": "6a24567a-b3dc-479b-af03-e9086dbb6a18",
   "metadata": {},
   "outputs": [],
   "source": []
  },
  {
   "cell_type": "markdown",
   "id": "4635b98d-099c-43c9-b859-51de0989d48d",
   "metadata": {},
   "source": [
    "### GENERATING INVOICE "
   ]
  },
  {
   "cell_type": "code",
   "execution_count": null,
   "id": "4e7c6b81-5a92-4358-80ab-2236df4f7146",
   "metadata": {},
   "outputs": [],
   "source": [
    "class GenerateInvoice():\n",
    "\n",
    "# k garne bhayo yesle vaneci \n",
    "    def displayy():\n",
    "        print(\"*\"*30)\n",
    "        print(\"-\"*30)\n",
    "        print(f\"Invoice Number : {invoice_number}                            Date : { time } \")#yesma ajha ko time haldim hai ease\n",
    "        print(\"--\"*30)\n",
    "        print (f\"SN {\"-\"*10} Item Name {\"-\"*10}\")\n",
    "        \n",
    "        print(f\"{i} { name }      {price}\")\n",
    "        "
   ]
  }
 ],
 "metadata": {
  "kernelspec": {
   "display_name": "Python 3 (ipykernel)",
   "language": "python",
   "name": "python3"
  },
  "language_info": {
   "codemirror_mode": {
    "name": "ipython",
    "version": 3
   },
   "file_extension": ".py",
   "mimetype": "text/x-python",
   "name": "python",
   "nbconvert_exporter": "python",
   "pygments_lexer": "ipython3",
   "version": "3.10.12"
  }
 },
 "nbformat": 4,
 "nbformat_minor": 5
}
