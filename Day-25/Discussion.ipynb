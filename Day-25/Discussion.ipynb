{
 "cells": [
  {
   "cell_type": "code",
   "execution_count": 10,
   "id": "0c30b2a6-1f05-4cce-866d-ccc95555cd7f",
   "metadata": {},
   "outputs": [],
   "source": [
    "my_dict = {1:\"Maths\",\"Science\":2}"
   ]
  },
  {
   "cell_type": "code",
   "execution_count": 11,
   "id": "50602ad7-dbe2-4a02-a8df-16a39f8f2ca8",
   "metadata": {},
   "outputs": [
    {
     "data": {
      "text/plain": [
       "{1: 'Maths', 'Science': 2}"
      ]
     },
     "execution_count": 11,
     "metadata": {},
     "output_type": "execute_result"
    }
   ],
   "source": [
    "my_dict"
   ]
  },
  {
   "cell_type": "code",
   "execution_count": 12,
   "id": "f574c1ef-8230-49ad-a3ad-0a73180f9873",
   "metadata": {},
   "outputs": [],
   "source": [
    "new_dict = my_dict.copy()"
   ]
  },
  {
   "cell_type": "code",
   "execution_count": 13,
   "id": "bc5ab554-dca1-42d4-8e9b-4205f1e673de",
   "metadata": {},
   "outputs": [
    {
     "data": {
      "text/plain": [
       "{1: 'Maths', 'Science': 2}"
      ]
     },
     "execution_count": 13,
     "metadata": {},
     "output_type": "execute_result"
    }
   ],
   "source": [
    "new_dict"
   ]
  },
  {
   "cell_type": "code",
   "execution_count": 14,
   "id": "e1fc3e62-0d6b-4252-8904-1900bc3f5bb8",
   "metadata": {},
   "outputs": [],
   "source": [
    "new_dict[3] = \"Social\"\n"
   ]
  },
  {
   "cell_type": "code",
   "execution_count": 15,
   "id": "fe83f504-544c-4cec-922d-0646c8683a75",
   "metadata": {},
   "outputs": [
    {
     "data": {
      "text/plain": [
       "{1: 'Maths', 'Science': 2, 3: 'Social'}"
      ]
     },
     "execution_count": 15,
     "metadata": {},
     "output_type": "execute_result"
    }
   ],
   "source": [
    "new_dict"
   ]
  },
  {
   "cell_type": "code",
   "execution_count": 16,
   "id": "d7892a69-cd71-4b7a-97f3-52807529b230",
   "metadata": {},
   "outputs": [
    {
     "data": {
      "text/plain": [
       "{1: 'Maths', 'Science': 2}"
      ]
     },
     "execution_count": 16,
     "metadata": {},
     "output_type": "execute_result"
    }
   ],
   "source": [
    "my_dict"
   ]
  },
  {
   "cell_type": "code",
   "execution_count": null,
   "id": "4881cbb4-05ff-447a-912e-b2ac0408578e",
   "metadata": {},
   "outputs": [],
   "source": []
  }
 ],
 "metadata": {
  "kernelspec": {
   "display_name": "Python 3 (ipykernel)",
   "language": "python",
   "name": "python3"
  },
  "language_info": {
   "codemirror_mode": {
    "name": "ipython",
    "version": 3
   },
   "file_extension": ".py",
   "mimetype": "text/x-python",
   "name": "python",
   "nbconvert_exporter": "python",
   "pygments_lexer": "ipython3",
   "version": "3.10.12"
  }
 },
 "nbformat": 4,
 "nbformat_minor": 5
}
