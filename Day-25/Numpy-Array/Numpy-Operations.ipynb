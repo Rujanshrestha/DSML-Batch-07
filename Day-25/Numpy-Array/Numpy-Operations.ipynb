{
 "cells": [
  {
   "cell_type": "markdown",
   "id": "aa4cb790-2af5-4fe5-8e86-ed2cb6dcfdd8",
   "metadata": {},
   "source": [
    "## 1. Elementwise Operations\n",
    "\n",
    "Refer to : https://numpy.org/doc/1.26/reference/array_api.html#elementwise-functions"
   ]
  },
  {
   "cell_type": "code",
   "execution_count": 1,
   "id": "a757a10c-0859-46ab-bc5e-e5633b0de38f",
   "metadata": {},
   "outputs": [],
   "source": [
    "import numpy as np"
   ]
  },
  {
   "cell_type": "code",
   "execution_count": 20,
   "id": "f6fa846d-0a6b-4cea-b345-62cee24314e6",
   "metadata": {},
   "outputs": [],
   "source": [
    "a = np.array([[4,5,6],[5,7,9]])\n",
    "b = np.array([[3,2,1],[9,8,1]])"
   ]
  },
  {
   "cell_type": "code",
   "execution_count": 13,
   "id": "f43c58f1-be46-4a72-8eb1-93cde948616c",
   "metadata": {},
   "outputs": [
    {
     "data": {
      "text/plain": [
       "(array([[4, 5, 6],\n",
       "        [5, 7, 9]]),\n",
       " array([[3, 2, 1],\n",
       "        [9, 8, 0]]))"
      ]
     },
     "execution_count": 13,
     "metadata": {},
     "output_type": "execute_result"
    }
   ],
   "source": [
    "a,b"
   ]
  },
  {
   "cell_type": "markdown",
   "id": "07d94895-d2c0-4623-a1d0-48561176dc63",
   "metadata": {},
   "source": [
    "### Arithmetic Operations"
   ]
  },
  {
   "cell_type": "code",
   "execution_count": 14,
   "id": "64fba381-dadf-46ec-a5e5-601dc6907eb3",
   "metadata": {},
   "outputs": [
    {
     "data": {
      "text/plain": [
       "array([[ 7,  7,  7],\n",
       "       [14, 15,  9]])"
      ]
     },
     "execution_count": 14,
     "metadata": {},
     "output_type": "execute_result"
    }
   ],
   "source": [
    "# a + b\n",
    "np.add(a,b)"
   ]
  },
  {
   "cell_type": "code",
   "execution_count": 6,
   "id": "0d479643-063e-4b4a-9293-31a556b2bad6",
   "metadata": {},
   "outputs": [
    {
     "data": {
      "text/plain": [
       "array([[ 1,  3,  5],\n",
       "       [-4, -1,  9]])"
      ]
     },
     "execution_count": 6,
     "metadata": {},
     "output_type": "execute_result"
    }
   ],
   "source": [
    "# a- b\n",
    "np.subtract(a,b)"
   ]
  },
  {
   "cell_type": "code",
   "execution_count": 15,
   "id": "8faf6e48-f890-447c-84e5-3858c569b1eb",
   "metadata": {},
   "outputs": [
    {
     "data": {
      "text/plain": [
       "array([[12, 10,  6],\n",
       "       [45, 56,  0]])"
      ]
     },
     "execution_count": 15,
     "metadata": {},
     "output_type": "execute_result"
    }
   ],
   "source": [
    "# a * b\n",
    "np.multiply(a,b)"
   ]
  },
  {
   "cell_type": "code",
   "execution_count": 18,
   "id": "a0458be3-b4b4-4994-b06a-88a251bb063f",
   "metadata": {},
   "outputs": [
    {
     "data": {
      "text/plain": [
       "array([[16, 25, 36],\n",
       "       [25, 49, 81]])"
      ]
     },
     "execution_count": 18,
     "metadata": {},
     "output_type": "execute_result"
    }
   ],
   "source": [
    "# a ** 2\n",
    "# np.square(a)\n",
    "np.power(a, 2)"
   ]
  },
  {
   "cell_type": "code",
   "execution_count": 24,
   "id": "0b12491a-20af-4029-885e-9a347429dff2",
   "metadata": {},
   "outputs": [],
   "source": [
    "# a % b\n",
    "quo, rem = np.divmod(a,b)"
   ]
  },
  {
   "cell_type": "code",
   "execution_count": 25,
   "id": "0ef77037-6223-49b9-a0c4-c818bf7a34db",
   "metadata": {},
   "outputs": [
    {
     "data": {
      "text/plain": [
       "array([[1, 1, 0],\n",
       "       [5, 7, 0]])"
      ]
     },
     "execution_count": 25,
     "metadata": {},
     "output_type": "execute_result"
    }
   ],
   "source": [
    "rem"
   ]
  },
  {
   "cell_type": "markdown",
   "id": "23086675-dbda-4de3-8af1-33a53b527dc5",
   "metadata": {},
   "source": [
    "### Trignometric"
   ]
  },
  {
   "cell_type": "code",
   "execution_count": 26,
   "id": "e40d30b4-b3eb-4dd1-90d4-f0f13b562d20",
   "metadata": {},
   "outputs": [
    {
     "data": {
      "text/plain": [
       "array([[-0.7568025 , -0.95892427, -0.2794155 ],\n",
       "       [-0.95892427,  0.6569866 ,  0.41211849]])"
      ]
     },
     "execution_count": 26,
     "metadata": {},
     "output_type": "execute_result"
    }
   ],
   "source": [
    "np.sin(a)"
   ]
  },
  {
   "cell_type": "code",
   "execution_count": 28,
   "id": "5407b75a-4943-49fc-879a-940b6616a860",
   "metadata": {},
   "outputs": [
    {
     "data": {
      "text/plain": [
       "array([[-7.01525255, -0.45765755,  0.64209262],\n",
       "       [-2.21084541, -0.14706506,  0.64209262]])"
      ]
     },
     "execution_count": 28,
     "metadata": {},
     "output_type": "execute_result"
    }
   ],
   "source": [
    "new = 1 / np.tan(b)\n",
    "new"
   ]
  },
  {
   "cell_type": "markdown",
   "id": "851f54cb-bb94-4550-9070-5142e149c05d",
   "metadata": {},
   "source": [
    "### Rounding operations"
   ]
  },
  {
   "cell_type": "code",
   "execution_count": 31,
   "id": "1855f94d-9dbb-4173-9f83-cfddb813d1ed",
   "metadata": {},
   "outputs": [
    {
     "data": {
      "text/plain": [
       "array([[-7.015, -0.458,  0.642],\n",
       "       [-2.211, -0.147,  0.642]])"
      ]
     },
     "execution_count": 31,
     "metadata": {},
     "output_type": "execute_result"
    }
   ],
   "source": [
    "# np.round(new, decimals=3)\n",
    "np.around(new, decimals=3)"
   ]
  },
  {
   "cell_type": "code",
   "execution_count": 32,
   "id": "a38b7653-c19a-4d63-9e4c-1aecb4a86f02",
   "metadata": {},
   "outputs": [
    {
     "data": {
      "text/plain": [
       "array([[-7., -0.,  0.],\n",
       "       [-2., -0.,  0.]])"
      ]
     },
     "execution_count": 32,
     "metadata": {},
     "output_type": "execute_result"
    }
   ],
   "source": [
    "np.fix(new)"
   ]
  },
  {
   "cell_type": "code",
   "execution_count": 33,
   "id": "7d2c60f4-aa53-4fe3-816c-5405b7f43d1a",
   "metadata": {},
   "outputs": [
    {
     "data": {
      "text/plain": [
       "array([[-8., -1.,  0.],\n",
       "       [-3., -1.,  0.]])"
      ]
     },
     "execution_count": 33,
     "metadata": {},
     "output_type": "execute_result"
    }
   ],
   "source": [
    "np.floor(new)"
   ]
  },
  {
   "cell_type": "code",
   "execution_count": 34,
   "id": "00f2242f-4aad-49d7-899e-0352fbc6286c",
   "metadata": {},
   "outputs": [
    {
     "data": {
      "text/plain": [
       "array([[-7., -0.,  1.],\n",
       "       [-2., -0.,  1.]])"
      ]
     },
     "execution_count": 34,
     "metadata": {},
     "output_type": "execute_result"
    }
   ],
   "source": [
    "np.ceil(new)"
   ]
  },
  {
   "cell_type": "code",
   "execution_count": null,
   "id": "5f8957d8-5aa5-4c8c-b39f-f7ef400b878b",
   "metadata": {},
   "outputs": [],
   "source": []
  }
 ],
 "metadata": {
  "kernelspec": {
   "display_name": "Python 3 (ipykernel)",
   "language": "python",
   "name": "python3"
  },
  "language_info": {
   "codemirror_mode": {
    "name": "ipython",
    "version": 3
   },
   "file_extension": ".py",
   "mimetype": "text/x-python",
   "name": "python",
   "nbconvert_exporter": "python",
   "pygments_lexer": "ipython3",
   "version": "3.10.12"
  }
 },
 "nbformat": 4,
 "nbformat_minor": 5
}
