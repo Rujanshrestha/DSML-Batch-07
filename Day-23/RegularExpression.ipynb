{
 "cells": [
  {
   "cell_type": "markdown",
   "id": "df5d19cc-524b-449a-b879-ad028eb77b76",
   "metadata": {},
   "source": [
    "# Regular Expression in Python\n",
    "\n",
    "Regular expressions (also known as regex or regexp) are a powerful tool for searching and manipulating text. They allow you to define a pattern or set of rules that describe a particular string of characters, and then search for or manipulate any text that matches that pattern.\n",
    "\n",
    "Regular expressions are commonly used in programming, particularly for tasks like data validation, searching and replacing text, and parsing strings. They are also useful in text editors, command-line tools, and other applications that involve working with text.\n",
    "\n",
    "Some of the benefits of using regular expressions include:\n",
    "\n",
    "- **Flexibility:** Regular expressions are incredibly flexible and can match a wide range of patterns, from simple strings to complex sequences of characters.\n",
    "- **Efficiency:** Regular expressions are often faster than alternative methods for text processing, particularly for large amounts of data.\n",
    "- **Accuracy:** Regular expressions are very precise and can be used to match specific patterns, ensuring that you only work with the data that you need.\n",
    "- **Standardization:** Regular expressions are a widely accepted standard for working with text, making it easier to share and collaborate on code that involves text processing.\n",
    "\n",
    "```\n",
    "https://regexr.com/\n",
    "```"
   ]
  },
  {
   "cell_type": "code",
   "execution_count": 1,
   "id": "7be9186a-0588-42db-881e-ee10ff154e8d",
   "metadata": {},
   "outputs": [],
   "source": [
    "import re"
   ]
  },
  {
   "cell_type": "markdown",
   "id": "b89886e0-5cc2-40c1-9e37-bf2432469232",
   "metadata": {},
   "source": [
    "## Python RegEx Methods\n",
    "\n",
    "Python provides a powerful module called `re` for working with regular expressions. This module provides various methods for working with regular expressions in Python, including:\n",
    "\n",
    "### 1. re.search(pattern, string) \n",
    "\n",
    "The `re.search()` function is used to search for a pattern in a string and return the first occurrence of the pattern. It returns `None` if the match is not found. This is equivalent to `in` operator used with python string. Since the result is either some value or None, depending on whether a match was found or not, the result can be used with conditional expressions as well.\n",
    "\n",
    "- `pattern`: The regular expression pattern to search for\n",
    "- `string`: The string to search in\n",
    "\n",
    "It's a good idea to use raw strings (represented as `r'...'`) to define regular expression patterns. This will make more sense later on.\n",
    "\n",
    "The match object contains information about the match. Some of the useful methods and attributes of the match object are:\n",
    "\n",
    "- `group()`: Returns the matched string\n",
    "- `start()`: Returns the starting index of the match\n",
    "- `end()`: Returns the ending index of the match\n",
    "- `span()`: Returns a tuple containing the starting and ending indices of the match"
   ]
  },
  {
   "cell_type": "code",
   "execution_count": 12,
   "id": "50958827-0f15-4424-9aab-8ec7f772c45a",
   "metadata": {},
   "outputs": [],
   "source": [
    "string = \"The quick brown fox jumps over the lazy dog.\"\n",
    "pattern = r\"he\"\n",
    "\n",
    "match = re.search(pattern, string)"
   ]
  },
  {
   "cell_type": "code",
   "execution_count": 13,
   "id": "bb9622f9-acf0-4e7d-a332-95bb71aa4e8d",
   "metadata": {},
   "outputs": [
    {
     "name": "stdout",
     "output_type": "stream",
     "text": [
      "Match Object: <re.Match object; span=(1, 3), match='he'>\n",
      "Match Group: he\n",
      "Match Start: 1\n",
      "Match End: 3\n",
      "Match Span: (1, 3)\n"
     ]
    }
   ],
   "source": [
    "# Using re.search() with conditional expressions\n",
    "if match:\n",
    "    print(\"Match Object:\", match)\n",
    "    print(\"Match Group:\", match.group())\n",
    "    print(\"Match Start:\", match.start())\n",
    "    print(\"Match End:\", match.end())\n",
    "    print(\"Match Span:\", match.span())\n",
    "else:\n",
    "    print(\"No match found.\")"
   ]
  },
  {
   "cell_type": "markdown",
   "id": "80119425-cdd4-4251-bc7d-a14131868ac6",
   "metadata": {},
   "source": [
    "In the expression `<re.Match object; span=(1, 3), match='he'>` above, `re.Match` is the data type of the object, `match='he'` is the string that has been matched and `span=(1, 3)` is the index of start and end of the matched pattern `pattern` within the entire text `string`, where indexing starts from `0` as in regular python.\n"
   ]
  },
  {
   "cell_type": "markdown",
   "id": "d12255ad-a9d8-4c62-b5a5-710c575dd9d9",
   "metadata": {},
   "source": [
    "### 2. re.findall(pattern, string)\n",
    "\n",
    "The `re.findall()` function is used to find all occurrences of a regular expression pattern in a string. All the parameters are same as that used with `re.search()`. The result of `re.findall()` is a list of all the matches found. The result in the example below is quite simple, we will discuss the pattern design later to draw more insights on the upcoming topic. "
   ]
  },
  {
   "cell_type": "code",
   "execution_count": 22,
   "id": "626aa803-d11d-439c-9784-cca5261f72ed",
   "metadata": {},
   "outputs": [],
   "source": [
    "string = \"The quick brown fox jumps over the lazy dog.\"\n",
    "pattern = r\"[A-z]he\"\n",
    "\n",
    "match = re.findall(pattern, string)"
   ]
  },
  {
   "cell_type": "code",
   "execution_count": 23,
   "id": "9e020f00-4b6f-49b3-b05e-e7fc05c70046",
   "metadata": {},
   "outputs": [
    {
     "data": {
      "text/plain": [
       "['The', 'the']"
      ]
     },
     "execution_count": 23,
     "metadata": {},
     "output_type": "execute_result"
    }
   ],
   "source": [
    "match"
   ]
  },
  {
   "cell_type": "markdown",
   "id": "11445710-89dc-4c9c-8d8f-d81bbcd4fb45",
   "metadata": {},
   "source": [
    "### 3. re.sub(pattern, repl, string, count=0)\n",
    "\n",
    "`re.sub()` is a method that is used to replace occurrences of a pattern in a string with a replacement string. It returns a new string with the replacements made. Here are the parameters used:\n",
    "\n",
    "- `pattern`: The regular expression pattern to search for\n",
    "- `repl`: replacement string that you want to use in place of matched pattern\n",
    "- `string`: The string to search in\n",
    "- `count`: Maximum number of replacements to make\n"
   ]
  },
  {
   "cell_type": "code",
   "execution_count": 33,
   "id": "f1703f8a-225a-47cc-85b6-53abcc773828",
   "metadata": {},
   "outputs": [],
   "source": [
    "string = \"The quick brown fox jumps over the 40 m tall lazy dog.\"\n",
    "pattern = r\"[A-Z]he\"\n",
    "repl = \"the\"\n",
    "\n",
    "match = re.sub(pattern, repl, string, count=1)"
   ]
  },
  {
   "cell_type": "code",
   "execution_count": 34,
   "id": "4f8ad3ef-1388-446b-bfea-9d4c50f5f434",
   "metadata": {},
   "outputs": [
    {
     "data": {
      "text/plain": [
       "'the quick brown fox jumps over the 40 m tall lazy dog.'"
      ]
     },
     "execution_count": 34,
     "metadata": {},
     "output_type": "execute_result"
    }
   ],
   "source": [
    "match"
   ]
  },
  {
   "cell_type": "code",
   "execution_count": null,
   "id": "ed070b9a-c5e8-408f-89f2-9143c746db00",
   "metadata": {},
   "outputs": [],
   "source": []
  },
  {
   "cell_type": "markdown",
   "id": "67059cc9-be13-4ca4-a34f-e0b36d783ad4",
   "metadata": {},
   "source": [
    "### 4. re.split(pattern, string, maxsplit=0)\n",
    "\n",
    "`re.split()` is a method that is used to split a string into a list of substrings based on a regular expression pattern. It returns a list of the substrings. It is similar to Python's `split()` method use with Python `str` objects. Let's see how each parameter works:\n",
    "\n",
    "- `pattern`: The regular expression pattern to search for\n",
    "- `string`: The string to search in\n",
    "- `maxsplit`: Maximum number of splits to make\n"
   ]
  },
  {
   "cell_type": "code",
   "execution_count": 38,
   "id": "92121979-f6cf-441c-818f-74f3e3f2cc1d",
   "metadata": {},
   "outputs": [],
   "source": [
    "string = \"The quick brown fox jumps over the 40 m tall lazy dog.\"\n",
    "pattern = r\"[0-9]+\"\n",
    "\n",
    "segements = re.split(pattern, string)"
   ]
  },
  {
   "cell_type": "code",
   "execution_count": 39,
   "id": "8aaf3e13-85ef-44f4-bfc9-642382025b19",
   "metadata": {},
   "outputs": [
    {
     "data": {
      "text/plain": [
       "['The quick brown fox jumps over the ', ' m tall lazy dog.']"
      ]
     },
     "execution_count": 39,
     "metadata": {},
     "output_type": "execute_result"
    }
   ],
   "source": [
    "segements"
   ]
  },
  {
   "cell_type": "code",
   "execution_count": null,
   "id": "9ebd4045-5c2c-48cd-b1fd-f75bd3309584",
   "metadata": {},
   "outputs": [],
   "source": []
  },
  {
   "cell_type": "code",
   "execution_count": 47,
   "id": "2924a55d-1fbb-450f-bc25-59a53f8cc11f",
   "metadata": {},
   "outputs": [],
   "source": [
    "res = re.sub(r\"[\\W]+\", \"_\", \"amazonaws.com/clip_test_videos/5min_test.mp4\")"
   ]
  },
  {
   "cell_type": "code",
   "execution_count": 48,
   "id": "30e5b7db-3e8f-41f7-9e9d-4c66008eb0a3",
   "metadata": {},
   "outputs": [
    {
     "data": {
      "text/plain": [
       "'amazonaws_com_clip_test_videos_5min_test_mp4'"
      ]
     },
     "execution_count": 48,
     "metadata": {},
     "output_type": "execute_result"
    }
   ],
   "source": [
    "res"
   ]
  },
  {
   "cell_type": "code",
   "execution_count": null,
   "id": "b029536b-6e4d-4069-af8e-b8e3fb7db103",
   "metadata": {},
   "outputs": [],
   "source": []
  }
 ],
 "metadata": {
  "kernelspec": {
   "display_name": "Python 3 (ipykernel)",
   "language": "python",
   "name": "python3"
  },
  "language_info": {
   "codemirror_mode": {
    "name": "ipython",
    "version": 3
   },
   "file_extension": ".py",
   "mimetype": "text/x-python",
   "name": "python",
   "nbconvert_exporter": "python",
   "pygments_lexer": "ipython3",
   "version": "3.10.12"
  }
 },
 "nbformat": 4,
 "nbformat_minor": 5
}
