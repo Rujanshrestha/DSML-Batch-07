{
 "cells": [
  {
   "cell_type": "code",
   "execution_count": 7,
   "id": "373a47d2-1d38-432b-b0ef-af1d1e355280",
   "metadata": {},
   "outputs": [],
   "source": [
    "def runnner():\n",
    "    for i in range(7):\n",
    "        print(i)\n",
    "        return i\n",
    "    print(\"Else for for\")"
   ]
  },
  {
   "cell_type": "code",
   "execution_count": 8,
   "id": "f79fc892-b083-43ed-8d6d-b6e969dedacc",
   "metadata": {},
   "outputs": [
    {
     "name": "stdout",
     "output_type": "stream",
     "text": [
      "0\n"
     ]
    },
    {
     "data": {
      "text/plain": [
       "0"
      ]
     },
     "execution_count": 8,
     "metadata": {},
     "output_type": "execute_result"
    }
   ],
   "source": [
    "runnner()"
   ]
  },
  {
   "cell_type": "code",
   "execution_count": 10,
   "id": "3e2455ef-a43c-4f7e-a88b-dced8e381b3e",
   "metadata": {},
   "outputs": [
    {
     "name": "stdout",
     "output_type": "stream",
     "text": [
      "Login Success\n"
     ]
    }
   ],
   "source": [
    "name = \"python\"\n",
    "\n",
    "if name == \"Java\" or \"HTML\":\n",
    "    print(\"Login Success\")\n",
    "else:\n",
    "    print(\"Not Valid\")\n",
    "\n"
   ]
  },
  {
   "cell_type": "code",
   "execution_count": 14,
   "id": "6ce31ecc-a6fd-4e37-8ef5-5b2f391fe5b2",
   "metadata": {},
   "outputs": [],
   "source": [
    "if not isinstance(1,int):\n",
    "    print(\"Not Valid\")"
   ]
  },
  {
   "cell_type": "code",
   "execution_count": null,
   "id": "e2cf37ae-adb9-4e5f-97a8-3e48aa231e0a",
   "metadata": {},
   "outputs": [],
   "source": []
  }
 ],
 "metadata": {
  "kernelspec": {
   "display_name": "Python 3 (ipykernel)",
   "language": "python",
   "name": "python3"
  },
  "language_info": {
   "codemirror_mode": {
    "name": "ipython",
    "version": 3
   },
   "file_extension": ".py",
   "mimetype": "text/x-python",
   "name": "python",
   "nbconvert_exporter": "python",
   "pygments_lexer": "ipython3",
   "version": "3.10.12"
  }
 },
 "nbformat": 4,
 "nbformat_minor": 5
}
