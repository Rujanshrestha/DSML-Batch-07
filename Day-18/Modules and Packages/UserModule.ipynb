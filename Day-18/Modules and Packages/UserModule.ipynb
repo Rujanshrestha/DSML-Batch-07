{
 "cells": [
  {
   "cell_type": "markdown",
   "id": "3112fc4d-2b22-45a3-ab1e-6c48b1798dc6",
   "metadata": {},
   "source": [
    "# Packages in Python\n",
    "\n",
    "Packages are a way of grouping related modules together. A package is essentially a directory containing Python modules, with an additional `__init__.py` file in the directory to specify that it is a package. For example, consider a package named `mypackage` that contains two modules module1 and module2. The directory structure would be:\n",
    "\n",
    "```markdown\n",
    "mypackage/\n",
    "    __init__.py\n",
    "    module1.py\n",
    "    module2.py\n",
    "\n",
    "```\n",
    "\n",
    "To import modules from a package, you use `dot` notation with the package name and module name. For example, to import `module1` from `mypackage`:\n",
    "\n",
    "```python\n",
    "import mypackage.module1\n",
    "\n",
    "mypackage.module1.my_function()\n",
    "```\n",
    "\n",
    "You can also use the `from` statement to import specific functions or variables from a module or a package.\n",
    "\n",
    "```python\n",
    "from mypackage.module1 import my_function\n",
    "\n",
    "my_function()\n",
    "```\n",
    "\n",
    "In addition to this, if you encounter two or more functions or variables with same name from different packages you can assign a different recognizable name to each functions or variables using `as` keyword.\n",
    "\n",
    "```python\n",
    "from package1.module3 import myfunction as mf1\n",
    "from package2 import myfunction as mf2\n",
    "\n",
    "mf1()\n",
    "mf2()\n",
    "```\n",
    "\n",
    "Overall, modules and packages are essential in organizing and reusing code in Python, and understanding how to work with them is important for any Python developer."
   ]
  },
  {
   "cell_type": "code",
   "execution_count": null,
   "id": "b0ac3f06-dbc6-4e22-ae8b-cc24e692102e",
   "metadata": {},
   "outputs": [],
   "source": []
  },
  {
   "cell_type": "code",
   "execution_count": null,
   "id": "46188615-2d4c-422f-a85a-032645e20847",
   "metadata": {},
   "outputs": [],
   "source": [
    "import my_calculator"
   ]
  },
  {
   "cell_type": "code",
   "execution_count": 2,
   "id": "3d4f2893-cd37-4afa-9701-3f590ed8c45a",
   "metadata": {},
   "outputs": [
    {
     "data": {
      "text/plain": [
       "my_calculator.add_two.Sum"
      ]
     },
     "execution_count": 2,
     "metadata": {},
     "output_type": "execute_result"
    }
   ],
   "source": [
    "type(addtion)"
   ]
  },
  {
   "cell_type": "code",
   "execution_count": 3,
   "id": "fa264f62-0436-48a7-8df6-80a914f3ee26",
   "metadata": {},
   "outputs": [
    {
     "data": {
      "text/plain": [
       "9"
      ]
     },
     "execution_count": 3,
     "metadata": {},
     "output_type": "execute_result"
    }
   ],
   "source": [
    "addtion.add(4,5)"
   ]
  },
  {
   "cell_type": "code",
   "execution_count": 3,
   "id": "d943c5a3-4241-42f4-804f-fe5990f5f5a8",
   "metadata": {},
   "outputs": [
    {
     "data": {
      "text/plain": [
       "8"
      ]
     },
     "execution_count": 3,
     "metadata": {},
     "output_type": "execute_result"
    }
   ],
   "source": [
    "my_calculator.addtion.add(3,5)"
   ]
  },
  {
   "cell_type": "code",
   "execution_count": null,
   "id": "ae1da7c8-4e69-46e6-99b2-b99009d1d7d9",
   "metadata": {},
   "outputs": [],
   "source": []
  }
 ],
 "metadata": {
  "kernelspec": {
   "display_name": "Python 3 (ipykernel)",
   "language": "python",
   "name": "python3"
  },
  "language_info": {
   "codemirror_mode": {
    "name": "ipython",
    "version": 3
   },
   "file_extension": ".py",
   "mimetype": "text/x-python",
   "name": "python",
   "nbconvert_exporter": "python",
   "pygments_lexer": "ipython3",
   "version": "3.10.12"
  }
 },
 "nbformat": 4,
 "nbformat_minor": 5
}
