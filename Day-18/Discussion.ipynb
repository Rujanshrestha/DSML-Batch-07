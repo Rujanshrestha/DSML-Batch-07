{
 "cells": [
  {
   "cell_type": "code",
   "execution_count": 7,
   "id": "373a47d2-1d38-432b-b0ef-af1d1e355280",
   "metadata": {},
   "outputs": [],
   "source": [
    "def runnner():\n",
    "    for i in range(7):\n",
    "        print(i)\n",
    "        return i\n",
    "    print(\"Else for for\")"
   ]
  },
  {
   "cell_type": "code",
   "execution_count": 8,
   "id": "f79fc892-b083-43ed-8d6d-b6e969dedacc",
   "metadata": {},
   "outputs": [
    {
     "name": "stdout",
     "output_type": "stream",
     "text": [
      "0\n"
     ]
    },
    {
     "data": {
      "text/plain": [
       "0"
      ]
     },
     "execution_count": 8,
     "metadata": {},
     "output_type": "execute_result"
    }
   ],
   "source": [
    "runnner()"
   ]
  },
  {
   "cell_type": "code",
   "execution_count": 10,
   "id": "3e2455ef-a43c-4f7e-a88b-dced8e381b3e",
   "metadata": {},
   "outputs": [
    {
     "name": "stdout",
     "output_type": "stream",
     "text": [
      "Login Success\n"
     ]
    }
   ],
   "source": [
    "name = \"python\"\n",
    "\n",
    "if name == \"Java\" or \"HTML\":\n",
    "    print(\"Login Success\")\n",
    "else:\n",
    "    print(\"Not Valid\")\n",
    "\n"
   ]
  },
  {
   "cell_type": "code",
   "execution_count": 14,
   "id": "6ce31ecc-a6fd-4e37-8ef5-5b2f391fe5b2",
   "metadata": {},
   "outputs": [],
   "source": [
    "if not isinstance(1,int):\n",
    "    print(\"Not Valid\")"
   ]
  },
  {
   "cell_type": "code",
   "execution_count": null,
   "id": "f00a8b30-8fb8-40b1-8f5d-d6d1cee7945f",
   "metadata": {},
   "outputs": [],
   "source": []
  },
  {
   "cell_type": "code",
   "execution_count": 2,
   "id": "e2cf37ae-adb9-4e5f-97a8-3e48aa231e0a",
   "metadata": {},
   "outputs": [],
   "source": [
    "class Vehicle:\n",
    "    \"\"\" \"\"\"\n",
    "    def __init__(self,vehicle_id,brand,rental_price):\n",
    "        self.__vehicle_id = vehicle_id\n",
    "        self.__brand = brand\n",
    "        self.__rental_price = rental_price\n",
    "        \n",
    "    def calculate_total_rent_cost(self,rental_days):\n",
    "        total_cost = rental_days * self.__rental_price\n",
    "        print(f\"Total cost is ${total_cost}\")\n",
    "        \n",
    "    def get_vehicle_id(self):\n",
    "        return self.__vehicle_id\n",
    "        \n",
    "    def get_brand(self):\n",
    "        return self.__brand\n",
    "        \n",
    "    def get_rental_price(self):\n",
    "        return self.__rental_price"
   ]
  },
  {
   "cell_type": "code",
   "execution_count": 9,
   "id": "60380a86-8e4f-4b69-a8da-dca7b3a8a708",
   "metadata": {},
   "outputs": [],
   "source": [
    "# Your Solution Here\n",
    "class Car(Vehicle):\n",
    "    def __init__(self,vehicle_id,brand,rental_price,number_of_door):\n",
    "        super().__init__(vehicle_id,brand,rental_price)\n",
    "        self.number_of_door = number_of_door\n",
    "        \n",
    "    def display_vehicle_details(self):\n",
    "        print(\" Car Details \")\n",
    "        print(\"-\"*20)\n",
    "        print(f\"**** Vehicle id = {self.get_vehicle_id()} ****\")\n",
    "        print(f\"**** Brand = {self.get_brand()} ****\")\n",
    "        print(f\"****  Rental Price / Day = {self.get_rental_price()} ****\")\n",
    "        print(f\"**** Number of doors = {self.number_of_door} ****\")\n",
    "        print(\"-\"*20)\n",
    "        \n",
    "    def calculate_total_rent_cost(self,days):\n",
    "        return self.get_rental_price() * days"
   ]
  },
  {
   "cell_type": "code",
   "execution_count": 10,
   "id": "6716921a-145b-426f-9d0d-28581b9b5e2d",
   "metadata": {},
   "outputs": [
    {
     "data": {
      "text/plain": [
       "400"
      ]
     },
     "execution_count": 10,
     "metadata": {},
     "output_type": "execute_result"
    }
   ],
   "source": [
    "car=Car(\"BA 1452\",\"toyota\",100,6)\n",
    "\n",
    "car.calculate_total_rent_cost(4)"
   ]
  },
  {
   "cell_type": "code",
   "execution_count": 11,
   "id": "4a0ce11d-6c51-41a1-849b-8baaf5c43ecc",
   "metadata": {},
   "outputs": [
    {
     "name": "stdout",
     "output_type": "stream",
     "text": [
      " Car Details \n",
      "--------------------\n",
      "**** Vehicle id = BA 1452 ****\n",
      "**** Brand = toyota ****\n",
      "****  Rental Price / Day = 100 ****\n",
      "**** Number of doors = 6 ****\n",
      "--------------------\n"
     ]
    }
   ],
   "source": [
    "car.display_vehicle_details()"
   ]
  },
  {
   "cell_type": "code",
   "execution_count": null,
   "id": "8e4bfbbc-1954-453d-99d2-53a6e76df04a",
   "metadata": {},
   "outputs": [],
   "source": [
    "class Bike(Vehicle):\n",
    "    \n",
    "    def __init__(self,vehicle_id,brand,rental_price,bike_type):\n",
    "        super().__init__(vehicle_id,brand,rental_price)\n",
    "        self.bike_type = bike_type\n",
    "    def display_vehicle_details(self):\n",
    "        \n",
    "        print(\" Bike Details \")\n",
    "        print(\"-\"*20)\n",
    "        print(f\"**** Vehicle id = {Vehicle.get_vehicle_id(self)} ****\")\n",
    "        print(f\"**** Brand = {Vehicle.get_brand(self)} ****\")\n",
    "        print(f\"****  Rental Price / Day = {Vehicle.get_rental_price(self)} ****\")\n",
    "        print(f\"**** Bike Type = {self.bike_type} ****\")\n",
    "        print(\"-\"*20)\n",
    "        print(\"-\"*20)\n",
    "\n",
    "def displaying_details(vehicle):\n",
    "    \n",
    "    vehicle.display_vehicle_details()\n",
    "\n",
    "def calculate_rent_price(vehicle,days):\n",
    "    \n",
    "    vehicle.calculate_total_rent_cost(days)\n"
   ]
  }
 ],
 "metadata": {
  "kernelspec": {
   "display_name": "Python 3 (ipykernel)",
   "language": "python",
   "name": "python3"
  },
  "language_info": {
   "codemirror_mode": {
    "name": "ipython",
    "version": 3
   },
   "file_extension": ".py",
   "mimetype": "text/x-python",
   "name": "python",
   "nbconvert_exporter": "python",
   "pygments_lexer": "ipython3",
   "version": "3.10.12"
  }
 },
 "nbformat": 4,
 "nbformat_minor": 5
}
