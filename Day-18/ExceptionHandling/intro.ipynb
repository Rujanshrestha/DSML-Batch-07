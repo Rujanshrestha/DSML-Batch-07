{
 "cells": [
  {
   "cell_type": "code",
   "execution_count": 1,
   "id": "7da56bcf-b59e-41b6-a519-4b65ac67f349",
   "metadata": {},
   "outputs": [],
   "source": [
    "num = \"ram\""
   ]
  },
  {
   "cell_type": "code",
   "execution_count": 2,
   "id": "50023be8-aa40-48b6-bd33-9cd3e05a7abd",
   "metadata": {},
   "outputs": [
    {
     "ename": "ValueError",
     "evalue": "invalid literal for int() with base 10: 'ram'",
     "output_type": "error",
     "traceback": [
      "\u001b[0;31m---------------------------------------------------------------------------\u001b[0m",
      "\u001b[0;31mValueError\u001b[0m                                Traceback (most recent call last)",
      "Cell \u001b[0;32mIn[2], line 1\u001b[0m\n\u001b[0;32m----> 1\u001b[0m \u001b[38;5;28;43mint\u001b[39;49m\u001b[43m(\u001b[49m\u001b[43mnum\u001b[49m\u001b[43m)\u001b[49m\n",
      "\u001b[0;31mValueError\u001b[0m: invalid literal for int() with base 10: 'ram'"
     ]
    }
   ],
   "source": [
    "int(num)"
   ]
  },
  {
   "cell_type": "code",
   "execution_count": 8,
   "id": "4f4fffc0-b941-4fe0-aa68-223a5bae330d",
   "metadata": {},
   "outputs": [],
   "source": [
    "if 0:\n",
    "    print(\"hari\")\n"
   ]
  },
  {
   "cell_type": "code",
   "execution_count": 9,
   "id": "0d7043ab-dfe4-4d80-a208-a28aa063fa30",
   "metadata": {},
   "outputs": [
    {
     "ename": "NameError",
     "evalue": "name 'list1' is not defined",
     "output_type": "error",
     "traceback": [
      "\u001b[0;31m---------------------------------------------------------------------------\u001b[0m",
      "\u001b[0;31mNameError\u001b[0m                                 Traceback (most recent call last)",
      "Cell \u001b[0;32mIn[9], line 1\u001b[0m\n\u001b[0;32m----> 1\u001b[0m \u001b[43mlist1\u001b[49m\n",
      "\u001b[0;31mNameError\u001b[0m: name 'list1' is not defined"
     ]
    }
   ],
   "source": [
    "list1"
   ]
  },
  {
   "cell_type": "markdown",
   "id": "909613be-e99c-498d-b6b8-8d57648343b5",
   "metadata": {},
   "source": [
    "# Exception Handling\n",
    "\n",
    "Exceptions are errors that occur during program execution. Besides exceptions, Python suffers from other types of errors as well. Let's go through a brief overview of those errors.\n",
    "\n",
    "- `Syntax errors`: These errors occur when the code is not written in the correct syntax or structure expected by Python. These errors are caught by the interpreter during the compilation of the code.\n",
    "- `Runtime errors`: These errors occur during the execution of the program, when the program is unable to execute a specific instruction or operation. These errors are also known as exceptions.\n",
    "- `Logical errors`: These errors occur when the program runs without any syntax or runtime errors, but the output is not what was expected. These errors are caused due to incorrect or incomplete logic in the program.\n",
    "\n",
    "Exceptions cause the program to stop abruptly, and it can be challenging to identify and fix the issue without proper error handling. To address these issues, Python has a built-in exception handling mechanism that allows you to catch, handle, and recover from exceptions."
   ]
  },
  {
   "cell_type": "markdown",
   "id": "7692f539-a007-4748-b0b8-a0c7ee1db0d5",
   "metadata": {},
   "source": [
    "## Types of Exceptions in Python\n",
    "\n",
    "### 1. Built-in Exceptions\n",
    "\n",
    "Python has several built-in exceptions. Each of these exceptions is raised when a specific error occurs in the program.\n",
    "\n",
    "- `SyntaxError`: Raised when there is a syntax error in the program\n",
    "- `TypeError`: Raised when an operation or function is applied to an object of inappropriate type\n",
    "- `ValueError`: Raised when an operation or function receives an argument of the correct type but with an inappropriate value\n",
    "- `IndexError`: Raised when trying to access an index that is out of range\n",
    "- `KeyError`: Raised when trying to access a key that does not exist in a dictionary\n",
    "- `AttributeError`: Raised when trying to access an attribute that does not exist in an object\n",
    "- `NameError`: Raised when a variable or name is not defined\n",
    "- `IOError`: Raised when there is an input/output error\n",
    "- `ImportError`: Raised when a module cannot be imported\n",
    "- `KeyboardInterrupt`: Raised when the user interrupts the execution of the program with a keyboard signal (Ctrl+C)\n",
    "\n",
    "### 2. User-defined Exceptions\n",
    "\n",
    "In addition to built-in exceptions, Python allows you to define your own exceptions. User-defined exceptions are used to signal specific errors in the program that are not covered by built-in exceptions."
   ]
  },
  {
   "cell_type": "code",
   "execution_count": null,
   "id": "4486187f-01ff-409a-8ce2-b7a99f6d82fd",
   "metadata": {},
   "outputs": [],
   "source": []
  }
 ],
 "metadata": {
  "kernelspec": {
   "display_name": "Python 3 (ipykernel)",
   "language": "python",
   "name": "python3"
  },
  "language_info": {
   "codemirror_mode": {
    "name": "ipython",
    "version": 3
   },
   "file_extension": ".py",
   "mimetype": "text/x-python",
   "name": "python",
   "nbconvert_exporter": "python",
   "pygments_lexer": "ipython3",
   "version": "3.10.12"
  }
 },
 "nbformat": 4,
 "nbformat_minor": 5
}
