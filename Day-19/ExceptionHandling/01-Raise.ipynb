{
 "cells": [
  {
   "cell_type": "code",
   "execution_count": 4,
   "id": "366b7624-4692-4620-935f-533b00927592",
   "metadata": {},
   "outputs": [
    {
     "name": "stdout",
     "output_type": "stream",
     "text": [
      "Square of 56 id 3136\n"
     ]
    }
   ],
   "source": [
    "number = 56\n",
    "\n",
    "if isinstance(number, int):\n",
    "    print(f\"Square of {number} id {number ** 2}\")\n",
    "else:\n",
    "    raise TypeError(\"Value should be integer\")"
   ]
  },
  {
   "cell_type": "markdown",
   "id": "26e4a926-94fa-4e72-a10f-af0cd202b4cd",
   "metadata": {},
   "source": [
    "# Python `raise` Statement\n",
    "\n",
    "In Python, `raise` is a keyword used to raise an exception. It allows the programmer to manually raise an exception at any point in the program. The `raise` statement takes an exception type (a subclass of `Exception`) or an instance of an exception class, and an optional error message. The basic syntax for raising an exception is:\n",
    "\n",
    "```python\n",
    "raise ExceptionType(\"Exception message\")\n",
    "```\n",
    "\n",
    "Here, `ExceptionType` is the type of exception you want to raise, and \"Exception message\" is the message that will be displayed when the exception is raised.\n",
    "\n",
    "Docs : https://docs.python.org/3/library/exceptions.html"
   ]
  },
  {
   "cell_type": "code",
   "execution_count": 6,
   "id": "61a97661-51d5-428a-bdfb-71a26a3cf9d5",
   "metadata": {},
   "outputs": [
    {
     "ename": "ValueError",
     "evalue": "Divisor should not be zero",
     "output_type": "error",
     "traceback": [
      "\u001b[0;31m---------------------------------------------------------------------------\u001b[0m",
      "\u001b[0;31mValueError\u001b[0m                                Traceback (most recent call last)",
      "Cell \u001b[0;32mIn[6], line 5\u001b[0m\n\u001b[1;32m      2\u001b[0m y \u001b[38;5;241m=\u001b[39m \u001b[38;5;241m0\u001b[39m\n\u001b[1;32m      4\u001b[0m \u001b[38;5;28;01mif\u001b[39;00m y \u001b[38;5;241m==\u001b[39m \u001b[38;5;241m0\u001b[39m:\n\u001b[0;32m----> 5\u001b[0m     \u001b[38;5;28;01mraise\u001b[39;00m \u001b[38;5;167;01mValueError\u001b[39;00m(\u001b[38;5;124m\"\u001b[39m\u001b[38;5;124mDivisor should not be zero\u001b[39m\u001b[38;5;124m\"\u001b[39m)\n\u001b[1;32m      7\u001b[0m x \u001b[38;5;241m/\u001b[39m y\n",
      "\u001b[0;31mValueError\u001b[0m: Divisor should not be zero"
     ]
    }
   ],
   "source": [
    "x = 2\n",
    "y = 0\n",
    "\n",
    "if y == 0:\n",
    "    raise ValueError(\"Divisor should not be zero\")\n",
    "\n",
    "x / y"
   ]
  },
  {
   "cell_type": "markdown",
   "id": "1cb07518-fe2c-46f6-b942-dcc2fbb88203",
   "metadata": {},
   "source": [
    "In the above code, if `x` is 0, a `ValueError` exception is raised with the message \"x should not be 0\".\n",
    "\n",
    "You can also raise a built-in exception by specifying its name without quotes. This will raise a `ValueError` exception without any message."
   ]
  },
  {
   "cell_type": "code",
   "execution_count": null,
   "id": "904daf6a-7918-40ff-938c-cc9fcbaaae1e",
   "metadata": {},
   "outputs": [],
   "source": []
  },
  {
   "cell_type": "markdown",
   "id": "08270805-ab19-48bc-be21-29dc961c05b4",
   "metadata": {},
   "source": [
    "### User-defined Exceptions\n",
    "\n",
    "In addition to built-in exceptions, Python allows you to define your own exceptions. User-defined exceptions are used to signal specific errors in the program that are not covered by built-in exceptions.\n",
    "\n",
    "```python\n",
    "class MyException(Exception):\n",
    "    pass\n",
    "```"
   ]
  },
  {
   "cell_type": "code",
   "execution_count": 8,
   "id": "d49dd88c-2f15-453c-91bd-2def372fb9dd",
   "metadata": {},
   "outputs": [],
   "source": [
    "class UserNotFound(Exception):\n",
    "    pass"
   ]
  },
  {
   "cell_type": "code",
   "execution_count": 12,
   "id": "49526bee-8083-4069-b49f-e18242d67ade",
   "metadata": {},
   "outputs": [],
   "source": [
    "# define Python user-defined exceptions\n",
    "class InvalidAgeException(Exception):\n",
    "    \"\"\"Raised when the input value is less than 18\"\"\"\n",
    "    pass"
   ]
  },
  {
   "cell_type": "code",
   "execution_count": 13,
   "id": "37f2d327-1ca8-4294-bdb5-8ab0a4dbfdfe",
   "metadata": {},
   "outputs": [],
   "source": [
    "def get_user(user_id):\n",
    "    \"\"\"\n",
    "    .\n",
    "    .\n",
    "    \"\"\"\n",
    "    raise InvalidAgeException"
   ]
  },
  {
   "cell_type": "code",
   "execution_count": 14,
   "id": "860cdda0-94e6-480c-8076-02b9b15b0006",
   "metadata": {},
   "outputs": [
    {
     "ename": "InvalidAgeException",
     "evalue": "",
     "output_type": "error",
     "traceback": [
      "\u001b[0;31m---------------------------------------------------------------------------\u001b[0m",
      "\u001b[0;31mInvalidAgeException\u001b[0m                       Traceback (most recent call last)",
      "Cell \u001b[0;32mIn[14], line 1\u001b[0m\n\u001b[0;32m----> 1\u001b[0m \u001b[43mget_user\u001b[49m\u001b[43m(\u001b[49m\u001b[38;5;124;43m\"\u001b[39;49m\u001b[38;5;124;43mram\u001b[39;49m\u001b[38;5;124;43m\"\u001b[39;49m\u001b[43m)\u001b[49m\n",
      "Cell \u001b[0;32mIn[13], line 6\u001b[0m, in \u001b[0;36mget_user\u001b[0;34m(user_id)\u001b[0m\n\u001b[1;32m      1\u001b[0m \u001b[38;5;28;01mdef\u001b[39;00m \u001b[38;5;21mget_user\u001b[39m(user_id):\n\u001b[1;32m      2\u001b[0m \u001b[38;5;250m    \u001b[39m\u001b[38;5;124;03m\"\"\"\u001b[39;00m\n\u001b[1;32m      3\u001b[0m \u001b[38;5;124;03m    .\u001b[39;00m\n\u001b[1;32m      4\u001b[0m \u001b[38;5;124;03m    .\u001b[39;00m\n\u001b[1;32m      5\u001b[0m \u001b[38;5;124;03m    \"\"\"\u001b[39;00m\n\u001b[0;32m----> 6\u001b[0m     \u001b[38;5;28;01mraise\u001b[39;00m InvalidAgeException\n",
      "\u001b[0;31mInvalidAgeException\u001b[0m: "
     ]
    }
   ],
   "source": [
    "get_user(\"ram\")"
   ]
  },
  {
   "cell_type": "code",
   "execution_count": null,
   "id": "9866eae2-78a8-4de2-b847-7d17f305f7a2",
   "metadata": {},
   "outputs": [],
   "source": []
  },
  {
   "cell_type": "code",
   "execution_count": null,
   "id": "b5331c9a-3f75-4820-b947-e2cb3d6d3316",
   "metadata": {},
   "outputs": [],
   "source": []
  }
 ],
 "metadata": {
  "kernelspec": {
   "display_name": "Python 3 (ipykernel)",
   "language": "python",
   "name": "python3"
  },
  "language_info": {
   "codemirror_mode": {
    "name": "ipython",
    "version": 3
   },
   "file_extension": ".py",
   "mimetype": "text/x-python",
   "name": "python",
   "nbconvert_exporter": "python",
   "pygments_lexer": "ipython3",
   "version": "3.10.12"
  }
 },
 "nbformat": 4,
 "nbformat_minor": 5
}
