{
 "cells": [
  {
   "cell_type": "markdown",
   "id": "119ef6a9",
   "metadata": {},
   "source": [
    "### Math Tutor Using Random, Arithmetic Operators, and OOP\n",
    "\n",
    "*Scenario:*\n",
    "Create a `MathTutor` class that generates random math questions using `random` and `math operators`.\n",
    "\n",
    "* Track correct and incorrect answers.\n",
    "* Provide a score at the end.\n",
    "* Handle invalid input using exception handling.\n",
    "\n",
    "> Concepts: Random, Math, Exception Handling, Classes"
   ]
  },
  {
   "cell_type": "code",
   "execution_count": 2,
   "id": "77dc396f",
   "metadata": {},
   "outputs": [
    {
     "name": "stdout",
     "output_type": "stream",
     "text": [
      " Welcome to Math Tutor!\n",
      "\n",
      "Question 1: 9 + 19 = ?\n"
     ]
    },
    {
     "name": "stdin",
     "output_type": "stream",
     "text": [
      "Your answer:  21\n"
     ]
    },
    {
     "name": "stdout",
     "output_type": "stream",
     "text": [
      " Incorrect! Correct answer was: 28\n",
      "\n",
      "Question 2: 9 - 5 = ?\n"
     ]
    },
    {
     "name": "stdin",
     "output_type": "stream",
     "text": [
      "Your answer:  4\n"
     ]
    },
    {
     "name": "stdout",
     "output_type": "stream",
     "text": [
      " Correct!\n",
      "\n",
      "Question 3: 80 / 16 = ?\n"
     ]
    },
    {
     "name": "stdin",
     "output_type": "stream",
     "text": [
      "Your answer:  4\n"
     ]
    },
    {
     "name": "stdout",
     "output_type": "stream",
     "text": [
      " Incorrect! Correct answer was: 5.0\n",
      "\n",
      "Question 4: 19 * 4 = ?\n"
     ]
    },
    {
     "name": "stdin",
     "output_type": "stream",
     "text": [
      "Your answer:  68\n"
     ]
    },
    {
     "name": "stdout",
     "output_type": "stream",
     "text": [
      " Incorrect! Correct answer was: 76\n",
      "\n",
      "Question 5: 24 / 4 = ?\n"
     ]
    },
    {
     "name": "stdin",
     "output_type": "stream",
     "text": [
      "Your answer:  6.4\n"
     ]
    },
    {
     "name": "stdout",
     "output_type": "stream",
     "text": [
      " Incorrect! Correct answer was: 6.0\n",
      "\n",
      " Quiz Completed!\n",
      "Correct Answers: 1\n",
      "Incorrect Answers: 4\n",
      "Your Score: 20.00%\n"
     ]
    }
   ],
   "source": [
    "import random\n",
    "\n",
    "class MathTutor:\n",
    "    def __init__(self, num_questions=5):\n",
    "        self.num_questions = num_questions\n",
    "        self.correct_answers = 0\n",
    "        self.incorrect_answers = 0\n",
    "        self.operators = ['+', '-', '*', '/']\n",
    "\n",
    "    def generate_question(self):\n",
    "        num1 = random.randint(1, 20)\n",
    "        num2 = random.randint(1, 20)\n",
    "        operator = random.choice(self.operators)\n",
    "\n",
    "        if operator == '/':\n",
    "            num1 = num1 * num2  \n",
    "        question = f\"{num1} {operator} {num2}\"\n",
    "        answer = eval(question)\n",
    "        return question, round(answer, 2) \n",
    "\n",
    "    def start_quiz(self):\n",
    "        print(\" Welcome to Math Tutor!\")\n",
    "        for i in range(self.num_questions):\n",
    "            question, answer = self.generate_question()\n",
    "            print(f\"\\nQuestion {i+1}: {question} = ?\")\n",
    "            try:\n",
    "                user_input = float(input(\"Your answer: \"))\n",
    "                if abs(user_input - answer) < 0.01:\n",
    "                    print(\" Correct!\")\n",
    "                    self.correct_answers += 1\n",
    "                else:\n",
    "                    print(f\" Incorrect! Correct answer was: {answer}\")\n",
    "                    self.incorrect_answers += 1\n",
    "            except ValueError:\n",
    "                print(\" Invalid input! That's counted as incorrect.\")\n",
    "                self.incorrect_answers += 1\n",
    "\n",
    "        self.show_score()\n",
    "\n",
    "    def show_score(self):\n",
    "        print(\"\\n Quiz Completed!\")\n",
    "        print(f\"Correct Answers: {self.correct_answers}\")\n",
    "        print(f\"Incorrect Answers: {self.incorrect_answers}\")\n",
    "        score = (self.correct_answers / self.num_questions) * 100\n",
    "        print(f\"Your Score: {score:.2f}%\")\n",
    "\n",
    "\n",
    "tutor = MathTutor(num_questions=5)\n",
    "tutor.start_quiz()"
   ]
  },
  {
   "cell_type": "markdown",
   "id": "360b4034",
   "metadata": {},
   "source": [
    "### Multi-file Project Using Modules and Packages\n",
    "\n",
    "*Scenario:*\n",
    "You're building a small finance app.\n",
    "\n",
    "* Create a package `finance_tools` with modules: `tax.py` and `loan.py`.\n",
    "* Each module contains utility functions like `calculate_tax()` and `calculate_emi()`.\n",
    "* Import and use them in a main script that takes user input to do both.\n",
    "\n",
    "> Concepts: Packages, Modules, Importing, Separation of Concerns\n"
   ]
  },
  {
   "cell_type": "code",
   "execution_count": 4,
   "id": "fbf73825",
   "metadata": {},
   "outputs": [
    {
     "name": "stdin",
     "output_type": "stream",
     "text": [
      "Enter your income:  40000\n",
      "Enter tax rate (%):  10\n"
     ]
    },
    {
     "name": "stdout",
     "output_type": "stream",
     "text": [
      "Your tax is: 4000.0\n"
     ]
    },
    {
     "name": "stdin",
     "output_type": "stream",
     "text": [
      "Enter loan amount:  200000\n",
      "Enter interest rate (%):  12\n",
      "Enter loan time in years:  4\n"
     ]
    },
    {
     "name": "stdout",
     "output_type": "stream",
     "text": [
      "Your EMI is: 5266.77\n"
     ]
    }
   ],
   "source": [
    "from finance_tools.tax import calculate_tax\n",
    "from finance_tools.loan import calculate_emi\n",
    "\n",
    "income = float(input(\"Enter your income: \"))\n",
    "rate = float(input(\"Enter tax rate (%): \"))\n",
    "print(\"Your tax is:\", calculate_tax(income, rate))\n",
    "\n",
    "principal = float(input(\"Enter loan amount: \"))\n",
    "interest_rate = float(input(\"Enter interest rate (%): \"))\n",
    "years = int(input(\"Enter loan time in years: \"))\n",
    "print(\"Your EMI is:\", calculate_emi(principal, interest_rate, years))\n"
   ]
  },
  {
   "cell_type": "markdown",
   "id": "1ecd8aa7",
   "metadata": {},
   "source": [
    "### Exception Handling Scenario: Online Age-Restricted Service\n",
    "\n",
    "**Scenario:**\n",
    "You’re building a sign-up system for an online movie rental platform. Some movies are age-restricted (18+). You need to ensure proper validation and error handling during user registration.\n",
    "\n",
    "**Task:**\n",
    "\n",
    "1. Create a custom exception class called `UnderageError` that inherits from `Exception`.\n",
    "2. Write a function `register_user()` that:\n",
    "\n",
    "   * Takes a user’s `name` and `age` as input.\n",
    "   * Raises `UnderageError` if the user is under 18.\n",
    "   * Otherwise, prints a welcome message.\n",
    "3. Wrap the function call in a `try` block and handle the exception.\n",
    "4. Use `else` to confirm successful registration and `finally` to always print **“Thank you for using MovieTime!”** regardless of outcome.\n",
    "\n",
    "Also try to validate if the age input is numeric. Raise a `ValueError` if not, and handle it separately.\n",
    "\n"
   ]
  },
  {
   "cell_type": "code",
   "execution_count": 5,
   "id": "3fd54170",
   "metadata": {},
   "outputs": [
    {
     "name": "stdin",
     "output_type": "stream",
     "text": [
      "Enter your name:  Rujan Shrestha\n",
      "Enter your age:  19\n"
     ]
    },
    {
     "name": "stdout",
     "output_type": "stream",
     "text": [
      " Welcome Rujan Shrestha, you're successfully registered!\n",
      " Registration completed successfully.\n",
      " Thank you for using MovieTime!\n"
     ]
    }
   ],
   "source": [
    "class UnderageError(Exception):\n",
    "    def __init__(self, message=\"You must be 18 or older to register.\"):\n",
    "        self.message = message\n",
    "        super().__init__(self.message)\n",
    "\n",
    "def register_user():\n",
    "    name = input(\"Enter your name: \")\n",
    "    age_input = input(\"Enter your age: \")\n",
    "\n",
    "    if not age_input.isdigit():\n",
    "        raise ValueError(\"Age must be a number.\")\n",
    "\n",
    "    age = int(age_input)\n",
    "\n",
    "    if age < 18:\n",
    "        raise UnderageError()\n",
    "\n",
    "    print(f\" Welcome {name}, you're successfully registered!\")\n",
    "\n",
    "try:\n",
    "    register_user()\n",
    "\n",
    "except UnderageError as ue:\n",
    "    print(f\" Registration failed: {ue}\")\n",
    "\n",
    "except ValueError as ve:\n",
    "    print(f\" Invalid input: {ve}\")\n",
    "\n",
    "else:\n",
    "    print(\" Registration completed successfully.\")\n",
    "\n",
    "finally:\n",
    "    print(\" Thank you for using MovieTime!\")\n"
   ]
  },
  {
   "cell_type": "markdown",
   "id": "7e76d9b4",
   "metadata": {},
   "source": [
    "# Problem Statement\n",
    "\n",
    "We want to build an online shopping cart system that allows users to add products to their cart, calculate the total cost, apply discounts, and generate an invoice. The system should include the following functionalities:\n",
    "\n",
    "- Adding products to the cart\n",
    "- Removing products from the cart\n",
    "- Calculating the total cost\n",
    "- Applying discounts based on user type\n",
    "- Generating an invoice\n",
    "\n",
    "### 1. Create the Product class\n",
    "\n",
    "We create a basic `Product` class with attributes for the product name and price."
   ]
  },
  {
   "cell_type": "code",
   "execution_count": 6,
   "id": "a286f01a",
   "metadata": {},
   "outputs": [],
   "source": [
    "class Product:\n",
    "    def __init__(self, name, price):\n",
    "        self.name = name\n",
    "        self.price = price\n",
    "\n",
    "    def __str__(self):\n",
    "        return f\"{self.name} - Rs.{self.price}\""
   ]
  },
  {
   "cell_type": "markdown",
   "id": "0c9aa397",
   "metadata": {},
   "source": [
    "### 2.  Implement the User class\n",
    "\n",
    "In this step, we create a `User` class with attributes for the user's name and whether they are a premium member."
   ]
  },
  {
   "cell_type": "code",
   "execution_count": 7,
   "id": "3393e953",
   "metadata": {},
   "outputs": [],
   "source": [
    "class User:\n",
    "    def __init__(self, name, is_premium=False):\n",
    "        self.name = name\n",
    "        self.is_premium = is_premium\n",
    "\n",
    "    def __str__(self):\n",
    "        status = \"Premium Member\" if self.is_premium else \"Regular Member\"\n",
    "        return f\"{self.name} ({status})\""
   ]
  },
  {
   "cell_type": "markdown",
   "id": "3b7e070b",
   "metadata": {},
   "source": [
    "### 3. Create the ShoppingCart class\n",
    "\n",
    "In this step, we create a `ShoppingCart` class with methods for adding and removing products from the cart, as well as calculating the total cost of the items in the cart.\n",
    "\n",
    "**Note**: Define `calculate_total_cost` method in the `ShoppingCart` class, that applies a `10%` discount to the total cost if you are `premium` User."
   ]
  },
  {
   "cell_type": "code",
   "execution_count": 8,
   "id": "c0b5196d",
   "metadata": {},
   "outputs": [],
   "source": [
    "class ShoppingCart:\n",
    "    def __init__(self, user):\n",
    "        self.user = user  \n",
    "        self.products = [] \n",
    "\n",
    "    def add_product(self, product):\n",
    "        self.products.append(product)\n",
    "        print(f\"Added {product.name} to cart.\")\n",
    "\n",
    "    def remove_product(self, product_name):\n",
    "        for p in self.products:\n",
    "            if p.name == product_name:\n",
    "                self.products.remove(p)\n",
    "                print(f\"Removed {product_name} from cart.\")\n",
    "                return\n",
    "        print(f\"Product {product_name} not found in cart.\")\n",
    "\n",
    "    def calculate_total_cost(self):\n",
    "        total = sum(p.price for p in self.products)\n",
    "        if self.user.is_premium:\n",
    "            discount = total * 0.10  \n",
    "            total -= discount\n",
    "            print(f\"Premium discount applied: Rs.{discount:.2f}\")\n",
    "        return total\n"
   ]
  },
  {
   "cell_type": "markdown",
   "id": "afc26053",
   "metadata": {},
   "source": [
    "### 4. Testing the functionality\n",
    "\n",
    "Now that we have implemented the necessary classes and methods, let's test our online shopping cart system:"
   ]
  },
  {
   "cell_type": "code",
   "execution_count": 9,
   "id": "6186bdcb",
   "metadata": {},
   "outputs": [
    {
     "name": "stdout",
     "output_type": "stream",
     "text": [
      "\n",
      "--- Testing with Regular User ---\n",
      "Added Laptop to cart.\n",
      "Added Headphones to cart.\n",
      "Total cost for Alex: Rs.53000.00\n",
      "Product Mouse not found in cart.\n",
      "Removed Headphones from cart.\n",
      "Total cost after removal: Rs.50000.00\n",
      "\n",
      "--- Testing with Premium User ---\n",
      "Added Laptop to cart.\n",
      "Added Mouse to cart.\n",
      "Premium discount applied: Rs.5150.00\n",
      "Total cost for Rujan: Rs.46350.00\n",
      "Removed Laptop from cart.\n",
      "Premium discount applied: Rs.150.00\n",
      "Total cost after removal: Rs.1350.00\n"
     ]
    }
   ],
   "source": [
    "def test_shopping_cart_system():\n",
    "    # Create users\n",
    "    regular_user = User(\"Alex\", is_premium=False)\n",
    "    premium_user = User(\"Rujan\", is_premium=True)\n",
    "\n",
    "    product1 = Product(\"Laptop\", 50000)\n",
    "    product2 = Product(\"Headphones\", 3000)\n",
    "    product3 = Product(\"Mouse\", 1500)\n",
    "\n",
    "    print(\"\\n--- Testing with Regular User ---\")\n",
    "    cart1 = ShoppingCart(regular_user)\n",
    "    cart1.add_product(product1)\n",
    "    cart1.add_product(product2)\n",
    "    print(f\"Total cost for {regular_user.name}: Rs.{cart1.calculate_total_cost():.2f}\")\n",
    "\n",
    "    cart1.remove_product(\"Mouse\")  \n",
    "    cart1.remove_product(\"Headphones\")\n",
    "    print(f\"Total cost after removal: Rs.{cart1.calculate_total_cost():.2f}\")\n",
    "\n",
    "    print(\"\\n--- Testing with Premium User ---\")\n",
    "    cart2 = ShoppingCart(premium_user)\n",
    "    cart2.add_product(product1)\n",
    "    cart2.add_product(product3)\n",
    "    print(f\"Total cost for {premium_user.name}: Rs.{cart2.calculate_total_cost():.2f}\")\n",
    "\n",
    "    cart2.remove_product(\"Laptop\")\n",
    "    print(f\"Total cost after removal: Rs.{cart2.calculate_total_cost():.2f}\")\n",
    "\n",
    "\n",
    "test_shopping_cart_system()\n"
   ]
  },
  {
   "cell_type": "markdown",
   "id": "7ea7c96e",
   "metadata": {},
   "source": [
    "### 5. Generating Invoice for a given cart"
   ]
  },
  {
   "cell_type": "code",
   "execution_count": 10,
   "id": "c727607d-74ed-4609-bc88-3a14049c162f",
   "metadata": {},
   "outputs": [],
   "source": [
    "class ShoppingCart:\n",
    "    def __init__(self, user):\n",
    "        self.user = user\n",
    "        self.products = []\n",
    "\n",
    "    def add_product(self, product):\n",
    "        self.products.append(product)\n",
    "        print(f\"Added {product.name}\")\n",
    "\n",
    "    def remove_product(self, product_name):\n",
    "        for p in self.products:\n",
    "            if p.name == product_name:\n",
    "                self.products.remove(p)\n",
    "                print(f\"Removed {product_name}\")\n",
    "                return\n",
    "        print(f\"{product_name} not in cart\")\n",
    "\n",
    "    def calculate_total_cost(self):\n",
    "        return sum(p.price for p in self.products)\n",
    "\n",
    "    def generate_invoice(self):\n",
    "        print(\"\\n--- INVOICE ---\")\n",
    "        print(f\"Customer: {self.user.name}\")\n",
    "        print(f\"Membership: {'Premium' if self.user.is_premium else 'Regular'}\")\n",
    "        print(\"Products:\")\n",
    "\n",
    "        total = 0\n",
    "        for p in self.products:\n",
    "            print(f\"- {p.name}: Rs.{p.price}\")\n",
    "            total += p.price\n",
    "\n",
    "        print(f\"Subtotal: Rs.{total}\")\n",
    "\n",
    "        if self.user.is_premium:\n",
    "            discount = total * 0.1\n",
    "            total -= discount\n",
    "            print(f\"Discount (10%): Rs.{discount}\")\n",
    "\n",
    "        print(f\"Total to pay: Rs.{total}\")\n",
    "        print(\"--------------\")\n"
   ]
  },
  {
   "cell_type": "code",
   "execution_count": 11,
   "id": "59e0bc19-36f6-4f4f-9d96-994e0dc19b59",
   "metadata": {},
   "outputs": [
    {
     "name": "stdout",
     "output_type": "stream",
     "text": [
      "Added Shoes\n",
      "Added T-Shirt\n",
      "\n",
      "--- INVOICE ---\n",
      "Customer: Rujan\n",
      "Membership: Premium\n",
      "Products:\n",
      "- Shoes: Rs.3000\n",
      "- T-Shirt: Rs.1500\n",
      "Subtotal: Rs.4500\n",
      "Discount (10%): Rs.450.0\n",
      "Total to pay: Rs.4050.0\n",
      "--------------\n"
     ]
    }
   ],
   "source": [
    "\n",
    "user = User(\"Rujan\", is_premium=True)\n",
    "cart = ShoppingCart(user)\n",
    "\n",
    "cart.add_product(Product(\"Shoes\", 3000))\n",
    "cart.add_product(Product(\"T-Shirt\", 1500))\n",
    "\n",
    "cart.generate_invoice()\n"
   ]
  },
  {
   "cell_type": "code",
   "execution_count": null,
   "id": "4f629987-b216-4ecd-8400-ba444fb5bfa9",
   "metadata": {},
   "outputs": [],
   "source": []
  }
 ],
 "metadata": {
  "kernelspec": {
   "display_name": "Python 3 (ipykernel)",
   "language": "python",
   "name": "python3"
  },
  "language_info": {
   "codemirror_mode": {
    "name": "ipython",
    "version": 3
   },
   "file_extension": ".py",
   "mimetype": "text/x-python",
   "name": "python",
   "nbconvert_exporter": "python",
   "pygments_lexer": "ipython3",
   "version": "3.13.5"
  }
 },
 "nbformat": 4,
 "nbformat_minor": 5
}
