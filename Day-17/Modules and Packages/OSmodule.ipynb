{
 "cells": [
  {
   "cell_type": "markdown",
   "id": "da374e2b-930d-4b14-988f-d6926620a1ae",
   "metadata": {},
   "source": [
    "# Python OS Module\n",
    "\n",
    "The os module in Python provides a way of interacting with the operating system. It provides a way to access and manipulate files and directories, start and stop processes, get information about the system, and more.\n",
    "\n",
    "## Working with Files and Directories\n",
    "\n",
    "Let's explore the `os` module and its various functions and methods that support working with files and directories.\n",
    "\n",
    "- `os.getcwd()`: Get the current working directory\n",
    "- `os.mkdir('path')`: Create a new directory\n",
    "- `os.chdir('path')`: Change the current working directory\n",
    "- `os.listdir('path')`: List the contents of a directory\n",
    "- `os.rename('old_name', 'new_name)`: Rename a file or a directory\n",
    "- `os.remove('file_to_delete')`: Remove a file\n",
    "- `os.rmdir('directory_to_delete')`: Remove a directory\n",
    "- `os.path.dirname('path')`: Returns the name of the directory containing pathname path\n",
    "- `os.path.exists('path')`: Checks if the path already exists, if so returns True"
   ]
  },
  {
   "cell_type": "code",
   "execution_count": 1,
   "id": "5bbe55bb-7026-44e7-9ca5-50c8bd3564cf",
   "metadata": {},
   "outputs": [],
   "source": [
    "import os"
   ]
  },
  {
   "cell_type": "code",
   "execution_count": 2,
   "id": "af1979bd-a8e4-4695-8274-1e094f05f91b",
   "metadata": {},
   "outputs": [
    {
     "data": {
      "text/plain": [
       "'/home/shailesh/Desktop/VritEducation/DSML-Batch-07/Day-17/Modules and Packages'"
      ]
     },
     "execution_count": 2,
     "metadata": {},
     "output_type": "execute_result"
    }
   ],
   "source": [
    "os.getcwd()"
   ]
  },
  {
   "cell_type": "code",
   "execution_count": 3,
   "id": "995cc070-5258-424a-b7f2-2beca46e9f7c",
   "metadata": {},
   "outputs": [
    {
     "name": "stdout",
     "output_type": "stream",
     "text": [
      "Path Exixts\n"
     ]
    }
   ],
   "source": [
    "if not os.path.exists(\"test_folder/\"):\n",
    "    os.mkdir(\"test_folder/\")\n",
    "else:\n",
    "    print(\"Path Exixts\")"
   ]
  },
  {
   "cell_type": "code",
   "execution_count": 4,
   "id": "a7ba9ee7-a156-4fe8-8764-4763cc9b035c",
   "metadata": {},
   "outputs": [
    {
     "name": "stdout",
     "output_type": "stream",
     "text": [
      "/home/shailesh/Desktop/VritEducation/DSML-Batch-07/Day-17/Modules and Packages/test_folder\n",
      "/home/shailesh/Desktop/VritEducation/DSML-Batch-07/Day-17/Modules and Packages\n"
     ]
    }
   ],
   "source": [
    "os.chdir(\"test_folder/\")\n",
    "print(os.getcwd())\n",
    "os.chdir(\"..\")\n",
    "print(os.getcwd())"
   ]
  },
  {
   "cell_type": "code",
   "execution_count": 5,
   "id": "b6eb53b1-e66e-4e8c-a5e7-f14e3cec3558",
   "metadata": {},
   "outputs": [],
   "source": [
    "os.makedirs(\"test_folder/\",exist_ok = True)"
   ]
  },
  {
   "cell_type": "code",
   "execution_count": 6,
   "id": "0447734f-7751-4bbe-8204-01c9d1fee492",
   "metadata": {},
   "outputs": [
    {
     "data": {
      "text/plain": [
       "['MathModule.ipynb',\n",
       " 'test_folder',\n",
       " 'OSmodule.ipynb',\n",
       " 'DataTIme_module.ipynb',\n",
       " '.ipynb_checkpoints']"
      ]
     },
     "execution_count": 6,
     "metadata": {},
     "output_type": "execute_result"
    }
   ],
   "source": [
    "os.listdir(\".\")"
   ]
  },
  {
   "cell_type": "code",
   "execution_count": 7,
   "id": "bdaf78dd-4714-4856-8067-45228462cb51",
   "metadata": {},
   "outputs": [],
   "source": [
    "os.rmdir(\"test_folder/\")"
   ]
  },
  {
   "cell_type": "code",
   "execution_count": 8,
   "id": "16356098-91b4-46c2-a2ef-5d693041df77",
   "metadata": {},
   "outputs": [],
   "source": []
  },
  {
   "cell_type": "code",
   "execution_count": 9,
   "id": "3c3e422d-be27-42a0-bf13-373741eb40b6",
   "metadata": {},
   "outputs": [],
   "source": [
    "os.rename(\"hello.txt\", \"Welcome.txt\")"
   ]
  },
  {
   "cell_type": "code",
   "execution_count": 11,
   "id": "2fb9a120-f50d-44e6-9e66-1c9fd5fbda90",
   "metadata": {},
   "outputs": [],
   "source": [
    "os.remove(\"Welcome.txt\")"
   ]
  },
  {
   "cell_type": "code",
   "execution_count": null,
   "id": "0dbea024-5822-44e1-9015-c7691f14b78a",
   "metadata": {},
   "outputs": [],
   "source": []
  },
  {
   "cell_type": "markdown",
   "id": "1b6afc78-4c56-42e2-9d42-38d931f5a7ec",
   "metadata": {},
   "source": [
    "## Working with Environment Variables\n",
    "\n",
    "The `os` module provides functions for working with environment variables. Here are some of the most commonly used functions:\n",
    "\n",
    "- `os.getenv('var_name')`: Get the value of an Environment Variable\n",
    "- `os.environ['var_name'] = 'var_value'`: Set the Value of an Environment Variable"
   ]
  },
  {
   "cell_type": "code",
   "execution_count": 13,
   "id": "f9c0c3d5-2f8b-40a8-88e9-fb5c48d63959",
   "metadata": {},
   "outputs": [
    {
     "data": {
      "text/plain": [
       "'/home/shailesh'"
      ]
     },
     "execution_count": 13,
     "metadata": {},
     "output_type": "execute_result"
    }
   ],
   "source": [
    "os.getenv(\"HOME\")"
   ]
  },
  {
   "cell_type": "code",
   "execution_count": 14,
   "id": "e3b326f0-c88e-4b1c-8955-05d6143f1037",
   "metadata": {},
   "outputs": [],
   "source": [
    "os.getenv(\"OneDrive\")"
   ]
  },
  {
   "cell_type": "code",
   "execution_count": 15,
   "id": "9de9fb3c-446a-4272-ba3d-45f5b8acaff1",
   "metadata": {},
   "outputs": [],
   "source": [
    "os.getenv(\"Path\")"
   ]
  },
  {
   "cell_type": "code",
   "execution_count": 16,
   "id": "687b2581-306b-4418-b70e-fffd789ff841",
   "metadata": {},
   "outputs": [],
   "source": [
    "os.environ[\"MyPassword\"] = \"secret_password\""
   ]
  },
  {
   "cell_type": "code",
   "execution_count": 17,
   "id": "0e9f5276-1402-4f9f-8289-4ad69e703f2c",
   "metadata": {},
   "outputs": [
    {
     "data": {
      "text/plain": [
       "'secret_password'"
      ]
     },
     "execution_count": 17,
     "metadata": {},
     "output_type": "execute_result"
    }
   ],
   "source": [
    "os.getenv(\"MyPassword\")"
   ]
  },
  {
   "cell_type": "code",
   "execution_count": 18,
   "id": "7249c214-d8f6-42bf-925a-b9a3e1f64b2e",
   "metadata": {},
   "outputs": [
    {
     "data": {
      "text/plain": [
       "environ{'SHELL': '/bin/bash',\n",
       "        'SESSION_MANAGER': 'local/shailesh-aiml:@/tmp/.ICE-unix/5909,unix/shailesh-aiml:/tmp/.ICE-unix/5909',\n",
       "        'QT_ACCESSIBILITY': '1',\n",
       "        'COLORTERM': 'truecolor',\n",
       "        'PYENV_SHELL': 'bash',\n",
       "        'XDG_CONFIG_DIRS': '/etc/xdg/xdg-ubuntu:/etc/xdg',\n",
       "        'SSH_AGENT_LAUNCHER': 'gnome-keyring',\n",
       "        'XDG_MENU_PREFIX': 'gnome-',\n",
       "        'GNOME_DESKTOP_SESSION_ID': 'this-is-deprecated',\n",
       "        'GTK_IM_MODULE': 'ibus',\n",
       "        'LC_ADDRESS': 'bho_NP',\n",
       "        'GNOME_SHELL_SESSION_MODE': 'ubuntu',\n",
       "        'LC_NAME': 'bho_NP',\n",
       "        'SSH_AUTH_SOCK': '/run/user/1000/keyring/ssh',\n",
       "        'XMODIFIERS': '@im=ibus',\n",
       "        'DESKTOP_SESSION': 'ubuntu',\n",
       "        'LC_MONETARY': 'bho_NP',\n",
       "        'GTK_MODULES': 'gail:atk-bridge',\n",
       "        'PWD': '/home/shailesh/Desktop/VritEducation/DSML-Batch-07',\n",
       "        'LOGNAME': 'shailesh',\n",
       "        'XDG_SESSION_DESKTOP': 'ubuntu',\n",
       "        'XDG_SESSION_TYPE': 'x11',\n",
       "        'GPG_AGENT_INFO': '/run/user/1000/gnupg/S.gpg-agent:0:1',\n",
       "        'SYSTEMD_EXEC_PID': '5968',\n",
       "        'XAUTHORITY': '/run/user/1000/gdm/Xauthority',\n",
       "        'WINDOWPATH': '2',\n",
       "        'HOME': '/home/shailesh',\n",
       "        'USERNAME': 'shailesh',\n",
       "        'LC_PAPER': 'bho_NP',\n",
       "        'LANG': 'en_US.UTF-8',\n",
       "        'LS_COLORS': 'rs=0:di=01;34:ln=01;36:mh=00:pi=40;33:so=01;35:do=01;35:bd=40;33;01:cd=40;33;01:or=40;31;01:mi=00:su=37;41:sg=30;43:ca=30;41:tw=30;42:ow=34;42:st=37;44:ex=01;32:*.tar=01;31:*.tgz=01;31:*.arc=01;31:*.arj=01;31:*.taz=01;31:*.lha=01;31:*.lz4=01;31:*.lzh=01;31:*.lzma=01;31:*.tlz=01;31:*.txz=01;31:*.tzo=01;31:*.t7z=01;31:*.zip=01;31:*.z=01;31:*.dz=01;31:*.gz=01;31:*.lrz=01;31:*.lz=01;31:*.lzo=01;31:*.xz=01;31:*.zst=01;31:*.tzst=01;31:*.bz2=01;31:*.bz=01;31:*.tbz=01;31:*.tbz2=01;31:*.tz=01;31:*.deb=01;31:*.rpm=01;31:*.jar=01;31:*.war=01;31:*.ear=01;31:*.sar=01;31:*.rar=01;31:*.alz=01;31:*.ace=01;31:*.zoo=01;31:*.cpio=01;31:*.7z=01;31:*.rz=01;31:*.cab=01;31:*.wim=01;31:*.swm=01;31:*.dwm=01;31:*.esd=01;31:*.jpg=01;35:*.jpeg=01;35:*.mjpg=01;35:*.mjpeg=01;35:*.gif=01;35:*.bmp=01;35:*.pbm=01;35:*.pgm=01;35:*.ppm=01;35:*.tga=01;35:*.xbm=01;35:*.xpm=01;35:*.tif=01;35:*.tiff=01;35:*.png=01;35:*.svg=01;35:*.svgz=01;35:*.mng=01;35:*.pcx=01;35:*.mov=01;35:*.mpg=01;35:*.mpeg=01;35:*.m2v=01;35:*.mkv=01;35:*.webm=01;35:*.webp=01;35:*.ogm=01;35:*.mp4=01;35:*.m4v=01;35:*.mp4v=01;35:*.vob=01;35:*.qt=01;35:*.nuv=01;35:*.wmv=01;35:*.asf=01;35:*.rm=01;35:*.rmvb=01;35:*.flc=01;35:*.avi=01;35:*.fli=01;35:*.flv=01;35:*.gl=01;35:*.dl=01;35:*.xcf=01;35:*.xwd=01;35:*.yuv=01;35:*.cgm=01;35:*.emf=01;35:*.ogv=01;35:*.ogx=01;35:*.aac=00;36:*.au=00;36:*.flac=00;36:*.m4a=00;36:*.mid=00;36:*.midi=00;36:*.mka=00;36:*.mp3=00;36:*.mpc=00;36:*.ogg=00;36:*.ra=00;36:*.wav=00;36:*.oga=00;36:*.opus=00;36:*.spx=00;36:*.xspf=00;36:',\n",
       "        'XDG_CURRENT_DESKTOP': 'ubuntu:GNOME',\n",
       "        'VIRTUAL_ENV': '/home/shailesh/Desktop/VritEducation/.vritenv',\n",
       "        'VTE_VERSION': '6800',\n",
       "        'GNOME_TERMINAL_SCREEN': '/org/gnome/Terminal/screen/f4922d09_c463_46b1_a4ee_dd586e69de7a',\n",
       "        'LESSCLOSE': '/usr/bin/lesspipe %s %s',\n",
       "        'XDG_SESSION_CLASS': 'user',\n",
       "        'PYTHONPATH': 'home/shailesh/.cache/pypoetry/virtualenvs/tactix-yuBQfSTb-py3.11/lib/python3.11/site-packages:',\n",
       "        'TERM': 'xterm-color',\n",
       "        'LC_IDENTIFICATION': 'bho_NP',\n",
       "        'LESSOPEN': '| /usr/bin/lesspipe %s',\n",
       "        'USER': 'shailesh',\n",
       "        'GNOME_TERMINAL_SERVICE': ':1.1205',\n",
       "        'DISPLAY': ':1',\n",
       "        'SHLVL': '1',\n",
       "        'LC_TELEPHONE': 'bho_NP',\n",
       "        'QT_IM_MODULE': 'ibus',\n",
       "        'LC_MEASUREMENT': 'bho_NP',\n",
       "        'VIRTUAL_ENV_PROMPT': '(.vritenv) ',\n",
       "        'XDG_RUNTIME_DIR': '/run/user/1000',\n",
       "        'PS1': '(.vritenv) \\\\[\\\\e]0;\\\\u@\\\\h: \\\\w\\\\a\\\\]${debian_chroot:+($debian_chroot)}\\\\[\\\\033[01;32m\\\\]\\\\u@\\\\h\\\\[\\\\033[00m\\\\]:\\\\[\\\\033[01;34m\\\\]\\\\w\\\\[\\\\033[00m\\\\]\\\\$ ',\n",
       "        'PYENV_ROOT': '/home/shailesh/.pyenv',\n",
       "        'LC_TIME': 'bho_NP',\n",
       "        'XDG_DATA_DIRS': '/usr/share/ubuntu:/usr/share/gnome:/home/shailesh/.local/share/flatpak/exports/share:/var/lib/flatpak/exports/share:/usr/local/share/:/usr/share/:/var/lib/snapd/desktop',\n",
       "        'PATH': '/home/shailesh/Desktop/VritEducation/.vritenv/bin:/home/shailesh/.pyenv/shims:/home/shailesh/.pyenv/bin:/home/shailesh/.pyenv/bin:/home/shailesh/.local/bin:/usr/local/sbin:/usr/local/bin:/usr/sbin:/usr/bin:/sbin:/bin:/usr/games:/usr/local/games:/snap/bin:/snap/bin',\n",
       "        'GDMSESSION': 'ubuntu',\n",
       "        'DBUS_SESSION_BUS_ADDRESS': 'unix:path=/run/user/1000/bus',\n",
       "        'LC_NUMERIC': 'bho_NP',\n",
       "        'OLDPWD': '/home/shailesh/Desktop/VritEducation',\n",
       "        '_': '/home/shailesh/Desktop/VritEducation/.vritenv/bin/jupyter',\n",
       "        'JPY_SESSION_NAME': '/home/shailesh/Desktop/VritEducation/DSML-Batch-07/Day-17/Modules and Packages/OSmodule.ipynb',\n",
       "        'JPY_PARENT_PID': '242938',\n",
       "        'PYDEVD_USE_FRAME_EVAL': 'NO',\n",
       "        'CLICOLOR': '1',\n",
       "        'FORCE_COLOR': '1',\n",
       "        'CLICOLOR_FORCE': '1',\n",
       "        'PAGER': 'cat',\n",
       "        'GIT_PAGER': 'cat',\n",
       "        'MPLBACKEND': 'module://matplotlib_inline.backend_inline',\n",
       "        'MyPassword': 'secret_password'}"
      ]
     },
     "execution_count": 18,
     "metadata": {},
     "output_type": "execute_result"
    }
   ],
   "source": [
    "os.environ"
   ]
  },
  {
   "cell_type": "code",
   "execution_count": null,
   "id": "0c9bb8c7-3c33-43b4-92e9-4601f0f2ba72",
   "metadata": {},
   "outputs": [],
   "source": []
  }
 ],
 "metadata": {
  "kernelspec": {
   "display_name": "Python 3 (ipykernel)",
   "language": "python",
   "name": "python3"
  },
  "language_info": {
   "codemirror_mode": {
    "name": "ipython",
    "version": 3
   },
   "file_extension": ".py",
   "mimetype": "text/x-python",
   "name": "python",
   "nbconvert_exporter": "python",
   "pygments_lexer": "ipython3",
   "version": "3.10.12"
  }
 },
 "nbformat": 4,
 "nbformat_minor": 5
}
