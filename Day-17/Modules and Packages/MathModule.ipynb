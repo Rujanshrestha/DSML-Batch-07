{
 "cells": [
  {
   "cell_type": "markdown",
   "id": "64d2d75d-1855-4f2d-a7b0-26995e62f476",
   "metadata": {},
   "source": [
    "# Python Math Module\n",
    "\n",
    "The Python `math` module provides a set of mathematical functions for performing various mathematical operations. Here is a brief tutorial on some of the most commonly used functions and properties in the math module:\n",
    "\n",
    "## Arithmetic Functions\n",
    "\n",
    "These are functions that perform basic arithmetic operations such as addition, subtraction, multiplication, and division.\n",
    "\n",
    "- `math.pow(x, y)`: Returns the yth power of x\n",
    "- `math.sqrt(x)`: Returns the square root of x\n",
    "- `math.ceil(x)`: Returns the smallest integer greater than or equal to x\n",
    "- `math.floor(x)`: Returns the intger after rounding it down towards negative infinity\n",
    "- `math.trunc(x)`: Returns the integer part of x after rounding it down towards zero\n",
    "- `math.fabs(x)`: Returns the absolute value of x"
   ]
  },
  {
   "cell_type": "code",
   "execution_count": 3,
   "id": "54ced39a-2352-48ff-a442-f77d9e0d9af4",
   "metadata": {},
   "outputs": [],
   "source": [
    "import math"
   ]
  },
  {
   "cell_type": "code",
   "execution_count": 5,
   "id": "6e49c40d-df3d-42e0-9fae-cdabc2e9806d",
   "metadata": {},
   "outputs": [
    {
     "data": {
      "text/plain": [
       "16.0"
      ]
     },
     "execution_count": 5,
     "metadata": {},
     "output_type": "execute_result"
    }
   ],
   "source": [
    "math.pow(4,2)"
   ]
  },
  {
   "cell_type": "code",
   "execution_count": 6,
   "id": "51d4e928-a679-4985-8a7b-fdda49c156b6",
   "metadata": {},
   "outputs": [
    {
     "data": {
      "text/plain": [
       "4.0"
      ]
     },
     "execution_count": 6,
     "metadata": {},
     "output_type": "execute_result"
    }
   ],
   "source": [
    "math.sqrt(16)"
   ]
  },
  {
   "cell_type": "code",
   "execution_count": 7,
   "id": "9c5d6127-d416-4ece-a699-b40e1b07ab20",
   "metadata": {},
   "outputs": [
    {
     "data": {
      "text/plain": [
       "3"
      ]
     },
     "execution_count": 7,
     "metadata": {},
     "output_type": "execute_result"
    }
   ],
   "source": [
    "math.ceil(2.0001)"
   ]
  },
  {
   "cell_type": "code",
   "execution_count": 8,
   "id": "b5e77ba3-c3d2-4435-a611-150f53880edf",
   "metadata": {},
   "outputs": [
    {
     "data": {
      "text/plain": [
       "2"
      ]
     },
     "execution_count": 8,
     "metadata": {},
     "output_type": "execute_result"
    }
   ],
   "source": [
    "math.floor(2.99999)"
   ]
  },
  {
   "cell_type": "code",
   "execution_count": 11,
   "id": "f44cf176-339d-4e46-a89b-4613a8ca1770",
   "metadata": {},
   "outputs": [
    {
     "data": {
      "text/plain": [
       "2"
      ]
     },
     "execution_count": 11,
     "metadata": {},
     "output_type": "execute_result"
    }
   ],
   "source": [
    "math.trunc(2.98)"
   ]
  },
  {
   "cell_type": "code",
   "execution_count": 12,
   "id": "ead1d028-47d1-4bec-a31b-f90463c823e2",
   "metadata": {},
   "outputs": [
    {
     "data": {
      "text/plain": [
       "4.0"
      ]
     },
     "execution_count": 12,
     "metadata": {},
     "output_type": "execute_result"
    }
   ],
   "source": [
    "math.fabs(-4)"
   ]
  },
  {
   "cell_type": "markdown",
   "id": "1c0daefc-1b9a-4b0d-8001-60cc24d92252",
   "metadata": {},
   "source": [
    "## Trigonometric Functions:\n",
    "\n",
    "These are functions that deal with angles and their relationships to each other.\n",
    "\n",
    "- `math.sin(x)`: Returns the sine of x (in radians)\n",
    "- `math.cos(x)`: Returns the cosine of x (in radians)\n",
    "- `math.tan(x)`: Returns the tan of x (in radians)\n",
    "- `math.radians(x)`: Converts x from degrees to radians\n",
    "- `math.degrees(x)`: Converts x from radians to degrees\n",
    "- `math.hypot(x, y)`: Returns the length of the hypotenuse of a right triangle with sides x and y"
   ]
  },
  {
   "cell_type": "code",
   "execution_count": 14,
   "id": "a569c74a-2e76-4df3-b694-2068452bc9e0",
   "metadata": {},
   "outputs": [
    {
     "data": {
      "text/plain": [
       "0.5235987755982988"
      ]
     },
     "execution_count": 14,
     "metadata": {},
     "output_type": "execute_result"
    }
   ],
   "source": [
    "d_to_r = math.radians(30)\n",
    "d_to_r"
   ]
  },
  {
   "cell_type": "code",
   "execution_count": 15,
   "id": "19897350-26de-42c0-a00f-037ea0bddb64",
   "metadata": {},
   "outputs": [
    {
     "data": {
      "text/plain": [
       "0.49999999999999994"
      ]
     },
     "execution_count": 15,
     "metadata": {},
     "output_type": "execute_result"
    }
   ],
   "source": [
    "math.sin(d_to_r)"
   ]
  },
  {
   "cell_type": "code",
   "execution_count": 16,
   "id": "9f155bae-c874-42ab-9ccc-f1eb3a4b4716",
   "metadata": {},
   "outputs": [
    {
     "data": {
      "text/plain": [
       "5.0"
      ]
     },
     "execution_count": 16,
     "metadata": {},
     "output_type": "execute_result"
    }
   ],
   "source": [
    "math.hypot(3,4)"
   ]
  },
  {
   "cell_type": "markdown",
   "id": "b56f23da-3aa7-4338-8908-cc558367a878",
   "metadata": {},
   "source": [
    "## Exponential and Logarithmic Functions:\n",
    "\n",
    "These are functions that deal with the exponential growth and decay of values over time.\n",
    "\n",
    "- `math.exp(x)`: Returns the exponential of x\n",
    "- `math.log(x)`: Returns the natural logarithm of x\n",
    "- `math.log10(x)`: Returns the base 10 logarithm of x"
   ]
  },
  {
   "cell_type": "code",
   "execution_count": 18,
   "id": "8ec33099-ed37-42da-9f3c-dc7e42d11686",
   "metadata": {},
   "outputs": [
    {
     "data": {
      "text/plain": [
       "1.0"
      ]
     },
     "execution_count": 18,
     "metadata": {},
     "output_type": "execute_result"
    }
   ],
   "source": [
    "math.exp(0)"
   ]
  },
  {
   "cell_type": "code",
   "execution_count": 19,
   "id": "7810c595-940b-45f1-ae22-9f0f490079b3",
   "metadata": {},
   "outputs": [
    {
     "data": {
      "text/plain": [
       "2.718281828459045"
      ]
     },
     "execution_count": 19,
     "metadata": {},
     "output_type": "execute_result"
    }
   ],
   "source": [
    "math.exp(1)"
   ]
  },
  {
   "cell_type": "code",
   "execution_count": 20,
   "id": "985806eb-4425-4a5c-8466-494ae370773f",
   "metadata": {},
   "outputs": [
    {
     "data": {
      "text/plain": [
       "7.38905609893065"
      ]
     },
     "execution_count": 20,
     "metadata": {},
     "output_type": "execute_result"
    }
   ],
   "source": [
    "math.exp(2)"
   ]
  },
  {
   "cell_type": "code",
   "execution_count": 27,
   "id": "500b93cd-db71-4e81-807f-668e4c0fcf13",
   "metadata": {},
   "outputs": [
    {
     "name": "stdout",
     "output_type": "stream",
     "text": [
      "[0.0, 0.6931471805599453, 1.0986122886681098, 1.3862943611198906, 1.6094379124341003, 1.791759469228055, 1.9459101490553132, 2.0794415416798357, 2.1972245773362196, 2.302585092994046, 2.3978952727983707, 2.4849066497880004, 2.5649493574615367, 2.6390573296152584, 2.70805020110221, 2.772588722239781, 2.833213344056216, 2.8903717578961645, 2.9444389791664403, 2.995732273553991, 3.044522437723423, 3.091042453358316, 3.1354942159291497, 3.1780538303479458, 3.2188758248682006, 3.258096538021482, 3.295836866004329, 3.332204510175204, 3.367295829986474, 3.4011973816621555, 3.4339872044851463, 3.4657359027997265, 3.4965075614664802, 3.5263605246161616, 3.5553480614894135, 3.58351893845611, 3.6109179126442243, 3.6375861597263857, 3.6635616461296463, 3.6888794541139363, 3.713572066704308, 3.7376696182833684, 3.7612001156935624, 3.784189633918261, 3.8066624897703196, 3.828641396489095, 3.8501476017100584, 3.871201010907891, 3.8918202981106265, 3.912023005428146, 3.9318256327243257, 3.9512437185814275, 3.970291913552122, 3.9889840465642745, 4.007333185232471, 4.02535169073515, 4.04305126783455, 4.060443010546419, 4.07753744390572, 4.0943445622221, 4.110873864173311, 4.127134385045092, 4.143134726391533, 4.1588830833596715, 4.174387269895637, 4.189654742026425, 4.204692619390966, 4.219507705176107, 4.23410650459726, 4.248495242049359, 4.2626798770413155, 4.276666119016055, 4.290459441148391, 4.30406509320417, 4.31748811353631, 4.330733340286331, 4.343805421853684, 4.356708826689592, 4.3694478524670215, 4.382026634673881, 4.394449154672439, 4.406719247264253, 4.418840607796598, 4.430816798843313, 4.442651256490317, 4.454347296253507, 4.465908118654584, 4.477336814478207, 4.48863636973214, 4.499809670330265, 4.51085950651685, 4.5217885770490405, 4.532599493153256, 4.543294782270004, 4.553876891600541, 4.564348191467836, 4.574710978503383, 4.584967478670572, 4.59511985013459]\n"
     ]
    }
   ],
   "source": [
    "print([math.log(i) for i in range(1,100)])"
   ]
  },
  {
   "cell_type": "markdown",
   "id": "0bdbbdf1-7558-4764-bae1-e52d0c2f9f50",
   "metadata": {},
   "source": [
    "## Constants:\n",
    "\n",
    "The math module also includes several mathematical constants that are popular among the mathematicians. You may be familiar with most of them.\n",
    "\n",
    "- `math.pi`: Returns the mathematical constant pi (3.141592...)\n",
    "- `math.e`: Returns the mathematical constant e (2.718281...)\n",
    "- `math.inf`: Returns a floating-point positive infinity value\n",
    "- `math.tau`: Returns the mathematical constant tau (2*pi)\n",
    "- `math.nan`: Returns a floating-point not-a-number (NaN) value"
   ]
  },
  {
   "cell_type": "code",
   "execution_count": 28,
   "id": "94cdab8e-f79b-48f0-aa33-35975f186640",
   "metadata": {},
   "outputs": [
    {
     "data": {
      "text/plain": [
       "3.141592653589793"
      ]
     },
     "execution_count": 28,
     "metadata": {},
     "output_type": "execute_result"
    }
   ],
   "source": [
    "math.pi"
   ]
  },
  {
   "cell_type": "code",
   "execution_count": 31,
   "id": "3a79a409-85be-49f6-bff1-63b4d499b4a3",
   "metadata": {},
   "outputs": [
    {
     "data": {
      "text/plain": [
       "inf"
      ]
     },
     "execution_count": 31,
     "metadata": {},
     "output_type": "execute_result"
    }
   ],
   "source": [
    "math.inf"
   ]
  },
  {
   "cell_type": "code",
   "execution_count": 32,
   "id": "32b5e5c3-0822-469d-b6a5-36c42aa8a280",
   "metadata": {},
   "outputs": [
    {
     "data": {
      "text/plain": [
       "nan"
      ]
     },
     "execution_count": 32,
     "metadata": {},
     "output_type": "execute_result"
    }
   ],
   "source": [
    "math.nan"
   ]
  },
  {
   "cell_type": "markdown",
   "id": "b3d3e243-88cf-4e9c-96af-955eb0e1613f",
   "metadata": {},
   "source": [
    "## Special Functions:\n",
    "\n",
    "These are functions that deal with special and more complex mathematical concepts.\n",
    "\n",
    "- `math.factorial(x)`: Returns the factorial of x (x!)\n",
    "- `math.comb(n, k)`: Returns the number of ways to choose k items from a set of n items\n",
    "- `math.isclose(a, b, rel_tol=1e-9, abs_tol=0.0)`: Returns True if the absolute difference between a and b is less than or equal to either the relative tolerance `rel_tol` or the absolute tolerance `abs_tol`\n",
    "- `math.isqrt(n)`: Returns the integer square root of n\n",
    "- `math.dist(p, q)`: Returns the Euclidean distance between two points p and q in n-dimensional space\n",
    "- `math.erf(x)`: Returns the error function of x\n",
    "- `math.gamma(x)`: Returns the gamma function of x\n",
    "- `math.perm(n, k)`: Returns the number of possible permutations of selecting k items from a group of n items without replacement and where the order of selection matters"
   ]
  },
  {
   "cell_type": "code",
   "execution_count": 33,
   "id": "92d09c75-4563-4fdd-b3f9-c4674624df89",
   "metadata": {},
   "outputs": [
    {
     "data": {
      "text/plain": [
       "3628800"
      ]
     },
     "execution_count": 33,
     "metadata": {},
     "output_type": "execute_result"
    }
   ],
   "source": [
    "math.factorial(10)"
   ]
  },
  {
   "cell_type": "code",
   "execution_count": 36,
   "id": "729ec1ec-472a-4d45-8a7a-ed201debc82f",
   "metadata": {},
   "outputs": [
    {
     "data": {
      "text/plain": [
       "5"
      ]
     },
     "execution_count": 36,
     "metadata": {},
     "output_type": "execute_result"
    }
   ],
   "source": [
    "math.comb(5,4)"
   ]
  },
  {
   "cell_type": "code",
   "execution_count": 38,
   "id": "79b39d11-4339-4092-a806-5ca24face1d8",
   "metadata": {},
   "outputs": [
    {
     "data": {
      "text/plain": [
       "120"
      ]
     },
     "execution_count": 38,
     "metadata": {},
     "output_type": "execute_result"
    }
   ],
   "source": [
    "math.perm(5,4)"
   ]
  },
  {
   "cell_type": "code",
   "execution_count": null,
   "id": "5f82eb40-cd70-4c02-90fa-2ecdb6addd19",
   "metadata": {},
   "outputs": [],
   "source": []
  }
 ],
 "metadata": {
  "kernelspec": {
   "display_name": "Python 3 (ipykernel)",
   "language": "python",
   "name": "python3"
  },
  "language_info": {
   "codemirror_mode": {
    "name": "ipython",
    "version": 3
   },
   "file_extension": ".py",
   "mimetype": "text/x-python",
   "name": "python",
   "nbconvert_exporter": "python",
   "pygments_lexer": "ipython3",
   "version": "3.10.12"
  }
 },
 "nbformat": 4,
 "nbformat_minor": 5
}
