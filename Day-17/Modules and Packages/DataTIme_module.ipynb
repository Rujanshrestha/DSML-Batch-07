{
 "cells": [
  {
   "cell_type": "markdown",
   "id": "7dd0535d-79d0-463d-bc2d-25f9f7ad1294",
   "metadata": {},
   "source": [
    "# Modules and Packages\n",
    "\n",
    "A module is a file containing Python definitions and statements, which can be used in other Python scripts. In Python Modules can be imported using the `import` statement followed by the module name. Once the module is imported, you can access its functions and variables using `dot` notation.\n",
    "\n",
    "A package is simply a way of organizing modules into directories and sub-directories, making it easier to manage large-scale Python projects."
   ]
  },
  {
   "cell_type": "markdown",
   "id": "bc791da1-798a-4036-b52a-d24b71f32579",
   "metadata": {},
   "source": [
    "# Python Date and Time Modules\n",
    "\n",
    "Python has several built-in modules for working with date and time. Some of the most commonly used modules are:\n",
    "\n",
    "- **datetime:** The datetime module provides classes for working with dates and times, including formatting and arithmetic operations.\n",
    "- **time:** The time module provides functions for working with time, including formatting and arithmetic operations.\n"
   ]
  },
  {
   "cell_type": "markdown",
   "id": "e570159e-e139-46f5-935b-c264ec2c5bf1",
   "metadata": {
    "jp-MarkdownHeadingCollapsed": true
   },
   "source": [
    "## 1. datetime\n",
    "\n",
    "https://docs.python.org/3/library/datetime.html\n",
    "\n",
    "\n",
    "The `datetime` module in Python is used to work with dates, times, and time intervals. It provides several classes for working with date and time, including `date`, `time`, `datetime`, `timedelta`, and `tzinfo`.\n",
    "\n",
    "- `datetime.date:` This class represents a date (year, month, and day) in the Gregorian calendar. Dates can be created using the constructor `date(year, month, day)`.\n",
    "- `datetime.time:` This class represents a time (hour, minute, second, and microsecond). Times can be created using the constructor `time(hour=0, minute=0, second=0, microsecond=0)`.\n",
    "- `datetime.datetime:` This class represents a date and time. Datetimes can be created using the constructor `datetime(year, month, day, hour=0, minute=0, second=0, microsecond=0)`.\n",
    "- `datetime.timedelta:` This class represents a duration or the difference between two dates or times. Timedeltas can be created using the constructor `timedelta(days=0, seconds=0, microseconds=0, milliseconds=0, minutes=0, hours=0, weeks=0)`.\n",
    "- `datetime.tzinfo:` This is an abstract base class that can be used to define time zones."
   ]
  },
  {
   "cell_type": "code",
   "execution_count": 2,
   "id": "7a024bce-19cf-46a3-8bf4-0258cfea9719",
   "metadata": {},
   "outputs": [],
   "source": [
    "import datetime"
   ]
  },
  {
   "cell_type": "code",
   "execution_count": 14,
   "id": "a0510032-fc9a-4e43-9957-3b130c251b94",
   "metadata": {},
   "outputs": [],
   "source": [
    "# '2025/07/14'\n",
    "date1 = datetime.date(2025, 8, 14)"
   ]
  },
  {
   "cell_type": "code",
   "execution_count": 15,
   "id": "a51c6ca6-431c-4fdb-af6a-0cebe1688450",
   "metadata": {},
   "outputs": [],
   "source": [
    "today = datetime.date.today()"
   ]
  },
  {
   "cell_type": "code",
   "execution_count": 16,
   "id": "07efa61d-0a07-479f-acff-477eb1370ad2",
   "metadata": {},
   "outputs": [
    {
     "name": "stdout",
     "output_type": "stream",
     "text": [
      "2025-07-14\n"
     ]
    }
   ],
   "source": [
    "print(today)"
   ]
  },
  {
   "cell_type": "code",
   "execution_count": 19,
   "id": "23b27a0d-22d4-441e-b428-cff947bbd896",
   "metadata": {},
   "outputs": [
    {
     "data": {
      "text/plain": [
       "True"
      ]
     },
     "execution_count": 19,
     "metadata": {},
     "output_type": "execute_result"
    }
   ],
   "source": [
    "# Comapre Dates\n",
    "\n",
    "date1 > today"
   ]
  },
  {
   "cell_type": "code",
   "execution_count": 22,
   "id": "7bdd1024-a0c1-44e4-94ec-00e0a40766b8",
   "metadata": {},
   "outputs": [
    {
     "data": {
      "text/plain": [
       "datetime.timedelta(days=31)"
      ]
     },
     "execution_count": 22,
     "metadata": {},
     "output_type": "execute_result"
    }
   ],
   "source": [
    "# Arith. operation\n",
    "\n",
    "date1 - today"
   ]
  },
  {
   "cell_type": "code",
   "execution_count": null,
   "id": "54a162c5-b116-4070-aeee-2c9fecc8d9bc",
   "metadata": {},
   "outputs": [],
   "source": []
  },
  {
   "cell_type": "code",
   "execution_count": 30,
   "id": "3e02a2bb-3660-439b-9768-d18c6c8e2457",
   "metadata": {},
   "outputs": [],
   "source": [
    "get_time = datetime.time(12,54,6)"
   ]
  },
  {
   "cell_type": "code",
   "execution_count": 31,
   "id": "a5ca1ae7-4788-4342-b028-7fbcd05b5837",
   "metadata": {},
   "outputs": [
    {
     "data": {
      "text/plain": [
       "datetime.time(12, 54, 6)"
      ]
     },
     "execution_count": 31,
     "metadata": {},
     "output_type": "execute_result"
    }
   ],
   "source": [
    "get_time"
   ]
  },
  {
   "cell_type": "code",
   "execution_count": 38,
   "id": "9a0f6fe0-98e4-451d-950d-739bfeaff8e4",
   "metadata": {},
   "outputs": [
    {
     "data": {
      "text/plain": [
       "datetime.datetime(2025, 7, 14, 8, 23, 25, 211629)"
      ]
     },
     "execution_count": 38,
     "metadata": {},
     "output_type": "execute_result"
    }
   ],
   "source": [
    "now = datetime.datetime.today()\n",
    "now"
   ]
  },
  {
   "cell_type": "code",
   "execution_count": 46,
   "id": "b24eb724-c542-4e9f-a59d-c093c949da3b",
   "metadata": {},
   "outputs": [
    {
     "data": {
      "text/plain": [
       "'25-07-14 08:23:25'"
      ]
     },
     "execution_count": 46,
     "metadata": {},
     "output_type": "execute_result"
    }
   ],
   "source": [
    "# https://docs.python.org/3/library/datetime.html#strftime-strptime-behavior\n",
    "# https://www.programiz.com/python-programming/datetime/strftime\n",
    "now.strftime(\"%y-%m-%d %H:%M:%S\")"
   ]
  },
  {
   "cell_type": "code",
   "execution_count": null,
   "id": "96a4271b-a594-43f0-8621-2913cf89264e",
   "metadata": {},
   "outputs": [],
   "source": []
  },
  {
   "cell_type": "code",
   "execution_count": 47,
   "id": "0a771b16-c625-4f2f-86c8-3aa83a68a5ba",
   "metadata": {},
   "outputs": [
    {
     "data": {
      "text/plain": [
       "0"
      ]
     },
     "execution_count": 47,
     "metadata": {},
     "output_type": "execute_result"
    }
   ],
   "source": [
    "now.weekday()"
   ]
  },
  {
   "cell_type": "code",
   "execution_count": 52,
   "id": "2c306f2e-6e4d-4935-9080-f3885b8c5f5a",
   "metadata": {},
   "outputs": [
    {
     "data": {
      "text/plain": [
       "14"
      ]
     },
     "execution_count": 52,
     "metadata": {},
     "output_type": "execute_result"
    }
   ],
   "source": [
    "now.day"
   ]
  },
  {
   "cell_type": "code",
   "execution_count": 68,
   "id": "771af2e4-1882-4df8-9386-845d86f4b51e",
   "metadata": {},
   "outputs": [
    {
     "data": {
      "text/plain": [
       "datetime.datetime(2008, 5, 22, 0, 0)"
      ]
     },
     "execution_count": 68,
     "metadata": {},
     "output_type": "execute_result"
    }
   ],
   "source": [
    "# Timedelta\n",
    "\n",
    "year_10 = datetime.timedelta(days = 10*365)\n",
    "\n",
    "datetime.datetime(1998,5,25) + year_10"
   ]
  },
  {
   "cell_type": "code",
   "execution_count": 69,
   "id": "dad49848-7f3b-4e59-894d-70dd162c1017",
   "metadata": {},
   "outputs": [],
   "source": [
    "nst = datetime.timezone(datetime.timedelta(hours = 5, minutes = 45))"
   ]
  },
  {
   "cell_type": "code",
   "execution_count": 72,
   "id": "cfc02f83-e84f-43b9-87fa-b860023664c9",
   "metadata": {},
   "outputs": [
    {
     "name": "stdout",
     "output_type": "stream",
     "text": [
      "UTC+05:45\n"
     ]
    }
   ],
   "source": []
  },
  {
   "cell_type": "code",
   "execution_count": 74,
   "id": "32ed5726-4089-494c-b41c-9d5a1c371f5e",
   "metadata": {},
   "outputs": [
    {
     "data": {
      "text/plain": [
       "datetime.timedelta(days=18250)"
      ]
     },
     "execution_count": 74,
     "metadata": {},
     "output_type": "execute_result"
    }
   ],
   "source": [
    "year_10 *5"
   ]
  },
  {
   "cell_type": "code",
   "execution_count": null,
   "id": "99b1ddd1-c7a3-40e2-9739-6262e16141e2",
   "metadata": {},
   "outputs": [],
   "source": []
  },
  {
   "cell_type": "markdown",
   "id": "b8336f87-0d7b-440f-a3e6-d1c7aed56dd4",
   "metadata": {
    "jp-MarkdownHeadingCollapsed": true
   },
   "source": [
    "## 2.time\n",
    "\n",
    "The `time` module in Python provides various time-related functions. It includes both functions to get the current time and functions to sleep for a specified amount of time. Some of the commonly used functions of the `time` module are:\n",
    "\n",
    "- `time()`: returns the current time in seconds since the Epoch (January 1, 1970, 00:00:00 UTC).\n",
    "- `sleep()`: suspends the execution of the current thread for a given number of seconds.\n",
    "- `ctime()`: returns a string representing the current time and date.\n",
    "- `gmtime()`: returns the current time in Coordinated Universal Time (UTC).\n",
    "- `localtime()`: returns the current time in local time.\n",
    "- `asctime()`: returns a string representing the current time and date in a particular format."
   ]
  },
  {
   "cell_type": "code",
   "execution_count": 1,
   "id": "ed6aeff6-247d-4ec8-bc9b-5d1a56a6e850",
   "metadata": {},
   "outputs": [],
   "source": [
    "import time"
   ]
  },
  {
   "cell_type": "code",
   "execution_count": 6,
   "id": "a3695758-fc6d-42a2-8973-52ccd0e6c377",
   "metadata": {},
   "outputs": [
    {
     "data": {
      "text/plain": [
       "1752544050.0354016"
      ]
     },
     "execution_count": 6,
     "metadata": {},
     "output_type": "execute_result"
    }
   ],
   "source": [
    "time.time() #Get Current time in seconds"
   ]
  },
  {
   "cell_type": "code",
   "execution_count": 8,
   "id": "913b9d6a-b3be-4448-9013-0fdfb95711e1",
   "metadata": {},
   "outputs": [
    {
     "data": {
      "text/plain": [
       "'Tue Jul 15 07:34:33 2025'"
      ]
     },
     "execution_count": 8,
     "metadata": {},
     "output_type": "execute_result"
    }
   ],
   "source": [
    "time.ctime() # Get current time in string"
   ]
  },
  {
   "cell_type": "code",
   "execution_count": 11,
   "id": "6a1da628-9afd-46e0-84b3-4b98c02c9e3c",
   "metadata": {},
   "outputs": [
    {
     "name": "stdout",
     "output_type": "stream",
     "text": [
      "Loading . . . \n",
      "Completed !\n"
     ]
    }
   ],
   "source": [
    "# Sleep for 5 sec\n",
    "print(\"Loading . . . \")\n",
    "time.sleep(5)\n",
    "print(\"Completed !\")"
   ]
  },
  {
   "cell_type": "code",
   "execution_count": 12,
   "id": "ea86a5ef-59c1-4f98-b80d-6aed4c14219a",
   "metadata": {},
   "outputs": [
    {
     "data": {
      "text/plain": [
       "time.struct_time(tm_year=2025, tm_mon=7, tm_mday=15, tm_hour=1, tm_min=52, tm_sec=9, tm_wday=1, tm_yday=196, tm_isdst=0)"
      ]
     },
     "execution_count": 12,
     "metadata": {},
     "output_type": "execute_result"
    }
   ],
   "source": [
    "# Current UTC time\n",
    "time.gmtime()"
   ]
  },
  {
   "cell_type": "code",
   "execution_count": 13,
   "id": "4b0850eb-d729-48d5-9aae-3632e0fb2676",
   "metadata": {},
   "outputs": [
    {
     "data": {
      "text/plain": [
       "time.struct_time(tm_year=2025, tm_mon=7, tm_mday=15, tm_hour=7, tm_min=38, tm_sec=8, tm_wday=1, tm_yday=196, tm_isdst=0)"
      ]
     },
     "execution_count": 13,
     "metadata": {},
     "output_type": "execute_result"
    }
   ],
   "source": [
    "time.localtime()"
   ]
  },
  {
   "cell_type": "code",
   "execution_count": 18,
   "id": "7a006b32-d83e-4916-9f5d-6b8363265935",
   "metadata": {},
   "outputs": [
    {
     "data": {
      "text/plain": [
       "'07 hour ,46 minutes and 02 seconds'"
      ]
     },
     "execution_count": 18,
     "metadata": {},
     "output_type": "execute_result"
    }
   ],
   "source": [
    "# Str Repr\n",
    "time.strftime(\"%H hour ,%M minutes and %S seconds\")"
   ]
  },
  {
   "cell_type": "code",
   "execution_count": null,
   "id": "15b8aa22-887d-4a3f-a154-42705ee68b05",
   "metadata": {},
   "outputs": [],
   "source": []
  },
  {
   "cell_type": "code",
   "execution_count": 19,
   "id": "a4fd8c77-91fd-45a8-b0b6-380542937e9e",
   "metadata": {},
   "outputs": [
    {
     "name": "stdout",
     "output_type": "stream",
     "text": [
      "Hello\n"
     ]
    }
   ],
   "source": [
    "start = time.time()\n",
    "\n",
    "print(\"Hello\")\n",
    "time.sleep(2)\n",
    "\n",
    "end = time.time()"
   ]
  },
  {
   "cell_type": "code",
   "execution_count": 20,
   "id": "665e8c62-794d-4cc3-a1d3-4df158a60867",
   "metadata": {},
   "outputs": [
    {
     "name": "stdout",
     "output_type": "stream",
     "text": [
      "Total time taken  2.002349376678467\n"
     ]
    }
   ],
   "source": [
    "print(\"Total time taken \", end - start)"
   ]
  },
  {
   "cell_type": "code",
   "execution_count": null,
   "id": "2864614e-cde9-4e31-a0cd-0db62fcd3999",
   "metadata": {},
   "outputs": [],
   "source": []
  }
 ],
 "metadata": {
  "kernelspec": {
   "display_name": "Python 3 (ipykernel)",
   "language": "python",
   "name": "python3"
  },
  "language_info": {
   "codemirror_mode": {
    "name": "ipython",
    "version": 3
   },
   "file_extension": ".py",
   "mimetype": "text/x-python",
   "name": "python",
   "nbconvert_exporter": "python",
   "pygments_lexer": "ipython3",
   "version": "3.10.12"
  }
 },
 "nbformat": 4,
 "nbformat_minor": 5
}
