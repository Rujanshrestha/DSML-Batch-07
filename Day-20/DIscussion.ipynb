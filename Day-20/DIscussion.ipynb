{
 "cells": [
  {
   "cell_type": "code",
   "execution_count": 2,
   "id": "886ec049-cdf3-4aa8-a75e-b9dce78b5e22",
   "metadata": {},
   "outputs": [],
   "source": [
    "d = {**{'a': 1}, **{'a': 2}} "
   ]
  },
  {
   "cell_type": "code",
   "execution_count": 9,
   "id": "ae8a836a-9a2e-4608-87f7-1110bee59756",
   "metadata": {},
   "outputs": [],
   "source": [
    "d = {'a': 1} | {'a': 2}"
   ]
  },
  {
   "cell_type": "code",
   "execution_count": 10,
   "id": "75404d4d-052b-4302-a258-af78625024df",
   "metadata": {},
   "outputs": [
    {
     "name": "stdout",
     "output_type": "stream",
     "text": [
      "{'a': 2}\n"
     ]
    }
   ],
   "source": [
    "print(d)"
   ]
  },
  {
   "cell_type": "code",
   "execution_count": 1,
   "id": "87eba294-a578-4cc7-8889-9b870e0729e0",
   "metadata": {},
   "outputs": [],
   "source": [
    "class Demo:\n",
    "    x = 10 \n",
    "    \n",
    "    def __init__(self):\n",
    "        pass\n",
    "\n",
    "obj = Demo()"
   ]
  },
  {
   "cell_type": "code",
   "execution_count": 3,
   "id": "bb200429-807d-4a8d-ba97-be62064b7440",
   "metadata": {},
   "outputs": [
    {
     "data": {
      "text/plain": [
       "10"
      ]
     },
     "execution_count": 3,
     "metadata": {},
     "output_type": "execute_result"
    }
   ],
   "source": [
    "Demo.x"
   ]
  },
  {
   "cell_type": "code",
   "execution_count": 5,
   "id": "b37c853f-801b-43af-a9d8-b49aaf5f70ec",
   "metadata": {},
   "outputs": [],
   "source": [
    "obj.x = 20"
   ]
  },
  {
   "cell_type": "code",
   "execution_count": 6,
   "id": "cb4b5b91-31b9-4aeb-84bd-3f72a5b6279d",
   "metadata": {},
   "outputs": [
    {
     "name": "stdout",
     "output_type": "stream",
     "text": [
      "10\n",
      "20\n"
     ]
    }
   ],
   "source": [
    "print(Demo.x)\n",
    "print(obj.x)"
   ]
  },
  {
   "cell_type": "code",
   "execution_count": 14,
   "id": "3fe2ef68-ae30-4c2f-81dc-1bb1434e02a0",
   "metadata": {},
   "outputs": [],
   "source": [
    "class Sample:\n",
    "    def __init__(self, x):\n",
    "        self.x = x\n",
    "\n",
    "    def __eq__(self, other):\n",
    "        return self.x * other.x\n",
    "\n",
    "    def __mul__(self,other):\n",
    "        return self.x == other.x\n",
    "\n",
    "a = Sample(2)\n",
    "b = Sample(3)"
   ]
  },
  {
   "cell_type": "code",
   "execution_count": 15,
   "id": "9ed2f0b6-73bf-47b4-81a8-9c3907986388",
   "metadata": {},
   "outputs": [
    {
     "name": "stdout",
     "output_type": "stream",
     "text": [
      "6\n"
     ]
    }
   ],
   "source": [
    "print(a == b)"
   ]
  },
  {
   "cell_type": "code",
   "execution_count": 16,
   "id": "2b01e7d8-b146-40bc-98c0-2e225d3dfdfd",
   "metadata": {},
   "outputs": [
    {
     "data": {
      "text/plain": [
       "False"
      ]
     },
     "execution_count": 16,
     "metadata": {},
     "output_type": "execute_result"
    }
   ],
   "source": [
    "a * b"
   ]
  },
  {
   "cell_type": "markdown",
   "id": "4216ee20-c8c8-4c07-ac91-127d5ef2a79b",
   "metadata": {},
   "source": [
    "## Exam Proctoring Timer Using Time and Exception Handling\n",
    "\n",
    "*Scenario:*\n",
    "You are simulating an exam timer.\n",
    "\n",
    "* Ask the user how many seconds the test should run.\n",
    "* Use `time.sleep()` to create a countdown.\n",
    "* Handle input errors like non-numeric or negative time using custom exceptions.\n",
    "\n",
    "> Concepts: Time, Exception Handling, Custom Classes"
   ]
  },
  {
   "cell_type": "code",
   "execution_count": 20,
   "id": "47e9cbe4-d0c7-4bfe-a531-6806a54af04b",
   "metadata": {},
   "outputs": [],
   "source": [
    "class InvalidTimeError(Exception):\n",
    "    pass"
   ]
  },
  {
   "cell_type": "code",
   "execution_count": 18,
   "id": "9537fc3a-0cd1-4936-9168-ced489e272bc",
   "metadata": {},
   "outputs": [],
   "source": [
    "class ExamTimer:\n",
    "    def __init__(self, duration):\n",
    "        if not isinstance(duration,(int,float)):\n",
    "            raise InvalidTimeError(\"Duration must be a number\")\n",
    "        if duration <= 0 :\n",
    "            raise InvalidTimeError(\"Duration must be grater than 0\")\n",
    "\n",
    "        self.duration = int(duration)\n",
    "\n",
    "    def timer(self):\n",
    "        print(f\"Exam Started ! Time {self.duration} seconds\")\n",
    "        for r in range(self.duration,0, -1):\n",
    "            print(f\"Time Left : {r} seconds     \", end = \"\\r\")\n",
    "            time.sleep(1)\n",
    "\n",
    "        print(\"\\n Time's Up !\")"
   ]
  },
  {
   "cell_type": "code",
   "execution_count": 19,
   "id": "079137ac-174f-4cb3-9103-77202a889623",
   "metadata": {},
   "outputs": [
    {
     "name": "stdin",
     "output_type": "stream",
     "text": [
      "Exam exam duration in seconds:  11\n"
     ]
    },
    {
     "name": "stdout",
     "output_type": "stream",
     "text": [
      "Exam Started ! Time 11 seconds\n",
      "Time Left : 1 seconds      \n",
      " Time's Up !\n",
      "Thank you for using Exam Timer\n"
     ]
    }
   ],
   "source": [
    "try:\n",
    "    user_input = float(input(\"Exam exam duration in seconds: \"))\n",
    "    timer_obj = ExamTimer(user_input)\n",
    "    timer_obj.timer()\n",
    "\n",
    "except InvalidTimeError as e:\n",
    "    print(f\"Input error : {e}\")\n",
    "except ValueError as e:\n",
    "    print(\"Enter a valid number.\")\n",
    "finally:\n",
    "    print(\"Thank you for using Exam Timer\")\n",
    "    "
   ]
  },
  {
   "cell_type": "code",
   "execution_count": null,
   "id": "c2dbc6e5-d57e-41ee-a705-df41944e54fb",
   "metadata": {},
   "outputs": [],
   "source": []
  },
  {
   "cell_type": "code",
   "execution_count": null,
   "id": "c1de9b0a-6d5b-4099-b6ad-e4cd7f1acc86",
   "metadata": {},
   "outputs": [],
   "source": []
  },
  {
   "cell_type": "code",
   "execution_count": 17,
   "id": "c9b6fe08-9d60-47ee-b85a-24c531e29381",
   "metadata": {},
   "outputs": [],
   "source": [
    "class Test:\n",
    "    def __init__(self,x):\n",
    "        self.__x__ = x\n",
    "        "
   ]
  },
  {
   "cell_type": "code",
   "execution_count": 18,
   "id": "6a614457-b121-4f8e-9cca-49549f49b783",
   "metadata": {},
   "outputs": [],
   "source": [
    "obj = Test(44)"
   ]
  },
  {
   "cell_type": "code",
   "execution_count": 19,
   "id": "553f9e31-5765-4597-94dc-41079fc9aa73",
   "metadata": {},
   "outputs": [
    {
     "data": {
      "text/plain": [
       "44"
      ]
     },
     "execution_count": 19,
     "metadata": {},
     "output_type": "execute_result"
    }
   ],
   "source": [
    "obj.__x__"
   ]
  },
  {
   "cell_type": "code",
   "execution_count": 25,
   "id": "707516fe-c908-4561-add2-ae28a8292052",
   "metadata": {},
   "outputs": [
    {
     "name": "stdout",
     "output_type": "stream",
     "text": [
      "Hario world\n"
     ]
    }
   ],
   "source": [
    "print(\"Hello world\", end=\"\\r\")\n",
    "print(\"Hari\")"
   ]
  },
  {
   "cell_type": "code",
   "execution_count": 10,
   "id": "e5359059-7ff2-4d50-b9d0-15298a6d10ef",
   "metadata": {},
   "outputs": [],
   "source": [
    "import time \n",
    "\n",
    "class Time_bomb():\n",
    "    def __init__(self,inp):\n",
    "        self.inp = inp\n",
    "        \n",
    "    def counter(self):    \n",
    "        count = self.inp\n",
    "        print(f\"You have total time {count}, time bomb starts now\")\n",
    "        for i in range(count):\n",
    "            time.sleep(1)\n",
    "            count-=1\n",
    "            print(f\"You have {count} sec remaning\") \n",
    "        \n",
    "class Invalid_():\n",
    "    def foo(slef):\n",
    "        try:\n",
    "            user_input= int(input(\"Enter the total duration of time \"))\n",
    "            if not isinstance(user_input,(int,float)):\n",
    "                raise Error\n",
    "        except:\n",
    "            print(\"Please enter positive integer\")\n",
    "\n",
    "        return Time_bomb(user_input).counter()\n",
    "\n",
    "        \n"
   ]
  },
  {
   "cell_type": "code",
   "execution_count": 11,
   "id": "bc332090-eb44-4042-85ac-da4dd11f9f91",
   "metadata": {},
   "outputs": [
    {
     "name": "stdin",
     "output_type": "stream",
     "text": [
      "Enter the total duration of time  5\n"
     ]
    },
    {
     "name": "stdout",
     "output_type": "stream",
     "text": [
      "You have total time 5, time bomb starts now\n",
      "You have 4 sec remaning\n",
      "You have 3 sec remaning\n",
      "You have 2 sec remaning\n",
      "You have 1 sec remaning\n",
      "You have 0 sec remaning\n"
     ]
    }
   ],
   "source": [
    "Invalid_().foo()"
   ]
  },
  {
   "cell_type": "code",
   "execution_count": 9,
   "id": "f071eba7-6a65-4a8a-aa9d-ea14673e8f25",
   "metadata": {},
   "outputs": [
    {
     "name": "stdout",
     "output_type": "stream",
     "text": [
      "You have total time 5, time bomb starts now\n",
      "You have 4 sec remaning\n",
      "You have 3 sec remaning\n",
      "You have 2 sec remaning\n",
      "You have 1 sec remaning\n",
      "You have 0 sec remaning\n"
     ]
    }
   ],
   "source": [
    "res.counter()"
   ]
  },
  {
   "cell_type": "code",
   "execution_count": null,
   "id": "27b12cff-09c6-4abb-8954-2538a719ddf2",
   "metadata": {},
   "outputs": [],
   "source": []
  }
 ],
 "metadata": {
  "kernelspec": {
   "display_name": "Python 3 (ipykernel)",
   "language": "python",
   "name": "python3"
  },
  "language_info": {
   "codemirror_mode": {
    "name": "ipython",
    "version": 3
   },
   "file_extension": ".py",
   "mimetype": "text/x-python",
   "name": "python",
   "nbconvert_exporter": "python",
   "pygments_lexer": "ipython3",
   "version": "3.10.12"
  }
 },
 "nbformat": 4,
 "nbformat_minor": 5
}
