{
 "cells": [
  {
   "cell_type": "markdown",
   "id": "8e33f6ee-1b01-405e-aa48-00ccfdfeed87",
   "metadata": {},
   "source": [
    "## NumPy Array Properties and Methods\n",
    "\n",
    "NumPy arrays have several useful properties and methods that can be used to manipulate them.\n",
    "\n",
    "- `shape`: Property that returns the dimensions of the array\n",
    "- `ndim`: Property that returns number of array dimensions\n",
    "- `dtype`: Property that returns data-type of the array’s elements\n",
    "- `T`: Transpose of the array’s elements\n",
    "- -------------------------------------------------------------------\n",
    "- `reshape()`: Method to change the dimensions of an array. The product of old dimensions should match the product of new dimensions\n",
    "- `ravel()`: Method that collapses all values into a single axis or dimension and returns view of original array\n",
    "- `flatten()`: Method that collapses all values into a single axis or dimension and returns an independent copy of original array\n",
    "- `np.concatenate()`: Method to concatenate two or more arrays\n",
    "- `sum()`: Method that returns the sum of all elements in an array\n",
    "- `cumsum()`: Method that returns cumulative sum over given axis\n",
    "- `prod()`: Method that compute product over given axis\n",
    "- `max()`: Method that returns the maximum along a given axis\n",
    "- `argmax()`: Method that returns indeces of the maximum values along a given axis\n",
    "- `clip()`: Clip values beyond range to threshold values\n",
    "- `np.split()`: Method to split an array into multiple sub-arrays\n",
    "- `np.vstack()`: Method to stack arrays vertically\n",
    "- `np.hstack()`: Method to stack arrays horizontally"
   ]
  },
  {
   "cell_type": "code",
   "execution_count": 3,
   "id": "f494902d-2ecb-44be-84b2-d625589a0849",
   "metadata": {},
   "outputs": [],
   "source": [
    "import numpy as np"
   ]
  },
  {
   "cell_type": "code",
   "execution_count": 19,
   "id": "c72c1c24-0175-4433-8c79-1a2f01972584",
   "metadata": {},
   "outputs": [],
   "source": [
    "a = np.random.randint(10,50, size = (5,2,3))"
   ]
  },
  {
   "cell_type": "code",
   "execution_count": 20,
   "id": "6e63c3ad-2dd7-4871-905c-b2900ed8d1d5",
   "metadata": {},
   "outputs": [
    {
     "data": {
      "text/plain": [
       "(5, 2, 3)"
      ]
     },
     "execution_count": 20,
     "metadata": {},
     "output_type": "execute_result"
    }
   ],
   "source": [
    "a.shape"
   ]
  },
  {
   "cell_type": "code",
   "execution_count": 21,
   "id": "c22b1600-6462-4eee-9a6e-7a6d0c493e70",
   "metadata": {},
   "outputs": [
    {
     "data": {
      "text/plain": [
       "3"
      ]
     },
     "execution_count": 21,
     "metadata": {},
     "output_type": "execute_result"
    }
   ],
   "source": [
    "a.ndim"
   ]
  },
  {
   "cell_type": "code",
   "execution_count": 22,
   "id": "4713c1e7-fef0-4bad-b952-220db4ff9c47",
   "metadata": {},
   "outputs": [
    {
     "data": {
      "text/plain": [
       "dtype('int64')"
      ]
     },
     "execution_count": 22,
     "metadata": {},
     "output_type": "execute_result"
    }
   ],
   "source": [
    "a.dtype"
   ]
  },
  {
   "cell_type": "code",
   "execution_count": 23,
   "id": "3304ecc7-8280-4456-947a-fa8a2a801688",
   "metadata": {},
   "outputs": [
    {
     "data": {
      "text/plain": [
       "30"
      ]
     },
     "execution_count": 23,
     "metadata": {},
     "output_type": "execute_result"
    }
   ],
   "source": [
    "a.size #Number of elements"
   ]
  },
  {
   "cell_type": "code",
   "execution_count": 24,
   "id": "9dad7d62-09e7-4e05-8b9a-9b7dfbad59e3",
   "metadata": {},
   "outputs": [
    {
     "data": {
      "text/plain": [
       "array([[[10, 40, 22, 46, 23],\n",
       "        [11, 47, 31, 46, 28]],\n",
       "\n",
       "       [[29, 23, 27, 13, 18],\n",
       "        [12, 44, 11, 20, 36]],\n",
       "\n",
       "       [[30, 22, 30, 29, 25],\n",
       "        [48, 25, 46, 16, 38]]])"
      ]
     },
     "execution_count": 24,
     "metadata": {},
     "output_type": "execute_result"
    }
   ],
   "source": [
    "a.T"
   ]
  },
  {
   "cell_type": "code",
   "execution_count": null,
   "id": "6ae8612d-11fb-4d66-aa57-9e4f50220e1c",
   "metadata": {},
   "outputs": [],
   "source": []
  },
  {
   "cell_type": "code",
   "execution_count": 25,
   "id": "05ce628c-6558-439f-ae74-7b4e160f44ce",
   "metadata": {},
   "outputs": [
    {
     "data": {
      "text/plain": [
       "(5, 2, 3)"
      ]
     },
     "execution_count": 25,
     "metadata": {},
     "output_type": "execute_result"
    }
   ],
   "source": [
    "a.shape"
   ]
  },
  {
   "cell_type": "code",
   "execution_count": 29,
   "id": "6fd6e798-7a30-4f48-a18e-2fbb032470dc",
   "metadata": {},
   "outputs": [
    {
     "data": {
      "text/plain": [
       "array([[[10, 29, 30, 11, 12],\n",
       "        [48, 40, 23, 22, 47],\n",
       "        [44, 25, 22, 27, 30]],\n",
       "\n",
       "       [[31, 11, 46, 46, 13],\n",
       "        [29, 46, 20, 16, 23],\n",
       "        [18, 25, 28, 36, 38]]])"
      ]
     },
     "execution_count": 29,
     "metadata": {},
     "output_type": "execute_result"
    }
   ],
   "source": [
    "a.reshape(2,3,5)"
   ]
  },
  {
   "cell_type": "code",
   "execution_count": 30,
   "id": "9006efc9-b643-42fe-bef8-7c3beda84136",
   "metadata": {},
   "outputs": [
    {
     "data": {
      "text/plain": [
       "array([[[10, 29, 30, 11, 12],\n",
       "        [48, 40, 23, 22, 47],\n",
       "        [44, 25, 22, 27, 30]],\n",
       "\n",
       "       [[31, 11, 46, 46, 13],\n",
       "        [29, 46, 20, 16, 23],\n",
       "        [18, 25, 28, 36, 38]]])"
      ]
     },
     "execution_count": 30,
     "metadata": {},
     "output_type": "execute_result"
    }
   ],
   "source": [
    "a.reshape(-1,3,5)"
   ]
  },
  {
   "cell_type": "code",
   "execution_count": 31,
   "id": "dc45af86-7acd-4d57-af0f-351c2b4da240",
   "metadata": {},
   "outputs": [
    {
     "data": {
      "text/plain": [
       "array([10, 29, 30, 11, 12, 48, 40, 23, 22, 47, 44, 25, 22, 27, 30, 31, 11,\n",
       "       46, 46, 13, 29, 46, 20, 16, 23, 18, 25, 28, 36, 38])"
      ]
     },
     "execution_count": 31,
     "metadata": {},
     "output_type": "execute_result"
    }
   ],
   "source": [
    "a.ravel()"
   ]
  },
  {
   "cell_type": "code",
   "execution_count": 33,
   "id": "fc892541-f1bb-4488-81d3-789f56e57437",
   "metadata": {},
   "outputs": [
    {
     "data": {
      "text/plain": [
       "array([10, 29, 30, 11, 12, 48, 40, 23, 22, 47, 44, 25, 22, 27, 30, 31, 11,\n",
       "       46, 46, 13, 29, 46, 20, 16, 23, 18, 25, 28, 36, 38])"
      ]
     },
     "execution_count": 33,
     "metadata": {},
     "output_type": "execute_result"
    }
   ],
   "source": [
    "a.flatten()"
   ]
  },
  {
   "cell_type": "code",
   "execution_count": 50,
   "id": "b5dfebce-79b0-4b94-bca9-5ddf40a09074",
   "metadata": {},
   "outputs": [
    {
     "data": {
      "text/plain": [
       "(array([[8, 1, 4],\n",
       "        [6, 4, 3]]),\n",
       " array([[1, 1, 9],\n",
       "        [6, 8, 5]]))"
      ]
     },
     "execution_count": 50,
     "metadata": {},
     "output_type": "execute_result"
    }
   ],
   "source": [
    "b = np.random.randint(1,10, (2,3))\n",
    "c = np.random.randint(1,10, (2,3))\n",
    "b, c"
   ]
  },
  {
   "cell_type": "markdown",
   "id": "12ef456b-6a29-4eda-8492-2802386767dd",
   "metadata": {},
   "source": [
    "### 0 > column wise > vsatck\n",
    "### 1 > row wise > hstack"
   ]
  },
  {
   "cell_type": "code",
   "execution_count": 51,
   "id": "bb6459e3-3ece-4e9b-aec3-151e6553e35c",
   "metadata": {},
   "outputs": [
    {
     "data": {
      "text/plain": [
       "array([[8, 1, 4],\n",
       "       [6, 4, 3],\n",
       "       [1, 1, 9],\n",
       "       [6, 8, 5]])"
      ]
     },
     "execution_count": 51,
     "metadata": {},
     "output_type": "execute_result"
    }
   ],
   "source": [
    "d= np.concatenate([b,c],axis=0)\n",
    "d"
   ]
  },
  {
   "cell_type": "code",
   "execution_count": 53,
   "id": "0289a7a2-5d92-4cea-acb0-3a5358a7ed65",
   "metadata": {},
   "outputs": [
    {
     "data": {
      "text/plain": [
       "array([[8, 1, 4],\n",
       "       [6, 4, 3],\n",
       "       [1, 1, 9],\n",
       "       [6, 8, 5]])"
      ]
     },
     "execution_count": 53,
     "metadata": {},
     "output_type": "execute_result"
    }
   ],
   "source": [
    "np.vstack((b,c))"
   ]
  },
  {
   "cell_type": "code",
   "execution_count": 55,
   "id": "4b691bf8-4393-418e-b181-7a520bca56fa",
   "metadata": {},
   "outputs": [
    {
     "data": {
      "text/plain": [
       "array([[8, 1, 4, 1, 1, 9],\n",
       "       [6, 4, 3, 6, 8, 5]])"
      ]
     },
     "execution_count": 55,
     "metadata": {},
     "output_type": "execute_result"
    }
   ],
   "source": [
    "np.hstack((b,c))"
   ]
  },
  {
   "cell_type": "code",
   "execution_count": 59,
   "id": "e0a6383e-737c-40b4-a226-ac372cdaba9a",
   "metadata": {},
   "outputs": [
    {
     "data": {
      "text/plain": [
       "[array([[8],\n",
       "        [6],\n",
       "        [1],\n",
       "        [6]]),\n",
       " array([[1],\n",
       "        [4],\n",
       "        [1],\n",
       "        [8]]),\n",
       " array([[4],\n",
       "        [3],\n",
       "        [9],\n",
       "        [5]])]"
      ]
     },
     "execution_count": 59,
     "metadata": {},
     "output_type": "execute_result"
    }
   ],
   "source": [
    "np.split(d,3, axis=1)"
   ]
  },
  {
   "cell_type": "code",
   "execution_count": null,
   "id": "881a986e-fa18-42c3-850d-c64d86a97c5a",
   "metadata": {},
   "outputs": [],
   "source": []
  }
 ],
 "metadata": {
  "kernelspec": {
   "display_name": "Python 3 (ipykernel)",
   "language": "python",
   "name": "python3"
  },
  "language_info": {
   "codemirror_mode": {
    "name": "ipython",
    "version": 3
   },
   "file_extension": ".py",
   "mimetype": "text/x-python",
   "name": "python",
   "nbconvert_exporter": "python",
   "pygments_lexer": "ipython3",
   "version": "3.10.12"
  }
 },
 "nbformat": 4,
 "nbformat_minor": 5
}
