{
 "cells": [
  {
   "cell_type": "code",
   "execution_count": 1,
   "id": "d8178229-154a-4be9-9a17-e491841ac69d",
   "metadata": {},
   "outputs": [
    {
     "name": "stdout",
     "output_type": "stream",
     "text": [
      "Requirement already satisfied: numpy in /home/shailesh/Desktop/VritEducation/.vritenv/lib/python3.10/site-packages (2.2.6)\n"
     ]
    }
   ],
   "source": [
    "!pip install numpy"
   ]
  },
  {
   "cell_type": "code",
   "execution_count": 2,
   "id": "f5506027-5cf9-428a-8abc-15908864934a",
   "metadata": {},
   "outputs": [],
   "source": [
    "import numpy as np"
   ]
  },
  {
   "cell_type": "code",
   "execution_count": 3,
   "id": "5d3ce9c4-b306-4db8-bba1-2b7ce2ab5a39",
   "metadata": {},
   "outputs": [
    {
     "data": {
      "text/plain": [
       "'2.2.6'"
      ]
     },
     "execution_count": 3,
     "metadata": {},
     "output_type": "execute_result"
    }
   ],
   "source": [
    "np.__version__"
   ]
  },
  {
   "cell_type": "markdown",
   "id": "2c1dfa5b-8a06-489f-9765-11fc544667a4",
   "metadata": {},
   "source": [
    "## Creating Numpy Array"
   ]
  },
  {
   "cell_type": "code",
   "execution_count": 4,
   "id": "661321d7-f864-4c54-b240-2c2a38debd9b",
   "metadata": {},
   "outputs": [],
   "source": [
    "list1 = [[2,3,4]]"
   ]
  },
  {
   "cell_type": "code",
   "execution_count": 5,
   "id": "aeca53e1-4f34-4730-8f95-1913d0d56143",
   "metadata": {},
   "outputs": [],
   "source": [
    "arr1 = np.array(list1)"
   ]
  },
  {
   "cell_type": "code",
   "execution_count": 6,
   "id": "0ac02021-f1d4-43ee-90b7-79a551284112",
   "metadata": {},
   "outputs": [
    {
     "data": {
      "text/plain": [
       "array([[2, 3, 4]])"
      ]
     },
     "execution_count": 6,
     "metadata": {},
     "output_type": "execute_result"
    }
   ],
   "source": [
    "arr1"
   ]
  },
  {
   "cell_type": "code",
   "execution_count": 7,
   "id": "b21052c3-014c-4612-82c0-06a502373b6b",
   "metadata": {},
   "outputs": [
    {
     "data": {
      "text/plain": [
       "(1, 3)"
      ]
     },
     "execution_count": 7,
     "metadata": {},
     "output_type": "execute_result"
    }
   ],
   "source": [
    "arr1.shape"
   ]
  },
  {
   "cell_type": "code",
   "execution_count": 8,
   "id": "27272913-68ee-4236-8ab8-6b0b2d1d705d",
   "metadata": {},
   "outputs": [
    {
     "data": {
      "text/plain": [
       "2"
      ]
     },
     "execution_count": 8,
     "metadata": {},
     "output_type": "execute_result"
    }
   ],
   "source": [
    "arr1.ndim"
   ]
  },
  {
   "cell_type": "code",
   "execution_count": 9,
   "id": "e669d940-e3ac-4979-828f-4c2e1fb661b5",
   "metadata": {},
   "outputs": [],
   "source": [
    "list1 = [[2,3,4],\n",
    "        [6,7,8],\n",
    "        [3,5,6]]\n",
    "arr2 = np.array(list1)"
   ]
  },
  {
   "cell_type": "code",
   "execution_count": 10,
   "id": "455404b8-d64c-4b50-ac3d-105f0fead5a3",
   "metadata": {},
   "outputs": [
    {
     "data": {
      "text/plain": [
       "array([[2, 3, 4],\n",
       "       [6, 7, 8],\n",
       "       [3, 5, 6]])"
      ]
     },
     "execution_count": 10,
     "metadata": {},
     "output_type": "execute_result"
    }
   ],
   "source": [
    "arr2"
   ]
  },
  {
   "cell_type": "code",
   "execution_count": 11,
   "id": "98485d65-95ff-4157-8c9d-2b6fb2ef07a2",
   "metadata": {},
   "outputs": [
    {
     "data": {
      "text/plain": [
       "(3, 3)"
      ]
     },
     "execution_count": 11,
     "metadata": {},
     "output_type": "execute_result"
    }
   ],
   "source": [
    "arr2.shape"
   ]
  },
  {
   "cell_type": "code",
   "execution_count": 12,
   "id": "ca02db7e-3b78-421c-85c1-a4e550dfda9d",
   "metadata": {},
   "outputs": [
    {
     "data": {
      "text/plain": [
       "2"
      ]
     },
     "execution_count": 12,
     "metadata": {},
     "output_type": "execute_result"
    }
   ],
   "source": [
    "arr2.ndim"
   ]
  },
  {
   "cell_type": "markdown",
   "id": "0a375d4f-2151-4f09-a00b-e34137bd244b",
   "metadata": {},
   "source": [
    "NumPy arrays can be created in several ways. Here are some of the most common methods:\n",
    "\n",
    "- `array()`: Creates NumPy arrays from Python lists\n",
    "- `zeros()`: Creates NumPy arrays with all elements initialized to 0\n",
    "- `ones()`: Creates NumPy arrays with all elements initialized to 1\n",
    "- `full()`: Creates an array with all elements initialized to same user-specified value\n",
    "- `arange()`: Creates NumPy arrays with a sequence of values (similar to python range() function)\n",
    "- `linspace()`: Creates NumPy arrays with a sequence of evenly spaced values\n",
    "- `diag()`: Creates NumPy array with the provided list of numbers as the diagonal elements and zeros elsewhere\n",
    "- `eye()`: Creates NumPy array with ones on the diagonal and zeros elsewhere\n",
    "- `identity()`: Creates an identity matrix\n",
    "- `random.rand()`: Creates NumPy array of random numbers sampled from a uniform distribution"
   ]
  },
  {
   "cell_type": "code",
   "execution_count": 13,
   "id": "e98b91fa-500d-4cd5-9a64-3713d4c1dc1d",
   "metadata": {},
   "outputs": [
    {
     "data": {
      "text/plain": [
       "array([[0, 0, 0, 0],\n",
       "       [0, 0, 0, 0],\n",
       "       [0, 0, 0, 0],\n",
       "       [0, 0, 0, 0]])"
      ]
     },
     "execution_count": 13,
     "metadata": {},
     "output_type": "execute_result"
    }
   ],
   "source": [
    "np.zeros(shape = (4,4), dtype = \"int\")"
   ]
  },
  {
   "cell_type": "code",
   "execution_count": 14,
   "id": "f24d7838-5857-4fb2-af9d-af70d9ed79d7",
   "metadata": {},
   "outputs": [
    {
     "data": {
      "text/plain": [
       "array([[[1, 1, 1],\n",
       "        [1, 1, 1],\n",
       "        [1, 1, 1]],\n",
       "\n",
       "       [[1, 1, 1],\n",
       "        [1, 1, 1],\n",
       "        [1, 1, 1]]], dtype=int8)"
      ]
     },
     "execution_count": 14,
     "metadata": {},
     "output_type": "execute_result"
    }
   ],
   "source": [
    "np.ones(shape = (2, 3,3), dtype=\"int8\")"
   ]
  },
  {
   "cell_type": "code",
   "execution_count": 15,
   "id": "8db9182d-50cd-4a24-b3b9-82672ad69b90",
   "metadata": {},
   "outputs": [
    {
     "data": {
      "text/plain": [
       "array([[6.7, 6.7, 6.7, 6.7],\n",
       "       [6.7, 6.7, 6.7, 6.7],\n",
       "       [6.7, 6.7, 6.7, 6.7]])"
      ]
     },
     "execution_count": 15,
     "metadata": {},
     "output_type": "execute_result"
    }
   ],
   "source": [
    "np.full(shape=(3,4), fill_value=6.7)"
   ]
  },
  {
   "cell_type": "code",
   "execution_count": 16,
   "id": "27a58b07-6d19-4988-bd13-86f740efb3fc",
   "metadata": {},
   "outputs": [
    {
     "data": {
      "text/plain": [
       "array([ 1,  6, 11, 16, 21, 26, 31, 36, 41, 46, 51, 56, 61, 66, 71, 76, 81,\n",
       "       86])"
      ]
     },
     "execution_count": 16,
     "metadata": {},
     "output_type": "execute_result"
    }
   ],
   "source": [
    "np.arange(1,90,5)"
   ]
  },
  {
   "cell_type": "code",
   "execution_count": 17,
   "id": "b8b2bb20-55c1-4593-880f-d50e1a17b152",
   "metadata": {},
   "outputs": [
    {
     "data": {
      "text/plain": [
       "array([[ 0.        ,  1.        ,  2.        ],\n",
       "       [ 0.52631579,  2.        ,  3.47368421],\n",
       "       [ 1.05263158,  3.        ,  4.94736842],\n",
       "       [ 1.57894737,  4.        ,  6.42105263],\n",
       "       [ 2.10526316,  5.        ,  7.89473684],\n",
       "       [ 2.63157895,  6.        ,  9.36842105],\n",
       "       [ 3.15789474,  7.        , 10.84210526],\n",
       "       [ 3.68421053,  8.        , 12.31578947],\n",
       "       [ 4.21052632,  9.        , 13.78947368],\n",
       "       [ 4.73684211, 10.        , 15.26315789],\n",
       "       [ 5.26315789, 11.        , 16.73684211],\n",
       "       [ 5.78947368, 12.        , 18.21052632],\n",
       "       [ 6.31578947, 13.        , 19.68421053],\n",
       "       [ 6.84210526, 14.        , 21.15789474],\n",
       "       [ 7.36842105, 15.        , 22.63157895],\n",
       "       [ 7.89473684, 16.        , 24.10526316],\n",
       "       [ 8.42105263, 17.        , 25.57894737],\n",
       "       [ 8.94736842, 18.        , 27.05263158],\n",
       "       [ 9.47368421, 19.        , 28.52631579],\n",
       "       [10.        , 20.        , 30.        ]])"
      ]
     },
     "execution_count": 17,
     "metadata": {},
     "output_type": "execute_result"
    }
   ],
   "source": [
    "np.linspace((0,1,2),(10,20,30) ,num=20)"
   ]
  },
  {
   "cell_type": "code",
   "execution_count": 18,
   "id": "6c7c8d10-0a3f-4600-8f76-0148d23b15c7",
   "metadata": {},
   "outputs": [
    {
     "data": {
      "text/plain": [
       "array([[9, 3],\n",
       "       [5, 5]])"
      ]
     },
     "execution_count": 18,
     "metadata": {},
     "output_type": "execute_result"
    }
   ],
   "source": [
    "np.random.randint(0,10, size = (2,2))"
   ]
  },
  {
   "cell_type": "code",
   "execution_count": null,
   "id": "421cf9ad-7c8f-4184-89ee-42d6a38de9f9",
   "metadata": {},
   "outputs": [],
   "source": []
  },
  {
   "cell_type": "code",
   "execution_count": 19,
   "id": "5149212a-c9fd-4a2a-aed9-1a56564bfa87",
   "metadata": {},
   "outputs": [
    {
     "data": {
      "text/plain": [
       "array([[[[1, 1, 1]],\n",
       "\n",
       "        [[1, 1, 1]]],\n",
       "\n",
       "\n",
       "       [[[1, 1, 1]],\n",
       "\n",
       "        [[1, 1, 1]]]], dtype=int8)"
      ]
     },
     "execution_count": 19,
     "metadata": {},
     "output_type": "execute_result"
    }
   ],
   "source": [
    "np.ones(shape = (2, 2, 1, 3), dtype=\"int8\")"
   ]
  },
  {
   "cell_type": "markdown",
   "id": "647e30df-02f7-494d-8f2c-c5b7fc65032c",
   "metadata": {},
   "source": [
    "## Accessing an Array"
   ]
  },
  {
   "cell_type": "markdown",
   "id": "8642f681-b36d-48ea-a7cf-5eb7fbf9c3ab",
   "metadata": {},
   "source": [
    "## Indexing and Slicing NumPy Arrays\n",
    "\n",
    "NumPy arrays can be indexed and sliced in several ways depending on the number of dimensions.\n",
    "\n",
    "### Indexing:\n",
    "\n",
    "Indexing follows a simple rule that we may have encountered before. Let's give it a try.\n",
    "\n",
    "- 1D Array: array_name[idx] (Similar to Python list)\n",
    "- 2D Array: array_name[row_idx, col_idx] (Similar to Matrix)\n",
    "- ND Array: array_name[dim1_idx, dim2_idx, ..., dimN_idx]\n",
    "\n",
    "**OR**\n",
    "\n",
    "- 2D Array: array_name[row_idx][col_idx]\n",
    "- ND Array: array_name[dim1_idx][dim2_idx] ... [dimN_idx]\n",
    "\n",
    "\n",
    " ### Slicing:\n",
    "\n",
    "Slicing follows the same rule as indexing. The only difference is that for each dimension we provide it with a range of indeces and sometimes (optional) step size (similar to arange() function discussed above).\n",
    "\n",
    "- 1D Array: array_name[idx1:idx2:step]\n",
    "- 2D Array: array_name[row_idx1:row_idx2:step1, col_idx1:col_idx2:step2]\n",
    "- ND Array: array_name[dim1_idx1:dim1_idx2:step1, ..., dimN_idx1:dimN_idx2:stepN]"
   ]
  },
  {
   "cell_type": "code",
   "execution_count": 20,
   "id": "05d04d20-22e8-4bdb-90af-65143ab67626",
   "metadata": {},
   "outputs": [],
   "source": [
    "#1D\n",
    "a = np.array([1,2,3,4,5])"
   ]
  },
  {
   "cell_type": "code",
   "execution_count": 21,
   "id": "013ff068-a177-452f-9368-6e18f0bb11ef",
   "metadata": {},
   "outputs": [
    {
     "data": {
      "text/plain": [
       "np.int64(3)"
      ]
     },
     "execution_count": 21,
     "metadata": {},
     "output_type": "execute_result"
    }
   ],
   "source": [
    "a[-3]"
   ]
  },
  {
   "cell_type": "code",
   "execution_count": 22,
   "id": "727c07fc-e34f-4424-847d-114533bb2d6a",
   "metadata": {},
   "outputs": [
    {
     "data": {
      "text/plain": [
       "array([5, 4, 3, 2, 1])"
      ]
     },
     "execution_count": 22,
     "metadata": {},
     "output_type": "execute_result"
    }
   ],
   "source": [
    "a[::-1]"
   ]
  },
  {
   "cell_type": "code",
   "execution_count": 23,
   "id": "86de40d4-c205-4a8e-9ae7-f1ed56e09ad0",
   "metadata": {},
   "outputs": [],
   "source": [
    "#2D\n",
    "b = np.random.randint(0,25, size=(3,3))"
   ]
  },
  {
   "cell_type": "code",
   "execution_count": 24,
   "id": "14b8d658-3a89-4ef5-b0ed-b15244f99368",
   "metadata": {},
   "outputs": [
    {
     "data": {
      "text/plain": [
       "array([[16,  3, 11],\n",
       "       [20, 10,  7],\n",
       "       [16,  2, 20]])"
      ]
     },
     "execution_count": 24,
     "metadata": {},
     "output_type": "execute_result"
    }
   ],
   "source": [
    "b"
   ]
  },
  {
   "cell_type": "code",
   "execution_count": 25,
   "id": "c52ce890-6be7-4415-811b-bed23cf32453",
   "metadata": {},
   "outputs": [
    {
     "data": {
      "text/plain": [
       "np.int64(20)"
      ]
     },
     "execution_count": 25,
     "metadata": {},
     "output_type": "execute_result"
    }
   ],
   "source": [
    "b[1,0]"
   ]
  },
  {
   "cell_type": "code",
   "execution_count": 26,
   "id": "e64447bc-de4a-46a4-82b1-29f7425f087a",
   "metadata": {},
   "outputs": [
    {
     "data": {
      "text/plain": [
       "np.int64(16)"
      ]
     },
     "execution_count": 26,
     "metadata": {},
     "output_type": "execute_result"
    }
   ],
   "source": [
    "b[-1,0] #or b[-1][0]"
   ]
  },
  {
   "cell_type": "code",
   "execution_count": 27,
   "id": "96a0af4b-2af3-42d0-973d-65ab3e1d05b8",
   "metadata": {},
   "outputs": [
    {
     "data": {
      "text/plain": [
       "array([20, 10,  7])"
      ]
     },
     "execution_count": 27,
     "metadata": {},
     "output_type": "execute_result"
    }
   ],
   "source": [
    "# Slicing 2D array : (array[<row_slice>, <col_slice>])\n",
    "b[1,:3]"
   ]
  },
  {
   "cell_type": "code",
   "execution_count": 28,
   "id": "b2ddd9b1-4f22-4bb2-899c-944364eb3369",
   "metadata": {},
   "outputs": [
    {
     "data": {
      "text/plain": [
       "array([11,  7, 20])"
      ]
     },
     "execution_count": 28,
     "metadata": {},
     "output_type": "execute_result"
    }
   ],
   "source": [
    "b[:,2]"
   ]
  },
  {
   "cell_type": "code",
   "execution_count": 29,
   "id": "3ff843aa-a605-4161-bc1d-540b119fa22f",
   "metadata": {},
   "outputs": [],
   "source": [
    "#3D\n",
    "c = np.random.randint(0,25, size=(3,3,2))"
   ]
  },
  {
   "cell_type": "code",
   "execution_count": 30,
   "id": "db9cb173-0e42-40f9-8a3d-55d770a10cb7",
   "metadata": {},
   "outputs": [
    {
     "data": {
      "text/plain": [
       "array([[[21, 10],\n",
       "        [18,  9],\n",
       "        [24, 24]],\n",
       "\n",
       "       [[ 2, 14],\n",
       "        [20,  1],\n",
       "        [ 7, 12]],\n",
       "\n",
       "       [[ 4, 24],\n",
       "        [13,  8],\n",
       "        [ 9,  8]]])"
      ]
     },
     "execution_count": 30,
     "metadata": {},
     "output_type": "execute_result"
    }
   ],
   "source": [
    "c"
   ]
  },
  {
   "cell_type": "code",
   "execution_count": 31,
   "id": "5a8c1bc5-4d94-41af-bf48-ef6884097006",
   "metadata": {},
   "outputs": [
    {
     "data": {
      "text/plain": [
       "np.int64(24)"
      ]
     },
     "execution_count": 31,
     "metadata": {},
     "output_type": "execute_result"
    }
   ],
   "source": [
    "c[0, 2, 1]"
   ]
  },
  {
   "cell_type": "code",
   "execution_count": 32,
   "id": "ec397197-5d7a-4491-8d14-8f305015b7ca",
   "metadata": {},
   "outputs": [
    {
     "data": {
      "text/plain": [
       "array([[21, 10],\n",
       "       [18,  9],\n",
       "       [24, 24]])"
      ]
     },
     "execution_count": 32,
     "metadata": {},
     "output_type": "execute_result"
    }
   ],
   "source": [
    "c[0]"
   ]
  },
  {
   "cell_type": "code",
   "execution_count": 33,
   "id": "788b0dfc-37f8-40a1-8cc7-6db611e08c62",
   "metadata": {},
   "outputs": [
    {
     "data": {
      "text/plain": [
       "array([24, 24])"
      ]
     },
     "execution_count": 33,
     "metadata": {},
     "output_type": "execute_result"
    }
   ],
   "source": [
    "c[0][2]"
   ]
  },
  {
   "cell_type": "code",
   "execution_count": 34,
   "id": "9fb00716-48e6-4130-bd86-b49643868d41",
   "metadata": {},
   "outputs": [
    {
     "data": {
      "text/plain": [
       "np.int64(24)"
      ]
     },
     "execution_count": 34,
     "metadata": {},
     "output_type": "execute_result"
    }
   ],
   "source": [
    "c[0][2][1]"
   ]
  },
  {
   "cell_type": "code",
   "execution_count": 35,
   "id": "c7576e80-f840-4cb1-a3a9-792a4ad21282",
   "metadata": {},
   "outputs": [
    {
     "data": {
      "text/plain": [
       "array([[[21, 10],\n",
       "        [18,  9],\n",
       "        [24, 24]],\n",
       "\n",
       "       [[ 2, 14],\n",
       "        [20,  1],\n",
       "        [ 7, 12]],\n",
       "\n",
       "       [[ 4, 24],\n",
       "        [13,  8],\n",
       "        [ 9,  8]]])"
      ]
     },
     "execution_count": 35,
     "metadata": {},
     "output_type": "execute_result"
    }
   ],
   "source": [
    "c"
   ]
  },
  {
   "cell_type": "code",
   "execution_count": 36,
   "id": "5eb76a8b-1c55-4533-9066-178e294c915c",
   "metadata": {},
   "outputs": [
    {
     "data": {
      "text/plain": [
       "array([[24, 24],\n",
       "       [ 7, 12],\n",
       "       [ 9,  8]])"
      ]
     },
     "execution_count": 36,
     "metadata": {},
     "output_type": "execute_result"
    }
   ],
   "source": [
    "c[:,2,:]"
   ]
  },
  {
   "cell_type": "code",
   "execution_count": null,
   "id": "5c95a92a-15cf-48b3-83d9-9637e75f4773",
   "metadata": {},
   "outputs": [],
   "source": []
  },
  {
   "cell_type": "code",
   "execution_count": 37,
   "id": "d95a4bb6-ca89-4b81-b9b8-4c222faacd9b",
   "metadata": {},
   "outputs": [],
   "source": [
    "dataset = np.random.randint(0,100, (1600,25))"
   ]
  },
  {
   "cell_type": "code",
   "execution_count": 38,
   "id": "101a549b-4429-44b2-9ca7-4efdf9443ea1",
   "metadata": {},
   "outputs": [
    {
     "data": {
      "text/plain": [
       "(1600, 25)"
      ]
     },
     "execution_count": 38,
     "metadata": {},
     "output_type": "execute_result"
    }
   ],
   "source": [
    "dataset.shape"
   ]
  },
  {
   "cell_type": "code",
   "execution_count": 39,
   "id": "bc336a14-8e8f-4f2d-8b33-1eea9ff1d25c",
   "metadata": {},
   "outputs": [],
   "source": [
    "image_dataset = np.random.randint(0,255, (16,3,720,720))"
   ]
  },
  {
   "cell_type": "code",
   "execution_count": 40,
   "id": "d680886d-143c-440b-9651-65221c006e81",
   "metadata": {},
   "outputs": [
    {
     "data": {
      "text/plain": [
       "array([[ 51, 253,  46, ..., 125, 231,  20],\n",
       "       [120, 240, 185, ...,  98, 202, 135],\n",
       "       [ 18,  74, 137, ...,  10, 219, 154],\n",
       "       ...,\n",
       "       [ 44, 222,  15, ...,   6, 223, 211],\n",
       "       [190,  41,  95, ..., 212,  12, 159],\n",
       "       [ 76, 141,  17, ..., 147, 140,  95]], shape=(720, 720))"
      ]
     },
     "execution_count": 40,
     "metadata": {},
     "output_type": "execute_result"
    }
   ],
   "source": [
    "image_dataset[1, 0, :,:]"
   ]
  },
  {
   "cell_type": "markdown",
   "id": "c1a32454-c3a2-41c0-807c-914664ae3c19",
   "metadata": {},
   "source": [
    "### Boolean or Mask Indexing:\n",
    "\n",
    "Boolean or mask indexing is a powerful feature in NumPy that allows you to use boolean arrays (or masks) to select elements from another array. The basic idea behind boolean indexing is to create a boolean array with the same shape as the array you want to select from, where each element of the boolean array corresponds to whether or not you want to select the corresponding element from the other array."
   ]
  },
  {
   "cell_type": "code",
   "execution_count": 41,
   "id": "186e5621-429d-455f-908a-1112d0013812",
   "metadata": {},
   "outputs": [
    {
     "data": {
      "text/plain": [
       "array([[8, 1, 7, 7, 3],\n",
       "       [9, 7, 2, 9, 6],\n",
       "       [6, 1, 2, 2, 4],\n",
       "       [8, 2, 8, 9, 3],\n",
       "       [6, 1, 4, 1, 7]])"
      ]
     },
     "execution_count": 41,
     "metadata": {},
     "output_type": "execute_result"
    }
   ],
   "source": [
    "a = np.random.randint(1,10,(5,5))\n",
    "a"
   ]
  },
  {
   "cell_type": "code",
   "execution_count": 42,
   "id": "093f6304-0e6d-4756-b40c-ff690be880a7",
   "metadata": {},
   "outputs": [],
   "source": [
    "mask = a > 5"
   ]
  },
  {
   "cell_type": "code",
   "execution_count": 43,
   "id": "b5000754-6a2a-4827-b5ac-4cc2b72f0aab",
   "metadata": {},
   "outputs": [
    {
     "data": {
      "text/plain": [
       "array([[ True, False,  True,  True, False],\n",
       "       [ True,  True, False,  True,  True],\n",
       "       [ True, False, False, False, False],\n",
       "       [ True, False,  True,  True, False],\n",
       "       [ True, False, False, False,  True]])"
      ]
     },
     "execution_count": 43,
     "metadata": {},
     "output_type": "execute_result"
    }
   ],
   "source": [
    "mask"
   ]
  },
  {
   "cell_type": "code",
   "execution_count": 44,
   "id": "88d3ca80-9fa6-4dc1-9739-097114c21b39",
   "metadata": {},
   "outputs": [
    {
     "data": {
      "text/plain": [
       "array([8, 7, 7, 9, 7, 9, 6, 6, 8, 8, 9, 6, 7])"
      ]
     },
     "execution_count": 44,
     "metadata": {},
     "output_type": "execute_result"
    }
   ],
   "source": [
    "a[mask]"
   ]
  },
  {
   "cell_type": "code",
   "execution_count": 45,
   "id": "a07fbc41-e4ca-45d8-9e87-a934920e296a",
   "metadata": {},
   "outputs": [],
   "source": [
    "mask = [True, False, False, True, True]"
   ]
  },
  {
   "cell_type": "code",
   "execution_count": 46,
   "id": "4737874c-b1f2-4888-9ac7-d4c56143ab8e",
   "metadata": {},
   "outputs": [
    {
     "data": {
      "text/plain": [
       "array([[8, 7, 3],\n",
       "       [9, 9, 6],\n",
       "       [6, 2, 4],\n",
       "       [8, 9, 3],\n",
       "       [6, 1, 7]])"
      ]
     },
     "execution_count": 46,
     "metadata": {},
     "output_type": "execute_result"
    }
   ],
   "source": [
    "a[:,mask]"
   ]
  },
  {
   "cell_type": "code",
   "execution_count": 47,
   "id": "a360e738-8615-4f1e-968f-e8ce79a9451e",
   "metadata": {},
   "outputs": [
    {
     "data": {
      "text/plain": [
       "array([[8, 1, 7, 7, 3],\n",
       "       [9, 7, 2, 9, 6],\n",
       "       [6, 1, 2, 2, 4],\n",
       "       [8, 2, 8, 9, 3],\n",
       "       [6, 1, 4, 1, 7]])"
      ]
     },
     "execution_count": 47,
     "metadata": {},
     "output_type": "execute_result"
    }
   ],
   "source": [
    "a"
   ]
  },
  {
   "cell_type": "code",
   "execution_count": null,
   "id": "12b95273-0f4a-4db6-aaaa-b9186442d56b",
   "metadata": {},
   "outputs": [],
   "source": []
  }
 ],
 "metadata": {
  "kernelspec": {
   "display_name": "Python 3 (ipykernel)",
   "language": "python",
   "name": "python3"
  },
  "language_info": {
   "codemirror_mode": {
    "name": "ipython",
    "version": 3
   },
   "file_extension": ".py",
   "mimetype": "text/x-python",
   "name": "python",
   "nbconvert_exporter": "python",
   "pygments_lexer": "ipython3",
   "version": "3.10.12"
  }
 },
 "nbformat": 4,
 "nbformat_minor": 5
}
